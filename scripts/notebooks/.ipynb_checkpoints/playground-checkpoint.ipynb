{
 "cells": [
  {
   "cell_type": "code",
   "execution_count": 159,
   "metadata": {},
   "outputs": [
    {
     "name": "stdout",
     "output_type": "stream",
     "text": [
      "The autoreload extension is already loaded. To reload it, use:\n",
      "  %reload_ext autoreload\n"
     ]
    }
   ],
   "source": [
    "# Imports\n",
    "%load_ext autoreload\n",
    "%autoreload 2\n",
    "#%matplotlib ipympl\n",
    "#%matplotlib widget\n",
    "import pathlib\n",
    "import sys\n",
    "import random\n",
    "sys.path.append('../')\n",
    "\n",
    "import torch\n",
    "import torch.utils.data\n",
    "import torchvision.utils\n",
    "from torch import nn, optim\n",
    "from torch.nn import functional as F\n",
    "from torchvision import datasets, transforms\n",
    "from torch.utils.data import Dataset\n",
    "\n",
    "import numpy as np\n",
    "import math\n",
    "\n",
    "import fastprogress\n",
    "import matplotlib.pyplot as plt\n",
    "import scipy.stats as stats\n",
    "\n",
    "import pandas as pd\n",
    "import shutil\n",
    "from sklearn.metrics import r2_score\n",
    "\n",
    "from bayesian_q10.experiments import experiment\n",
    "from bayesian_q10.analysis.visualization import density_scatter\n",
    "from bayesian_q10.datasets.preprocessing import * \n",
    "from bayesian_q10.analysis.postprocessing import * "
   ]
  },
  {
   "cell_type": "code",
   "execution_count": 169,
   "metadata": {},
   "outputs": [],
   "source": [
    "dataset_config = dict(\n",
    "                site_name = 'FI-Hyy',\n",
    "                syn = False,\n",
    "                Q10=1.5,\n",
    "                relnoise=0.05,\n",
    "                transform_T = True,\n",
    "                month_wise= True,\n",
    "                delta = 'heuristic3', #fixed value, max_heuristic, slope_heuristic \n",
    "                X = ['VPD', 'TA','wdefcum', \"SW_POT_sm\", \"SW_POT_sm_diff\"],\n",
    "                W = [], #['SW_POT_sm', 'SW_POT_sm_diff'], #['wdefcum'],\n",
    "                years = list(range(2015,2019)), #'all'\n",
    "                norm_type = 'standardize'\n",
    "                )\n",
    "\n",
    "\n",
    "model_y_config = dict(model = 'GradientBoostingRegressor',\n",
    "                      min_samples_split = 10,\n",
    "                      min_samples_leaf = 20)\n",
    "model_t_config = dict(model = 'GradientBoostingRegressor',\n",
    "                      min_samples_split = 10,\n",
    "                      min_samples_leaf = 20)\n",
    "model_final_config = dict(model = 'GradientBoostingRegressor',\n",
    "                      min_samples_split = 2,\n",
    "                      min_samples_leaf = 5)\n",
    "dml_config = dict(cv=10)\n",
    "\n",
    "model_configs = dict(y = model_y_config,\n",
    "                    t = model_t_config,\n",
    "                    final= model_final_config,\n",
    "                    dml =dml_config)\n",
    "\n",
    "experiment_config = dict(experiment_type = \"flux_partitioning\",\n",
    "                         comment=\"test\",\n",
    "                         seed=1)"
   ]
  },
  {
   "cell_type": "code",
   "execution_count": 170,
   "metadata": {},
   "outputs": [
    {
     "name": "stdout",
     "output_type": "stream",
     "text": [
      "Create new experiment folder : /usr/users/kcohrs/bayesian-q10/exp/FPDML_FI-Hyy_2022-07-05_5\n",
      "2015\n",
      "[ 0.09559357  0.39406545 -0.37405903]\n",
      "[ 0.03312192  0.01838302 -0.59312195]\n",
      "[ 0.06444883  0.02537968 -0.85326278]\n",
      "[ 0.04439503  0.00426038 -1.38737916]\n",
      "[ 0.0640886   0.00393608 -2.42268608]\n",
      "[ 7.81582636e-02  2.90254954e-03 -4.42298194e+00]\n",
      "[ 8.96082541e-02  3.08710143e-03 -5.15882694e+00]\n",
      "[ 1.00656748e-01  4.22154235e-03 -5.12476561e+00]\n",
      "[ 8.97108099e-02  3.74978015e-03 -3.75045792e+00]\n",
      "[ 0.05755563  0.00350499 -2.25608004]\n",
      "[ 0.0272163  -0.00200352 -1.18263846]\n",
      "[ 0.03604157  0.00966256 -0.93442414]\n",
      "2016\n",
      "[ 0.00512134 -0.00552433 -0.36469134]\n",
      "[ 0.10888467  0.22604247 -0.57187712]\n",
      "[ 0.01424856  0.00452472 -0.66732426]\n",
      "[ 0.05128256  0.00593009 -1.45269733]\n",
      "[ 0.0830218   0.00505699 -3.24642193]\n",
      "[ 1.05539783e-01  4.38720591e-03 -5.17533654e+00]\n",
      "[ 1.14027532e-01  4.03275661e-03 -6.02102069e+00]\n",
      "[ 9.71973631e-02  3.15208983e-03 -5.30255629e+00]\n",
      "[ 7.56339869e-02  3.10712031e-03 -3.64306748e+00]\n",
      "[ 2.93606665e-02  1.41615493e-04 -1.37438919e+00]\n",
      "[-0.01005922  0.00811983 -0.59377496]\n",
      "[ 0.04225421  0.12352239 -0.47578126]\n",
      "2017\n",
      "[ 0.03751634  0.00815086 -0.91242392]\n",
      "[ 0.04611902  0.04727945 -0.53606852]\n",
      "[ 0.04080156  0.01378672 -0.82732004]\n",
      "[ 0.04714404  0.00956724 -1.24976936]\n",
      "[ 0.05261946  0.00432991 -2.21530186]\n",
      "[ 9.14445013e-02  3.96201205e-03 -4.63876373e+00]\n",
      "[ 1.10510170e-01  3.74291294e-03 -5.87123065e+00]\n",
      "[ 1.04368647e-01  3.17259823e-03 -5.65808261e+00]\n",
      "[ 7.61398425e-02  2.39361450e-03 -3.56490796e+00]\n",
      "[ 0.05811604  0.00260622 -2.04262279]\n",
      "[ 0.04991854  0.0095479  -1.2391478 ]\n",
      "[ 0.01243964  0.00251762 -0.71716456]\n",
      "2018\n",
      "[ 0.00214509 -0.00834847 -0.57813063]\n",
      "[ 2.44821666e-02  2.98940818e-04 -1.03554993e+00]\n",
      "[ 0.04666617  0.00328707 -1.58435395]\n",
      "[ 0.04950415  0.00384529 -1.5490898 ]\n",
      "[ 5.10401661e-02  2.54798228e-03 -2.71903812e+00]\n",
      "[ 8.36562007e-02  3.28561166e-03 -4.06957874e+00]\n",
      "[ 8.85498932e-02  3.71636988e-03 -5.37761602e+00]\n",
      "[ 7.77163297e-02  3.24101925e-03 -4.27459056e+00]\n",
      "[ 7.76964797e-02  3.07855377e-03 -3.63770232e+00]\n",
      "[ 0.0521543   0.00289879 -2.25339793]\n",
      "[ 2.43661863e-02  2.74088931e-04 -1.19412313e+00]\n",
      "[ 0.01434926  0.00658528 -0.6332429 ]\n"
     ]
    }
   ],
   "source": [
    "exp = experiment.FluxPartDML2()\n",
    "exp.new('FI-Hyy')\n",
    "exp.configs(experiment_config, dataset_config, model_configs)\n",
    "exp.prepare_data()\n",
    "exp.fit_models()\n",
    "#exp.all_analysis()"
   ]
  },
  {
   "cell_type": "code",
   "execution_count": 190,
   "metadata": {},
   "outputs": [],
   "source": [
    "model_RECO_config = dict(hidden_nodes=10,\n",
    "                        hidden_layer=2,\n",
    "                        batch_norm=True,\n",
    "                        non_linearity='ELU')\n",
    "model_LUE_config = dict(hidden_nodes=10,\n",
    "                        hidden_layer=2,\n",
    "                        batch_norm=True,\n",
    "                        non_linearity='ELU')\n",
    "\n",
    "model_configs = dict(RECO = model_RECO_config,\n",
    "                    LUE = model_LUE_config)\n"
   ]
  },
  {
   "cell_type": "code",
   "execution_count": 241,
   "metadata": {},
   "outputs": [],
   "source": [
    "import torch.nn as nn\n",
    "import torch\n",
    "\n",
    "def adaptive_elu(x, xshift, yshift):\n",
    "    return F.elu(x - xshift, inplace=True) + yshift\n",
    "\n",
    "class AdaptiveELU(nn.Module):\n",
    "    \"\"\"\n",
    "    ELU shifted by user specified values. This helps to ensure the output to stay positive.\n",
    "    \"\"\"\n",
    "\n",
    "    def __init__(self, xshift, yshift, **kwargs):\n",
    "        super(AdaptiveELU, self).__init__(**kwargs)\n",
    "\n",
    "        self.xshift = xshift\n",
    "        self.yshift = yshift\n",
    "\n",
    "    def forward(self, x):\n",
    "        return adaptive_elu(x, self.xshift, self.yshift)\n",
    "\n",
    "    \n",
    "class MLP(nn.Module, model_config):\n",
    "    def __init__(self, model_config):\n",
    "        super().__init__()\n",
    "        \n",
    "        hidden_nodes = model_config['hidden_nodes']\n",
    "        hidden_layers = model_config['hidden_layers']\n",
    "        \n",
    "        #reco_layers = [nn.Linear(3,hidden_units, bias=True),\n",
    "        #              AdaptiveELU(1,1),\n",
    "        #              nn.Linear(hidden_units, hidden_units, bias=True),\n",
    "        #              AdaptiveELU(1,1),\n",
    "        #              nn.Linear(hidden_units, 1, bias=True),\n",
    "        #              AdaptiveELU(1,1)]\n",
    "        #self.RECO = nn.Sequential(*reco_layers)\n",
    "\n",
    "        #lue_layers = [nn.Linear(2,hidden_units, bias=True),\n",
    "        #              AdaptiveELU(1,1),\n",
    "        #              nn.Linear(hidden_units, hidden_units, bias=True),\n",
    "        #              AdaptiveELU(1,1),\n",
    "        #              nn.Linear(hidden_units, 1, bias=True),\n",
    "        #              AdaptiveELU(1,1)]\n",
    "        #self.LUE = nn.Sequential(*lue_layers)\n",
    "\n",
    "        reco_layers = [nn.Linear(3,hidden_units, bias=True),\n",
    "                      nn.ReLU(),\n",
    "                      nn.Linear(hidden_units, hidden_units, bias=True),\n",
    "                      nn.ReLU(),\n",
    "                      nn.Linear(hidden_units, 1, bias=True),\n",
    "                      nn.ReLU()]\n",
    "        self.RECO = nn.Sequential(*reco_layers)\n",
    "\n",
    "        lue_layers = [nn.Linear(2,hidden_units, bias=True),\n",
    "                      nn.ReLU(),\n",
    "                      nn.Linear(hidden_units, hidden_units, bias=True),\n",
    "                      nn.ReLU(),\n",
    "                      nn.Linear(hidden_units, 1, bias=True),\n",
    "                      nn.ReLU()]\n",
    "        \n",
    "        self.LUE = nn.Sequential(*lue_layers)\n",
    "\n",
    "        \n",
    "        \n",
    "    def forward(self, x):\n",
    "        t = x[:,3].unsqueeze(-1)\n",
    "        w = x[:,2].unsqueeze(-1)\n",
    "        x = x[:,:2]\n",
    "        reco = self.RECO(torch.hstack((x,w)))\n",
    "        gpp = -t*self.LUE(x)\n",
    "        return reco + gpp    \n",
    "\n",
    "class FLX_NN(nn.Module, dataset_config, model_configs):\n",
    "    def __init__(self, hidden_units=14):\n",
    "        super().__init__()\n",
    "        \n",
    "        \n",
    "        \n",
    "        \n",
    "        #reco_layers = [nn.Linear(3,hidden_units, bias=True),\n",
    "        #              AdaptiveELU(1,1),\n",
    "        #              nn.Linear(hidden_units, hidden_units, bias=True),\n",
    "        #              AdaptiveELU(1,1),\n",
    "        #              nn.Linear(hidden_units, 1, bias=True),\n",
    "        #              AdaptiveELU(1,1)]\n",
    "        #self.RECO = nn.Sequential(*reco_layers)\n",
    "\n",
    "        #lue_layers = [nn.Linear(2,hidden_units, bias=True),\n",
    "        #              AdaptiveELU(1,1),\n",
    "        #              nn.Linear(hidden_units, hidden_units, bias=True),\n",
    "        #              AdaptiveELU(1,1),\n",
    "        #              nn.Linear(hidden_units, 1, bias=True),\n",
    "        #              AdaptiveELU(1,1)]\n",
    "        #self.LUE = nn.Sequential(*lue_layers)\n",
    "\n",
    "        reco_layers = [nn.Linear(3,hidden_units, bias=True),\n",
    "                      nn.ReLU(),\n",
    "                      nn.Linear(hidden_units, hidden_units, bias=True),\n",
    "                      nn.ReLU(),\n",
    "                      nn.Linear(hidden_units, 1, bias=True),\n",
    "                      nn.ReLU()]\n",
    "        self.RECO = nn.Sequential(*reco_layers)\n",
    "\n",
    "        lue_layers = [nn.Linear(2,hidden_units, bias=True),\n",
    "                      nn.ReLU(),\n",
    "                      nn.Linear(hidden_units, hidden_units, bias=True),\n",
    "                      nn.ReLU(),\n",
    "                      nn.Linear(hidden_units, 1, bias=True),\n",
    "                      nn.ReLU()]\n",
    "        \n",
    "        self.LUE = nn.Sequential(*lue_layers)\n",
    "\n",
    "        \n",
    "        \n",
    "    def forward(self, x):\n",
    "        t = x[:,3].unsqueeze(-1)\n",
    "        w = x[:,2].unsqueeze(-1)\n",
    "        x = x[:,:2]\n",
    "        reco = self.RECO(torch.hstack((x,w)))\n",
    "        gpp = -t*self.LUE(x)\n",
    "        return reco + gpp\n",
    "        \n",
    "def weights_init(m):\n",
    "    classname = m.__class__.__name__\n",
    "    if classname.find('Linear') != -1:\n",
    "        m.weight.data.normal_(0.0, 0.02)\n",
    "    elif classname.find('BatchNorm') != -1:\n",
    "        m.weight.data.normal_(1.0, 0.02)\n",
    "        m.bias.data.fill_(0)"
   ]
  },
  {
   "cell_type": "code",
   "execution_count": 243,
   "metadata": {},
   "outputs": [],
   "source": [
    "flxnn = FLX_NN(hidden_units=10)"
   ]
  },
  {
   "cell_type": "code",
   "execution_count": 184,
   "metadata": {},
   "outputs": [],
   "source": [
    "indices = (exp.data['Year']==2016)\n",
    "X = exp.data.loc[indices, [var + '_n' for var in exp.dataset_config['X']]].values\n",
    "W = exp.data.loc[indices, [var + '_n' for var in exp.dataset_config['W']]].values\n",
    "T = exp.data.loc[indices, 'T'].values\n",
    "Y = exp.data.loc[indices, 'NEE'].values\n",
    "\n",
    "data = Dataset(np.hstack((X,W,np.expand_dims(T,-1))), Y)\n",
    "data_train, data_val = data.split([0.7,1.0])"
   ]
  },
  {
   "cell_type": "code",
   "execution_count": 183,
   "metadata": {},
   "outputs": [],
   "source": [
    "### Build the dataloader\n",
    "class Dataset():\n",
    "    def __init__(self, inputs, targets): \n",
    "        self.inputs  = inputs.astype(np.float32)\n",
    "        self.targets = targets.astype(np.float32)\n",
    "        \n",
    "    def __len__(self):\n",
    "        return len(self.inputs)\n",
    "\n",
    "    def __getitem__(self, idx):\n",
    "        return self.inputs[idx], self.targets[idx]\n",
    "    \n",
    "    \n",
    "    def split(self, split):\n",
    "        split = np.ceil(np.array(split)*len(self)).astype(int)\n",
    "    \n",
    "        partial_datasets = []\n",
    "        perm = np.random.permutation(len(self))\n",
    "\n",
    "        input_split = np.split(self.inputs[perm,:], split)\n",
    "        target_split = np.split(self.targets[perm], split)\n",
    "\n",
    "        for i in range(len((split))):\n",
    "            partial_datasets.append(Dataset(input_split[i], target_split[i]))\n",
    "\n",
    "        return partial_datasets"
   ]
  },
  {
   "cell_type": "code",
   "execution_count": 238,
   "metadata": {},
   "outputs": [],
   "source": [
    "dataloaders = dict()\n",
    "dataloaders['train'] = torch.utils.data.DataLoader(train_data, batch_size=128, shuffle=True , drop_last=True)\n",
    "dataloaders['validation'] = torch.utils.data.DataLoader(valid_data, batch_size=128, shuffle=True , drop_last=True)"
   ]
  },
  {
   "cell_type": "code",
   "execution_count": 239,
   "metadata": {},
   "outputs": [],
   "source": [
    "from functools import partial\n",
    "from tqdm import tqdm\n",
    "\n",
    "sys.path.append('/usr/users/kcohrs/nn-factory/src')\n",
    "from trainer import utility\n",
    "from trainer.utility import get_mseloss, get_R2_loss, snapshot_parameters, early_stopping, MultipleObjectiveTracker, set_random_seed\n",
    "import losses.general\n",
    "import random\n",
    "\n",
    "def trainer_basic(model, dataloaders, seed=1,\n",
    "            device='cuda', verbose=True, weight_decay = 0,\n",
    "            interval=1, patience=10, epoch=0, lr_init=0.003, max_iter=50, maximize=False, tolerance=1e-6, restore_best=True, betas=(0.9,0.999), start=0,\n",
    "            lr_decay_steps=6, lr_decay_factor=0.3, min_lr=1e-8, cb=None, track_training=True, parameter_dict=None, disable_tqdm = False, **kwargs):\n",
    "\n",
    "    def full_objective(model, inputs, targets, regularizer, *args):\n",
    "        return criterion(model(inputs.to(device)), targets.to(device)) \n",
    "   \n",
    "    ##### Model training #####################################################################################\n",
    "    model.to(device)\n",
    "    \n",
    "    #set_random_seed(seed)\n",
    "    model.train()\n",
    "    \n",
    "    \n",
    "    criterion = nn.MSELoss()\n",
    "    #pcc = losses.general.AvgCorr()\n",
    "    \n",
    "    stop_closure = partial(getattr(utility, \"get_mseloss\"), dataloader = dataloaders['validation'], device=device)\n",
    "    \n",
    "    n_iterations = len(dataloaders['train'])\n",
    "    \n",
    "    optimizer = torch.optim.Adam([{'params': model.parameters(), 'lr': lr_init, 'betas': betas, 'weight_decay': weight_decay},\n",
    "                                 ])\n",
    "    scheduler = torch.optim.lr_scheduler.ReduceLROnPlateau(optimizer, mode='max' if maximize else 'min',\n",
    "                                                           factor=lr_decay_factor, patience=patience,\n",
    "                                                           threshold=tolerance,\n",
    "                                                           min_lr=min_lr, verbose=verbose, threshold_mode='abs')\n",
    "    \n",
    "    if track_training:\n",
    "        tracker_dict = dict(\n",
    "                            mse_train=partial(get_mseloss, model=model, dataloader=dataloaders[\"train\"], device=device),\n",
    "                            mse_val=partial(get_mseloss, model=model, dataloader=dataloaders[\"validation\"], device=device),\n",
    "                            R2_train=partial(get_R2_loss, model=model, dataloader=dataloaders[\"train\"], device=device),\n",
    "                            R2_val=partial(get_R2_loss, model=model, dataloader=dataloaders[\"validation\"], device=device))\n",
    "        \n",
    "        if hasattr(model, 'tracked_values'):\n",
    "            tracker_dict.update(model.tracked_values)\n",
    "        tracker = MultipleObjectiveTracker(**tracker_dict)\n",
    "    else:\n",
    "        tracker = None\n",
    "        \n",
    "    # train over epochs\n",
    "    for epoch, val_obj in early_stopping(model, stop_closure, interval=interval, patience=patience,\n",
    "                                         start=epoch, max_iter=max_iter, maximize=maximize,\n",
    "                                         tolerance=tolerance, restore_best=restore_best, tracker=tracker,\n",
    "                                         scheduler=scheduler, lr_decay_steps=lr_decay_steps):\n",
    "\n",
    "        #print(val_obj)\n",
    "        # print the quantities from tracker\n",
    "        if verbose and tracker is not None:\n",
    "            print(\"=======================================\")\n",
    "            for key in tracker.log.keys():\n",
    "                print(key, tracker.log[key][-1], flush=True)\n",
    "\n",
    "        # executes callback function if passed in keyword args\n",
    "        if cb is not None:\n",
    "            cb()\n",
    "\n",
    "        # train over batches\n",
    "        optimizer.zero_grad()\n",
    "        for batch_no, (inputs, targets) in tqdm(enumerate(dataloaders[\"train\"]), total=n_iterations,\n",
    "                                               desc=\"Epoch {}\".format(epoch), disable = disable_tqdm):\n",
    "\n",
    "            loss = full_objective(model, inputs, targets, regularizer=None)\n",
    "            loss.backward()\n",
    "            #print(list(model.parameters())[0])\n",
    "            #print(loss)\n",
    "            optimizer.step()\n",
    "            loss = full_objective(model, inputs, targets, regularizer=None)\n",
    "            #print(list(model.parameters()))\n",
    "            optimizer.zero_grad()\n",
    "            #print(loss)\n",
    "            #print(list(model.parameters()))\n",
    "        \n",
    "    ##### Model evaluation ####################################################################################################\n",
    "    model.eval()\n",
    "    tracker.finalize() if track_training else None\n",
    "\n",
    "    # Compute avg validation and test correlation\n",
    "    validation_mse = get_mseloss(model, dataloaders[\"validation\"], device=device)\n",
    "    #test_mse = get_mseloss(model, dataloaders[\"test\"], device=device)\n",
    "\n",
    "    # return the whole tracker output as a dict\n",
    "    \n",
    "    output=dict()\n",
    "    output = {k: v for k, v in tracker.log.items()} if track_training else {}\n",
    "    output[\"mse_loss\"] = validation_mse\n",
    "\n",
    "    #score = np.mean(test_correlation) if return_test_score else np.mean(validation_correlation)\n",
    "    return output, model"
   ]
  },
  {
   "cell_type": "code",
   "execution_count": 245,
   "metadata": {},
   "outputs": [
    {
     "name": "stdout",
     "output_type": "stream",
     "text": [
      "=======================================\n",
      "mse_train 38569.41\n",
      "mse_val 38804.605\n",
      "R2_train -5.017238050711073\n",
      "R2_val -5.668584683496997\n"
     ]
    },
    {
     "name": "stderr",
     "output_type": "stream",
     "text": [
      "Epoch 1:   0%|          | 0/136 [00:00<?, ?it/s]Using a target size (torch.Size([128])) that is different to the input size (torch.Size([128, 1])). This will likely lead to incorrect results due to broadcasting. Please ensure they have the same size.\n",
      "Epoch 1: 100%|██████████| 136/136 [00:00<00:00, 301.10it/s]\n"
     ]
    },
    {
     "name": "stdout",
     "output_type": "stream",
     "text": [
      "[001|00/10] ---> 3913.39404296875\n",
      "=======================================\n",
      "mse_train 4313.989\n",
      "mse_val 3917.6392\n",
      "R2_train -0.09584901030996384\n",
      "R2_val -0.10731648754138856\n"
     ]
    },
    {
     "name": "stderr",
     "output_type": "stream",
     "text": [
      "Epoch 2:   0%|          | 0/136 [00:00<?, ?it/s]Using a target size (torch.Size([128])) that is different to the input size (torch.Size([128, 1])). This will likely lead to incorrect results due to broadcasting. Please ensure they have the same size.\n",
      "Epoch 2: 100%|██████████| 136/136 [00:00<00:00, 302.77it/s]\n"
     ]
    },
    {
     "name": "stdout",
     "output_type": "stream",
     "text": [
      "[002|01/10] -/-> 3915.733642578125\n",
      "=======================================\n",
      "mse_train 4311.6284\n",
      "mse_val 3912.0771\n",
      "R2_train -0.09383295524955537\n",
      "R2_val -0.10657957951552666\n"
     ]
    },
    {
     "name": "stderr",
     "output_type": "stream",
     "text": [
      "Epoch 3:   0%|          | 0/136 [00:00<?, ?it/s]Using a target size (torch.Size([128])) that is different to the input size (torch.Size([128, 1])). This will likely lead to incorrect results due to broadcasting. Please ensure they have the same size.\n",
      "Epoch 3: 100%|██████████| 136/136 [00:00<00:00, 299.60it/s]\n"
     ]
    },
    {
     "name": "stdout",
     "output_type": "stream",
     "text": [
      "[003|02/10] -/-> 3922.0830078125\n",
      "=======================================\n",
      "mse_train 4316.362\n",
      "mse_val 3915.9233\n",
      "R2_train -0.09554566497757322\n",
      "R2_val -0.10675254382128863\n"
     ]
    },
    {
     "name": "stderr",
     "output_type": "stream",
     "text": [
      "Epoch 4:   0%|          | 0/136 [00:00<?, ?it/s]Using a target size (torch.Size([128])) that is different to the input size (torch.Size([128, 1])). This will likely lead to incorrect results due to broadcasting. Please ensure they have the same size.\n",
      "Epoch 4: 100%|██████████| 136/136 [00:00<00:00, 309.35it/s]\n"
     ]
    },
    {
     "name": "stdout",
     "output_type": "stream",
     "text": [
      "[004|03/10] -/-> 3918.111328125\n",
      "=======================================\n",
      "mse_train 4313.9287\n",
      "mse_val 3921.0325\n",
      "R2_train -0.09109444044765613\n",
      "R2_val -0.10435940358638174\n"
     ]
    },
    {
     "name": "stderr",
     "output_type": "stream",
     "text": [
      "Epoch 5:   0%|          | 0/136 [00:00<?, ?it/s]Using a target size (torch.Size([128])) that is different to the input size (torch.Size([128, 1])). This will likely lead to incorrect results due to broadcasting. Please ensure they have the same size.\n",
      "Epoch 5: 100%|██████████| 136/136 [00:00<00:00, 309.92it/s]\n"
     ]
    },
    {
     "name": "stdout",
     "output_type": "stream",
     "text": [
      "[005|04/10] -/-> 3915.257080078125\n",
      "=======================================\n",
      "mse_train 4314.4917\n",
      "mse_val 3922.252\n",
      "R2_train -0.09187680934311637\n",
      "R2_val -0.10526252518631884\n"
     ]
    },
    {
     "name": "stderr",
     "output_type": "stream",
     "text": [
      "Epoch 6:   0%|          | 0/136 [00:00<?, ?it/s]Using a target size (torch.Size([128])) that is different to the input size (torch.Size([128, 1])). This will likely lead to incorrect results due to broadcasting. Please ensure they have the same size.\n",
      "Epoch 6: 100%|██████████| 136/136 [00:00<00:00, 310.37it/s]\n"
     ]
    },
    {
     "name": "stdout",
     "output_type": "stream",
     "text": [
      "[006|04/10] ---> 3913.191650390625\n",
      "=======================================\n",
      "mse_train 4316.6084\n",
      "mse_val 3913.179\n",
      "R2_train -0.08600514512901247\n",
      "R2_val -0.10121218219035799\n"
     ]
    },
    {
     "name": "stderr",
     "output_type": "stream",
     "text": [
      "Epoch 7:   0%|          | 0/136 [00:00<?, ?it/s]Using a target size (torch.Size([128])) that is different to the input size (torch.Size([128, 1])). This will likely lead to incorrect results due to broadcasting. Please ensure they have the same size.\n",
      "Epoch 7: 100%|██████████| 136/136 [00:00<00:00, 309.45it/s]\n"
     ]
    },
    {
     "name": "stdout",
     "output_type": "stream",
     "text": [
      "[007|00/10] ---> 3910.770751953125\n",
      "=======================================\n",
      "mse_train 4305.958\n",
      "mse_val 3917.5625\n",
      "R2_train -0.08484005820407403\n",
      "R2_val -0.09993792759689901\n"
     ]
    },
    {
     "name": "stderr",
     "output_type": "stream",
     "text": [
      "Epoch 8:   0%|          | 0/136 [00:00<?, ?it/s]Using a target size (torch.Size([128])) that is different to the input size (torch.Size([128, 1])). This will likely lead to incorrect results due to broadcasting. Please ensure they have the same size.\n",
      "Epoch 8: 100%|██████████| 136/136 [00:00<00:00, 306.10it/s]\n"
     ]
    },
    {
     "name": "stdout",
     "output_type": "stream",
     "text": [
      "[008|00/10] ---> 3906.023193359375\n",
      "=======================================\n",
      "mse_train 4311.154\n",
      "mse_val 3916.688\n",
      "R2_train -0.08739477965086317\n",
      "R2_val -0.09977909770117988\n"
     ]
    },
    {
     "name": "stderr",
     "output_type": "stream",
     "text": [
      "Epoch 9:   0%|          | 0/136 [00:00<?, ?it/s]Using a target size (torch.Size([128])) that is different to the input size (torch.Size([128, 1])). This will likely lead to incorrect results due to broadcasting. Please ensure they have the same size.\n",
      "Epoch 9: 100%|██████████| 136/136 [00:00<00:00, 310.59it/s]\n"
     ]
    },
    {
     "name": "stdout",
     "output_type": "stream",
     "text": [
      "[009|01/10] -/-> 3913.39990234375\n",
      "=======================================\n",
      "mse_train 4306.6597\n",
      "mse_val 3913.5085\n",
      "R2_train -0.0753615805786072\n",
      "R2_val -0.08638101581247137\n"
     ]
    },
    {
     "name": "stderr",
     "output_type": "stream",
     "text": [
      "Epoch 10:   0%|          | 0/136 [00:00<?, ?it/s]Using a target size (torch.Size([128])) that is different to the input size (torch.Size([128, 1])). This will likely lead to incorrect results due to broadcasting. Please ensure they have the same size.\n",
      "Epoch 10: 100%|██████████| 136/136 [00:00<00:00, 311.05it/s]\n"
     ]
    },
    {
     "name": "stdout",
     "output_type": "stream",
     "text": [
      "[010|01/10] ---> 3904.98388671875\n",
      "=======================================\n",
      "mse_train 4307.6055\n",
      "mse_val 3912.2402\n",
      "R2_train -0.07705830656541313\n",
      "R2_val -0.08763367583957193\n"
     ]
    },
    {
     "name": "stderr",
     "output_type": "stream",
     "text": [
      "Epoch 11:   0%|          | 0/136 [00:00<?, ?it/s]Using a target size (torch.Size([128])) that is different to the input size (torch.Size([128, 1])). This will likely lead to incorrect results due to broadcasting. Please ensure they have the same size.\n",
      "Epoch 11: 100%|██████████| 136/136 [00:00<00:00, 306.86it/s]\n"
     ]
    },
    {
     "name": "stdout",
     "output_type": "stream",
     "text": [
      "[011|01/10] -/-> 3908.1259765625\n",
      "=======================================\n",
      "mse_train 4303.591\n",
      "mse_val 3908.152\n",
      "R2_train -0.06781437634971299\n",
      "R2_val -0.08105225502492774\n"
     ]
    },
    {
     "name": "stderr",
     "output_type": "stream",
     "text": [
      "Epoch 12:   0%|          | 0/136 [00:00<?, ?it/s]Using a target size (torch.Size([128])) that is different to the input size (torch.Size([128, 1])). This will likely lead to incorrect results due to broadcasting. Please ensure they have the same size.\n",
      "Epoch 12: 100%|██████████| 136/136 [00:00<00:00, 303.84it/s]\n"
     ]
    },
    {
     "name": "stdout",
     "output_type": "stream",
     "text": [
      "[012|01/10] ---> 3895.1806640625\n",
      "=======================================\n",
      "mse_train 4293.9604\n",
      "mse_val 3890.798\n",
      "R2_train -0.04191651098651161\n",
      "R2_val -0.051690245978879945\n"
     ]
    },
    {
     "name": "stderr",
     "output_type": "stream",
     "text": [
      "Epoch 13:   0%|          | 0/136 [00:00<?, ?it/s]Using a target size (torch.Size([128])) that is different to the input size (torch.Size([128, 1])). This will likely lead to incorrect results due to broadcasting. Please ensure they have the same size.\n",
      "Epoch 13: 100%|██████████| 136/136 [00:00<00:00, 308.37it/s]\n"
     ]
    },
    {
     "name": "stdout",
     "output_type": "stream",
     "text": [
      "[013|01/10] -/-> 3901.2255859375\n",
      "=======================================\n",
      "mse_train 4288.884\n",
      "mse_val 3904.5247\n",
      "R2_train 0.048905219066328165\n",
      "R2_val 0.039360912009538285\n"
     ]
    },
    {
     "name": "stderr",
     "output_type": "stream",
     "text": [
      "Epoch 14:   0%|          | 0/136 [00:00<?, ?it/s]Using a target size (torch.Size([128])) that is different to the input size (torch.Size([128, 1])). This will likely lead to incorrect results due to broadcasting. Please ensure they have the same size.\n",
      "Epoch 14: 100%|██████████| 136/136 [00:00<00:00, 310.33it/s]\n"
     ]
    },
    {
     "name": "stdout",
     "output_type": "stream",
     "text": [
      "[014|02/10] -/-> 3897.57666015625\n",
      "=======================================\n",
      "mse_train 4294.3857\n",
      "mse_val 3899.921\n",
      "R2_train -0.060242057624890544\n",
      "R2_val -0.07343582931653403\n"
     ]
    },
    {
     "name": "stderr",
     "output_type": "stream",
     "text": [
      "Epoch 15:   0%|          | 0/136 [00:00<?, ?it/s]Using a target size (torch.Size([128])) that is different to the input size (torch.Size([128, 1])). This will likely lead to incorrect results due to broadcasting. Please ensure they have the same size.\n",
      "Epoch 15: 100%|██████████| 136/136 [00:00<00:00, 298.73it/s]\n"
     ]
    },
    {
     "name": "stdout",
     "output_type": "stream",
     "text": [
      "[015|02/10] ---> 3842.62451171875\n",
      "=======================================\n",
      "mse_train 4237.63\n",
      "mse_val 3840.2803\n",
      "R2_train 0.26141627679446766\n",
      "R2_val 0.2690785041024675\n"
     ]
    },
    {
     "name": "stderr",
     "output_type": "stream",
     "text": [
      "Epoch 16:   0%|          | 0/136 [00:00<?, ?it/s]Using a target size (torch.Size([128])) that is different to the input size (torch.Size([128, 1])). This will likely lead to incorrect results due to broadcasting. Please ensure they have the same size.\n",
      "Epoch 16: 100%|██████████| 136/136 [00:00<00:00, 305.09it/s]\n"
     ]
    },
    {
     "name": "stdout",
     "output_type": "stream",
     "text": [
      "[016|00/10] ---> 3812.929931640625\n",
      "=======================================\n",
      "mse_train 4199.838\n",
      "mse_val 3810.6855\n",
      "R2_train 0.15080366895040198\n",
      "R2_val 0.18700863815912672\n"
     ]
    },
    {
     "name": "stderr",
     "output_type": "stream",
     "text": [
      "Epoch 17:   0%|          | 0/136 [00:00<?, ?it/s]Using a target size (torch.Size([128])) that is different to the input size (torch.Size([128, 1])). This will likely lead to incorrect results due to broadcasting. Please ensure they have the same size.\n",
      "Epoch 17: 100%|██████████| 136/136 [00:00<00:00, 300.74it/s]\n"
     ]
    },
    {
     "name": "stdout",
     "output_type": "stream",
     "text": [
      "[017|01/10] -/-> 3859.142333984375\n",
      "=======================================\n",
      "mse_train 4251.915\n",
      "mse_val 3864.3457\n",
      "R2_train 0.21948843106138638\n",
      "R2_val 0.2635687479968105\n"
     ]
    },
    {
     "name": "stderr",
     "output_type": "stream",
     "text": [
      "Epoch 18:   0%|          | 0/136 [00:00<?, ?it/s]Using a target size (torch.Size([128])) that is different to the input size (torch.Size([128, 1])). This will likely lead to incorrect results due to broadcasting. Please ensure they have the same size.\n",
      "Epoch 18: 100%|██████████| 136/136 [00:00<00:00, 300.85it/s]\n"
     ]
    },
    {
     "name": "stdout",
     "output_type": "stream",
     "text": [
      "[018|02/10] -/-> 3815.994384765625\n",
      "=======================================\n",
      "mse_train 4216.102\n",
      "mse_val 3829.352\n",
      "R2_train 0.3648285551793462\n",
      "R2_val 0.379693188624897\n"
     ]
    },
    {
     "name": "stderr",
     "output_type": "stream",
     "text": [
      "Epoch 19:   0%|          | 0/136 [00:00<?, ?it/s]Using a target size (torch.Size([128])) that is different to the input size (torch.Size([128, 1])). This will likely lead to incorrect results due to broadcasting. Please ensure they have the same size.\n",
      "Epoch 19: 100%|██████████| 136/136 [00:00<00:00, 297.87it/s]\n"
     ]
    },
    {
     "name": "stdout",
     "output_type": "stream",
     "text": [
      "[019|02/10] ---> 3751.523193359375\n",
      "=======================================\n",
      "mse_train 4143.2607\n",
      "mse_val 3750.0247\n",
      "R2_train 0.24752133765792383\n",
      "R2_val 0.2678405563687487\n"
     ]
    },
    {
     "name": "stderr",
     "output_type": "stream",
     "text": [
      "Epoch 20:   0%|          | 0/136 [00:00<?, ?it/s]Using a target size (torch.Size([128])) that is different to the input size (torch.Size([128, 1])). This will likely lead to incorrect results due to broadcasting. Please ensure they have the same size.\n",
      "Epoch 20: 100%|██████████| 136/136 [00:00<00:00, 302.57it/s]\n"
     ]
    },
    {
     "name": "stdout",
     "output_type": "stream",
     "text": [
      "[020|01/10] -/-> 3752.460205078125\n",
      "=======================================\n",
      "mse_train 4142.0303\n",
      "mse_val 3743.5776\n",
      "R2_train 0.2501461747716074\n",
      "R2_val 0.27266081900209826\n"
     ]
    },
    {
     "name": "stderr",
     "output_type": "stream",
     "text": [
      "Epoch 21:   0%|          | 0/136 [00:00<?, ?it/s]Using a target size (torch.Size([128])) that is different to the input size (torch.Size([128, 1])). This will likely lead to incorrect results due to broadcasting. Please ensure they have the same size.\n",
      "Epoch 21: 100%|██████████| 136/136 [00:00<00:00, 305.10it/s]\n"
     ]
    },
    {
     "name": "stdout",
     "output_type": "stream",
     "text": [
      "[021|02/10] -/-> 3826.082763671875\n",
      "=======================================\n",
      "mse_train 4210.207\n",
      "mse_val 3829.467\n",
      "R2_train 0.38610900493602407\n",
      "R2_val 0.402573423442098\n"
     ]
    },
    {
     "name": "stderr",
     "output_type": "stream",
     "text": [
      "Epoch 22:   0%|          | 0/136 [00:00<?, ?it/s]Using a target size (torch.Size([128])) that is different to the input size (torch.Size([128, 1])). This will likely lead to incorrect results due to broadcasting. Please ensure they have the same size.\n",
      "Epoch 22: 100%|██████████| 136/136 [00:00<00:00, 296.47it/s]\n"
     ]
    },
    {
     "name": "stdout",
     "output_type": "stream",
     "text": [
      "[022|02/10] ---> 3745.324462890625\n",
      "=======================================\n",
      "mse_train 4145.275\n",
      "mse_val 3751.1714\n",
      "R2_train 0.18626197992220372\n",
      "R2_val 0.1987615102065049\n"
     ]
    },
    {
     "name": "stderr",
     "output_type": "stream",
     "text": [
      "Epoch 23:   0%|          | 0/136 [00:00<?, ?it/s]Using a target size (torch.Size([128])) that is different to the input size (torch.Size([128, 1])). This will likely lead to incorrect results due to broadcasting. Please ensure they have the same size.\n",
      "Epoch 23: 100%|██████████| 136/136 [00:00<00:00, 305.75it/s]\n"
     ]
    },
    {
     "name": "stdout",
     "output_type": "stream",
     "text": [
      "[023|01/10] -/-> 3753.16357421875\n",
      "=======================================\n",
      "mse_train 4159.9224\n",
      "mse_val 3762.4146\n",
      "R2_train 0.14075368100949992\n",
      "R2_val 0.1601841725932175\n"
     ]
    },
    {
     "name": "stderr",
     "output_type": "stream",
     "text": [
      "Epoch 24:   0%|          | 0/136 [00:00<?, ?it/s]Using a target size (torch.Size([128])) that is different to the input size (torch.Size([128, 1])). This will likely lead to incorrect results due to broadcasting. Please ensure they have the same size.\n",
      "Epoch 24: 100%|██████████| 136/136 [00:00<00:00, 304.33it/s]\n"
     ]
    },
    {
     "name": "stdout",
     "output_type": "stream",
     "text": [
      "[024|02/10] -/-> 3751.982666015625\n",
      "=======================================\n",
      "mse_train 4135.8545\n",
      "mse_val 3750.2368\n",
      "R2_train 0.27616474590963436\n",
      "R2_val 0.29251761091372463\n"
     ]
    },
    {
     "name": "stderr",
     "output_type": "stream",
     "text": [
      "Epoch 25:   0%|          | 0/136 [00:00<?, ?it/s]Using a target size (torch.Size([128])) that is different to the input size (torch.Size([128, 1])). This will likely lead to incorrect results due to broadcasting. Please ensure they have the same size.\n",
      "Epoch 25: 100%|██████████| 136/136 [00:00<00:00, 296.39it/s]\n"
     ]
    },
    {
     "name": "stdout",
     "output_type": "stream",
     "text": [
      "[025|03/10] -/-> 3750.139404296875\n",
      "=======================================\n",
      "mse_train 4151.6675\n",
      "mse_val 3750.9058\n",
      "R2_train 0.16362258689461562\n",
      "R2_val 0.1824697344463927\n"
     ]
    },
    {
     "name": "stderr",
     "output_type": "stream",
     "text": [
      "Epoch 26:   0%|          | 0/136 [00:00<?, ?it/s]Using a target size (torch.Size([128])) that is different to the input size (torch.Size([128, 1])). This will likely lead to incorrect results due to broadcasting. Please ensure they have the same size.\n",
      "Epoch 26: 100%|██████████| 136/136 [00:00<00:00, 299.02it/s]\n"
     ]
    },
    {
     "name": "stdout",
     "output_type": "stream",
     "text": [
      "[026|04/10] -/-> 3762.454833984375\n",
      "=======================================\n",
      "mse_train 4153.132\n",
      "mse_val 3760.116\n",
      "R2_train 0.3015033387246222\n",
      "R2_val 0.3194276190737656\n"
     ]
    },
    {
     "name": "stderr",
     "output_type": "stream",
     "text": [
      "Epoch 27:   0%|          | 0/136 [00:00<?, ?it/s]Using a target size (torch.Size([128])) that is different to the input size (torch.Size([128, 1])). This will likely lead to incorrect results due to broadcasting. Please ensure they have the same size.\n",
      "Epoch 27: 100%|██████████| 136/136 [00:00<00:00, 300.64it/s]\n"
     ]
    },
    {
     "name": "stdout",
     "output_type": "stream",
     "text": [
      "[027|04/10] ---> 3744.51806640625\n",
      "=======================================\n",
      "mse_train 4139.3896\n",
      "mse_val 3741.6494\n",
      "R2_train 0.20508760145517824\n",
      "R2_val 0.2264849819427145\n"
     ]
    },
    {
     "name": "stderr",
     "output_type": "stream",
     "text": [
      "Epoch 28:   0%|          | 0/136 [00:00<?, ?it/s]Using a target size (torch.Size([128])) that is different to the input size (torch.Size([128, 1])). This will likely lead to incorrect results due to broadcasting. Please ensure they have the same size.\n",
      "Epoch 28: 100%|██████████| 136/136 [00:00<00:00, 301.29it/s]\n"
     ]
    },
    {
     "name": "stdout",
     "output_type": "stream",
     "text": [
      "[028|00/10] ---> 3743.851318359375\n",
      "=======================================\n",
      "mse_train 4147.3145\n",
      "mse_val 3740.4805\n",
      "R2_train 0.23238333994019933\n",
      "R2_val 0.24710017112833615\n"
     ]
    },
    {
     "name": "stderr",
     "output_type": "stream",
     "text": [
      "Epoch 29:   0%|          | 0/136 [00:00<?, ?it/s]Using a target size (torch.Size([128])) that is different to the input size (torch.Size([128, 1])). This will likely lead to incorrect results due to broadcasting. Please ensure they have the same size.\n",
      "Epoch 29: 100%|██████████| 136/136 [00:00<00:00, 292.98it/s]\n"
     ]
    },
    {
     "name": "stdout",
     "output_type": "stream",
     "text": [
      "[029|01/10] -/-> 3762.7255859375\n",
      "=======================================\n",
      "mse_train 4154.73\n",
      "mse_val 3753.4458\n",
      "R2_train 0.3139858846968837\n",
      "R2_val 0.33676174278221604\n"
     ]
    },
    {
     "name": "stderr",
     "output_type": "stream",
     "text": [
      "Epoch 30:   0%|          | 0/136 [00:00<?, ?it/s]Using a target size (torch.Size([128])) that is different to the input size (torch.Size([128, 1])). This will likely lead to incorrect results due to broadcasting. Please ensure they have the same size.\n",
      "Epoch 30: 100%|██████████| 136/136 [00:00<00:00, 289.49it/s]\n"
     ]
    },
    {
     "name": "stdout",
     "output_type": "stream",
     "text": [
      "[030|02/10] -/-> 3748.33984375\n",
      "=======================================\n",
      "mse_train 4147.503\n",
      "mse_val 3744.0251\n",
      "R2_train 0.21109007350095\n",
      "R2_val 0.22643852558016908\n"
     ]
    },
    {
     "name": "stderr",
     "output_type": "stream",
     "text": [
      "Epoch 31:   0%|          | 0/136 [00:00<?, ?it/s]Using a target size (torch.Size([128])) that is different to the input size (torch.Size([128, 1])). This will likely lead to incorrect results due to broadcasting. Please ensure they have the same size.\n",
      "Epoch 31: 100%|██████████| 136/136 [00:00<00:00, 288.67it/s]\n"
     ]
    },
    {
     "name": "stdout",
     "output_type": "stream",
     "text": [
      "[031|03/10] -/-> 3744.961181640625\n",
      "=======================================\n",
      "mse_train 4139.0366\n",
      "mse_val 3746.3247\n",
      "R2_train 0.2498880052250907\n",
      "R2_val 0.26568557404297777\n"
     ]
    },
    {
     "name": "stderr",
     "output_type": "stream",
     "text": [
      "Epoch 32:   0%|          | 0/136 [00:00<?, ?it/s]Using a target size (torch.Size([128])) that is different to the input size (torch.Size([128, 1])). This will likely lead to incorrect results due to broadcasting. Please ensure they have the same size.\n",
      "Epoch 32: 100%|██████████| 136/136 [00:00<00:00, 283.77it/s]\n"
     ]
    },
    {
     "name": "stdout",
     "output_type": "stream",
     "text": [
      "[032|04/10] -/-> 3788.164794921875\n",
      "=======================================\n",
      "mse_train 4186.3364\n",
      "mse_val 3787.7058\n",
      "R2_train 0.07243634213625438\n",
      "R2_val 0.0806747771680697\n"
     ]
    },
    {
     "name": "stderr",
     "output_type": "stream",
     "text": [
      "Epoch 33:   0%|          | 0/136 [00:00<?, ?it/s]Using a target size (torch.Size([128])) that is different to the input size (torch.Size([128, 1])). This will likely lead to incorrect results due to broadcasting. Please ensure they have the same size.\n",
      "Epoch 33: 100%|██████████| 136/136 [00:00<00:00, 275.37it/s]\n"
     ]
    },
    {
     "name": "stdout",
     "output_type": "stream",
     "text": [
      "[033|05/10] -/-> 3774.80859375\n",
      "=======================================\n",
      "mse_train 4180.1245\n",
      "mse_val 3777.279\n",
      "R2_train 0.09502119286930721\n",
      "R2_val 0.107163884728249\n"
     ]
    },
    {
     "name": "stderr",
     "output_type": "stream",
     "text": [
      "Epoch 34:   0%|          | 0/136 [00:00<?, ?it/s]Using a target size (torch.Size([128])) that is different to the input size (torch.Size([128, 1])). This will likely lead to incorrect results due to broadcasting. Please ensure they have the same size.\n",
      "Epoch 34: 100%|██████████| 136/136 [00:00<00:00, 273.77it/s]\n"
     ]
    },
    {
     "name": "stdout",
     "output_type": "stream",
     "text": [
      "[034|06/10] -/-> 3747.021728515625\n",
      "=======================================\n",
      "mse_train 4136.155\n",
      "mse_val 3745.7827\n",
      "R2_train 0.21345184923355554\n",
      "R2_val 0.22995269002543117\n"
     ]
    },
    {
     "name": "stderr",
     "output_type": "stream",
     "text": [
      "Epoch 35:   0%|          | 0/136 [00:00<?, ?it/s]Using a target size (torch.Size([128])) that is different to the input size (torch.Size([128, 1])). This will likely lead to incorrect results due to broadcasting. Please ensure they have the same size.\n",
      "Epoch 35: 100%|██████████| 136/136 [00:00<00:00, 309.42it/s]\n"
     ]
    },
    {
     "name": "stdout",
     "output_type": "stream",
     "text": [
      "[035|06/10] ---> 3739.61328125\n",
      "=======================================\n",
      "mse_train 4144.8906\n",
      "mse_val 3741.463\n",
      "R2_train 0.250780022416627\n",
      "R2_val 0.2664903422453616\n"
     ]
    },
    {
     "name": "stderr",
     "output_type": "stream",
     "text": [
      "Epoch 36:   0%|          | 0/136 [00:00<?, ?it/s]Using a target size (torch.Size([128])) that is different to the input size (torch.Size([128, 1])). This will likely lead to incorrect results due to broadcasting. Please ensure they have the same size.\n",
      "Epoch 36: 100%|██████████| 136/136 [00:00<00:00, 266.31it/s]\n"
     ]
    },
    {
     "name": "stdout",
     "output_type": "stream",
     "text": [
      "[036|01/10] -/-> 3753.835693359375\n",
      "=======================================\n",
      "mse_train 4142.17\n",
      "mse_val 3751.1086\n",
      "R2_train 0.28738304023873984\n",
      "R2_val 0.3006637070811008\n"
     ]
    },
    {
     "name": "stderr",
     "output_type": "stream",
     "text": [
      "Epoch 37:   0%|          | 0/136 [00:00<?, ?it/s]Using a target size (torch.Size([128])) that is different to the input size (torch.Size([128, 1])). This will likely lead to incorrect results due to broadcasting. Please ensure they have the same size.\n",
      "Epoch 37: 100%|██████████| 136/136 [00:00<00:00, 298.00it/s]\n"
     ]
    },
    {
     "name": "stdout",
     "output_type": "stream",
     "text": [
      "[037|02/10] -/-> 3756.765380859375\n",
      "=======================================\n",
      "mse_train 4154.741\n",
      "mse_val 3756.006\n",
      "R2_train 0.13475448740542084\n",
      "R2_val 0.14952499933635577\n"
     ]
    },
    {
     "name": "stderr",
     "output_type": "stream",
     "text": [
      "Epoch 38:   0%|          | 0/136 [00:00<?, ?it/s]Using a target size (torch.Size([128])) that is different to the input size (torch.Size([128, 1])). This will likely lead to incorrect results due to broadcasting. Please ensure they have the same size.\n",
      "Epoch 38: 100%|██████████| 136/136 [00:00<00:00, 301.20it/s]\n"
     ]
    },
    {
     "name": "stdout",
     "output_type": "stream",
     "text": [
      "[038|03/10] -/-> 3744.867919921875\n",
      "=======================================\n",
      "mse_train 4144.935\n",
      "mse_val 3741.9214\n",
      "R2_train 0.18075584874559214\n",
      "R2_val 0.194384460147365\n"
     ]
    },
    {
     "name": "stderr",
     "output_type": "stream",
     "text": [
      "Epoch 39:   0%|          | 0/136 [00:00<?, ?it/s]Using a target size (torch.Size([128])) that is different to the input size (torch.Size([128, 1])). This will likely lead to incorrect results due to broadcasting. Please ensure they have the same size.\n",
      "Epoch 39: 100%|██████████| 136/136 [00:00<00:00, 308.89it/s]\n"
     ]
    },
    {
     "name": "stdout",
     "output_type": "stream",
     "text": [
      "[039|03/10] ---> 3737.7685546875\n",
      "=======================================\n",
      "mse_train 4143.0376\n",
      "mse_val 3743.1882\n",
      "R2_train 0.22083937452346647\n",
      "R2_val 0.23698970281662357\n"
     ]
    },
    {
     "name": "stderr",
     "output_type": "stream",
     "text": [
      "Epoch 40:   0%|          | 0/136 [00:00<?, ?it/s]Using a target size (torch.Size([128])) that is different to the input size (torch.Size([128, 1])). This will likely lead to incorrect results due to broadcasting. Please ensure they have the same size.\n",
      "Epoch 40: 100%|██████████| 136/136 [00:00<00:00, 311.59it/s]\n"
     ]
    },
    {
     "name": "stdout",
     "output_type": "stream",
     "text": [
      "[040|01/10] -/-> 3794.309326171875\n",
      "=======================================\n",
      "mse_train 4180.79\n",
      "mse_val 3791.7273\n",
      "R2_train 0.36154874957654226\n",
      "R2_val 0.38248082182125454\n"
     ]
    },
    {
     "name": "stderr",
     "output_type": "stream",
     "text": [
      "Epoch 41:   0%|          | 0/136 [00:00<?, ?it/s]Using a target size (torch.Size([128])) that is different to the input size (torch.Size([128, 1])). This will likely lead to incorrect results due to broadcasting. Please ensure they have the same size.\n",
      "Epoch 41: 100%|██████████| 136/136 [00:00<00:00, 311.35it/s]\n"
     ]
    },
    {
     "name": "stdout",
     "output_type": "stream",
     "text": [
      "[041|02/10] -/-> 3803.044189453125\n",
      "=======================================\n",
      "mse_train 4206.3823\n",
      "mse_val 3799.4875\n",
      "R2_train 0.03678965388189448\n",
      "R2_val 0.04741248410437682\n"
     ]
    },
    {
     "name": "stderr",
     "output_type": "stream",
     "text": [
      "Epoch 42:   0%|          | 0/136 [00:00<?, ?it/s]Using a target size (torch.Size([128])) that is different to the input size (torch.Size([128, 1])). This will likely lead to incorrect results due to broadcasting. Please ensure they have the same size.\n",
      "Epoch 42: 100%|██████████| 136/136 [00:00<00:00, 305.71it/s]\n"
     ]
    },
    {
     "name": "stdout",
     "output_type": "stream",
     "text": [
      "[042|03/10] -/-> 3745.9873046875\n",
      "=======================================\n",
      "mse_train 4143.917\n",
      "mse_val 3752.4956\n",
      "R2_train 0.2772591050655857\n",
      "R2_val 0.2936357344458723\n"
     ]
    },
    {
     "name": "stderr",
     "output_type": "stream",
     "text": [
      "Epoch 43:   0%|          | 0/136 [00:00<?, ?it/s]Using a target size (torch.Size([128])) that is different to the input size (torch.Size([128, 1])). This will likely lead to incorrect results due to broadcasting. Please ensure they have the same size.\n",
      "Epoch 43: 100%|██████████| 136/136 [00:00<00:00, 296.99it/s]\n"
     ]
    },
    {
     "name": "stdout",
     "output_type": "stream",
     "text": [
      "[043|04/10] -/-> 3743.072265625\n",
      "=======================================\n",
      "mse_train 4140.6743\n",
      "mse_val 3743.3247\n",
      "R2_train 0.20505378867579616\n",
      "R2_val 0.21510632590144219\n"
     ]
    },
    {
     "name": "stderr",
     "output_type": "stream",
     "text": [
      "Epoch 44:   0%|          | 0/136 [00:00<?, ?it/s]Using a target size (torch.Size([128])) that is different to the input size (torch.Size([128, 1])). This will likely lead to incorrect results due to broadcasting. Please ensure they have the same size.\n",
      "Epoch 44: 100%|██████████| 136/136 [00:00<00:00, 299.51it/s]\n"
     ]
    },
    {
     "name": "stdout",
     "output_type": "stream",
     "text": [
      "[044|05/10] -/-> 3741.980712890625\n",
      "=======================================\n",
      "mse_train 4137.172\n",
      "mse_val 3745.0708\n",
      "R2_train 0.2338704187713757\n",
      "R2_val 0.24968588164139138\n"
     ]
    },
    {
     "name": "stderr",
     "output_type": "stream",
     "text": [
      "Epoch 45:   0%|          | 0/136 [00:00<?, ?it/s]Using a target size (torch.Size([128])) that is different to the input size (torch.Size([128, 1])). This will likely lead to incorrect results due to broadcasting. Please ensure they have the same size.\n",
      "Epoch 45: 100%|██████████| 136/136 [00:00<00:00, 301.41it/s]\n"
     ]
    },
    {
     "name": "stdout",
     "output_type": "stream",
     "text": [
      "[045|06/10] -/-> 3740.84912109375\n",
      "=======================================\n",
      "mse_train 4143.0757\n",
      "mse_val 3742.8896\n",
      "R2_train 0.23605395236577076\n",
      "R2_val 0.2509296359821577\n"
     ]
    },
    {
     "name": "stderr",
     "output_type": "stream",
     "text": [
      "Epoch 46:   0%|          | 0/136 [00:00<?, ?it/s]Using a target size (torch.Size([128])) that is different to the input size (torch.Size([128, 1])). This will likely lead to incorrect results due to broadcasting. Please ensure they have the same size.\n",
      "Epoch 46: 100%|██████████| 136/136 [00:00<00:00, 311.54it/s]\n"
     ]
    },
    {
     "name": "stdout",
     "output_type": "stream",
     "text": [
      "[046|07/10] -/-> 3748.93603515625\n",
      "=======================================\n",
      "mse_train 4149.818\n",
      "mse_val 3747.3313\n",
      "R2_train 0.16847088430718515\n",
      "R2_val 0.18332469976859567\n"
     ]
    },
    {
     "name": "stderr",
     "output_type": "stream",
     "text": [
      "Epoch 47:   0%|          | 0/136 [00:00<?, ?it/s]Using a target size (torch.Size([128])) that is different to the input size (torch.Size([128, 1])). This will likely lead to incorrect results due to broadcasting. Please ensure they have the same size.\n",
      "Epoch 47: 100%|██████████| 136/136 [00:00<00:00, 311.45it/s]\n"
     ]
    },
    {
     "name": "stdout",
     "output_type": "stream",
     "text": [
      "[047|08/10] -/-> 3745.184814453125\n",
      "=======================================\n",
      "mse_train 4142.1865\n",
      "mse_val 3749.1316\n",
      "R2_train 0.28352589000506334\n",
      "R2_val 0.3045918950604052\n"
     ]
    },
    {
     "name": "stderr",
     "output_type": "stream",
     "text": [
      "Epoch 48:   0%|          | 0/136 [00:00<?, ?it/s]Using a target size (torch.Size([128])) that is different to the input size (torch.Size([128, 1])). This will likely lead to incorrect results due to broadcasting. Please ensure they have the same size.\n",
      "Epoch 48: 100%|██████████| 136/136 [00:00<00:00, 311.92it/s]\n"
     ]
    },
    {
     "name": "stdout",
     "output_type": "stream",
     "text": [
      "[048|09/10] -/-> 3756.62646484375\n",
      "=======================================\n",
      "mse_train 4161.007\n",
      "mse_val 3757.6636\n",
      "R2_train 0.12903403340674835\n",
      "R2_val 0.13703117168367374\n"
     ]
    },
    {
     "name": "stderr",
     "output_type": "stream",
     "text": [
      "Epoch 49:   0%|          | 0/136 [00:00<?, ?it/s]Using a target size (torch.Size([128])) that is different to the input size (torch.Size([128, 1])). This will likely lead to incorrect results due to broadcasting. Please ensure they have the same size.\n",
      "Epoch 49: 100%|██████████| 136/136 [00:00<00:00, 310.15it/s]\n"
     ]
    },
    {
     "name": "stdout",
     "output_type": "stream",
     "text": [
      "[049|10/10] -/-> 3738.375\n",
      "Restoring best model after lr decay! 3742.906006 ---> 3741.559326\n",
      "=======================================\n",
      "mse_train 4143.3555\n",
      "mse_val 3738.8523\n",
      "R2_train 0.22082175987517472\n",
      "R2_val 0.23693532858931754\n"
     ]
    },
    {
     "name": "stderr",
     "output_type": "stream",
     "text": [
      "Epoch 50:   0%|          | 0/136 [00:00<?, ?it/s]Using a target size (torch.Size([128])) that is different to the input size (torch.Size([128, 1])). This will likely lead to incorrect results due to broadcasting. Please ensure they have the same size.\n",
      "Epoch 50: 100%|██████████| 136/136 [00:00<00:00, 299.94it/s]\n"
     ]
    },
    {
     "name": "stdout",
     "output_type": "stream",
     "text": [
      "Epoch    50: reducing learning rate of group 0 to 9.0000e-04.\n",
      "[050|01/10] -/-> 3785.150634765625\n",
      "=======================================\n",
      "mse_train 4191.44\n",
      "mse_val 3797.5405\n",
      "R2_train 0.061438819095110175\n",
      "R2_val 0.07006521103714558\n"
     ]
    },
    {
     "name": "stderr",
     "output_type": "stream",
     "text": [
      "Epoch 51:   0%|          | 0/136 [00:00<?, ?it/s]Using a target size (torch.Size([128])) that is different to the input size (torch.Size([128, 1])). This will likely lead to incorrect results due to broadcasting. Please ensure they have the same size.\n",
      "Epoch 51: 100%|██████████| 136/136 [00:00<00:00, 300.54it/s]\n"
     ]
    },
    {
     "name": "stdout",
     "output_type": "stream",
     "text": [
      "[051|02/10] -/-> 3745.3203125\n",
      "=======================================\n",
      "mse_train 4146.8296\n",
      "mse_val 3748.978\n",
      "R2_train 0.2633245219347645\n",
      "R2_val 0.2794051974010523\n"
     ]
    },
    {
     "name": "stderr",
     "output_type": "stream",
     "text": [
      "Epoch 52:   0%|          | 0/136 [00:00<?, ?it/s]Using a target size (torch.Size([128])) that is different to the input size (torch.Size([128, 1])). This will likely lead to incorrect results due to broadcasting. Please ensure they have the same size.\n",
      "Epoch 52: 100%|██████████| 136/136 [00:00<00:00, 302.82it/s]\n"
     ]
    },
    {
     "name": "stdout",
     "output_type": "stream",
     "text": [
      "[052|03/10] -/-> 3750.148193359375\n",
      "=======================================\n",
      "mse_train 4161.073\n",
      "mse_val 3752.1077\n",
      "R2_train 0.14057969268893467\n",
      "R2_val 0.15027940280614227\n"
     ]
    },
    {
     "name": "stderr",
     "output_type": "stream",
     "text": [
      "Epoch 53:   0%|          | 0/136 [00:00<?, ?it/s]Using a target size (torch.Size([128])) that is different to the input size (torch.Size([128, 1])). This will likely lead to incorrect results due to broadcasting. Please ensure they have the same size.\n",
      "Epoch 53: 100%|██████████| 136/136 [00:00<00:00, 306.76it/s]\n"
     ]
    },
    {
     "name": "stdout",
     "output_type": "stream",
     "text": [
      "[053|03/10] ---> 3733.76708984375\n",
      "=======================================\n",
      "mse_train 4145.6357\n",
      "mse_val 3743.2676\n",
      "R2_train 0.21618485225488215\n",
      "R2_val 0.2318438986107707\n"
     ]
    },
    {
     "name": "stderr",
     "output_type": "stream",
     "text": [
      "Epoch 54:   0%|          | 0/136 [00:00<?, ?it/s]Using a target size (torch.Size([128])) that is different to the input size (torch.Size([128, 1])). This will likely lead to incorrect results due to broadcasting. Please ensure they have the same size.\n",
      "Epoch 54: 100%|██████████| 136/136 [00:00<00:00, 299.64it/s]\n"
     ]
    },
    {
     "name": "stdout",
     "output_type": "stream",
     "text": [
      "[054|01/10] -/-> 3742.8037109375\n",
      "=======================================\n",
      "mse_train 4142.58\n",
      "mse_val 3740.7441\n",
      "R2_train 0.21910415571418185\n",
      "R2_val 0.2343073165148155\n"
     ]
    },
    {
     "name": "stderr",
     "output_type": "stream",
     "text": [
      "Epoch 55:   0%|          | 0/136 [00:00<?, ?it/s]Using a target size (torch.Size([128])) that is different to the input size (torch.Size([128, 1])). This will likely lead to incorrect results due to broadcasting. Please ensure they have the same size.\n",
      "Epoch 55: 100%|██████████| 136/136 [00:00<00:00, 300.17it/s]\n"
     ]
    },
    {
     "name": "stdout",
     "output_type": "stream",
     "text": [
      "[055|02/10] -/-> 3742.342529296875\n",
      "=======================================\n",
      "mse_train 4130.506\n",
      "mse_val 3743.4446\n",
      "R2_train 0.2540787496050476\n",
      "R2_val 0.2702065078000717\n"
     ]
    },
    {
     "name": "stderr",
     "output_type": "stream",
     "text": [
      "Epoch 56:   0%|          | 0/136 [00:00<?, ?it/s]Using a target size (torch.Size([128])) that is different to the input size (torch.Size([128, 1])). This will likely lead to incorrect results due to broadcasting. Please ensure they have the same size.\n",
      "Epoch 56: 100%|██████████| 136/136 [00:00<00:00, 292.76it/s]\n"
     ]
    },
    {
     "name": "stdout",
     "output_type": "stream",
     "text": [
      "[056|03/10] -/-> 3744.708984375\n",
      "=======================================\n",
      "mse_train 4148.1562\n",
      "mse_val 3746.5925\n",
      "R2_train 0.1994481205828147\n",
      "R2_val 0.21272568302197437\n"
     ]
    },
    {
     "name": "stderr",
     "output_type": "stream",
     "text": [
      "Epoch 57:   0%|          | 0/136 [00:00<?, ?it/s]Using a target size (torch.Size([128])) that is different to the input size (torch.Size([128, 1])). This will likely lead to incorrect results due to broadcasting. Please ensure they have the same size.\n",
      "Epoch 57: 100%|██████████| 136/136 [00:00<00:00, 304.61it/s]\n"
     ]
    },
    {
     "name": "stdout",
     "output_type": "stream",
     "text": [
      "[057|04/10] -/-> 3757.281494140625\n",
      "=======================================\n",
      "mse_train 4159.5933\n",
      "mse_val 3770.245\n",
      "R2_train 0.3179284447900842\n",
      "R2_val 0.33733116689686526\n"
     ]
    },
    {
     "name": "stderr",
     "output_type": "stream",
     "text": [
      "Epoch 58:   0%|          | 0/136 [00:00<?, ?it/s]Using a target size (torch.Size([128])) that is different to the input size (torch.Size([128, 1])). This will likely lead to incorrect results due to broadcasting. Please ensure they have the same size.\n",
      "Epoch 58: 100%|██████████| 136/136 [00:00<00:00, 284.51it/s]\n"
     ]
    },
    {
     "name": "stdout",
     "output_type": "stream",
     "text": [
      "[058|05/10] -/-> 3739.95849609375\n",
      "=======================================\n",
      "mse_train 4141.8555\n",
      "mse_val 3743.3499\n",
      "R2_train 0.25967098314084736\n",
      "R2_val 0.2769597919900585\n"
     ]
    },
    {
     "name": "stderr",
     "output_type": "stream",
     "text": [
      "Epoch 59:   0%|          | 0/136 [00:00<?, ?it/s]Using a target size (torch.Size([128])) that is different to the input size (torch.Size([128, 1])). This will likely lead to incorrect results due to broadcasting. Please ensure they have the same size.\n",
      "Epoch 59: 100%|██████████| 136/136 [00:00<00:00, 307.96it/s]\n"
     ]
    },
    {
     "name": "stdout",
     "output_type": "stream",
     "text": [
      "[059|06/10] -/-> 3743.69287109375\n",
      "=======================================\n",
      "mse_train 4147.0166\n",
      "mse_val 3739.677\n",
      "R2_train 0.21149109880612305\n",
      "R2_val 0.22704672317938435\n"
     ]
    },
    {
     "name": "stderr",
     "output_type": "stream",
     "text": [
      "Epoch 60:   0%|          | 0/136 [00:00<?, ?it/s]Using a target size (torch.Size([128])) that is different to the input size (torch.Size([128, 1])). This will likely lead to incorrect results due to broadcasting. Please ensure they have the same size.\n",
      "Epoch 60: 100%|██████████| 136/136 [00:00<00:00, 304.06it/s]\n"
     ]
    },
    {
     "name": "stdout",
     "output_type": "stream",
     "text": [
      "[060|07/10] -/-> 3738.60400390625\n",
      "=======================================\n",
      "mse_train 4136.29\n",
      "mse_val 3744.6528\n",
      "R2_train 0.221775916741071\n",
      "R2_val 0.23955638050815198\n"
     ]
    },
    {
     "name": "stderr",
     "output_type": "stream",
     "text": [
      "Epoch 61:   0%|          | 0/136 [00:00<?, ?it/s]Using a target size (torch.Size([128])) that is different to the input size (torch.Size([128, 1])). This will likely lead to incorrect results due to broadcasting. Please ensure they have the same size.\n",
      "Epoch 61: 100%|██████████| 136/136 [00:00<00:00, 308.95it/s]\n"
     ]
    },
    {
     "name": "stdout",
     "output_type": "stream",
     "text": [
      "[061|08/10] -/-> 3753.7470703125\n",
      "=======================================\n",
      "mse_train 4142.3813\n",
      "mse_val 3746.0715\n",
      "R2_train 0.27604890222448364\n",
      "R2_val 0.292239508904655\n"
     ]
    },
    {
     "name": "stderr",
     "output_type": "stream",
     "text": [
      "Epoch 62:   0%|          | 0/136 [00:00<?, ?it/s]Using a target size (torch.Size([128])) that is different to the input size (torch.Size([128, 1])). This will likely lead to incorrect results due to broadcasting. Please ensure they have the same size.\n",
      "Epoch 62: 100%|██████████| 136/136 [00:00<00:00, 305.56it/s]\n"
     ]
    },
    {
     "name": "stdout",
     "output_type": "stream",
     "text": [
      "[062|09/10] -/-> 3754.43115234375\n",
      "=======================================\n",
      "mse_train 4145.785\n",
      "mse_val 3741.4287\n",
      "R2_train 0.2827511066152705\n",
      "R2_val 0.30099296793418506\n"
     ]
    },
    {
     "name": "stderr",
     "output_type": "stream",
     "text": [
      "Epoch 63:   0%|          | 0/136 [00:00<?, ?it/s]Using a target size (torch.Size([128])) that is different to the input size (torch.Size([128, 1])). This will likely lead to incorrect results due to broadcasting. Please ensure they have the same size.\n",
      "Epoch 63: 100%|██████████| 136/136 [00:00<00:00, 292.78it/s]\n"
     ]
    },
    {
     "name": "stdout",
     "output_type": "stream",
     "text": [
      "[063|10/10] -/-> 3747.47265625\n",
      "Restoring best model after lr decay! 3736.408447 ---> 3740.179932\n",
      "=======================================\n",
      "mse_train 4139.6807\n",
      "mse_val 3734.2544\n",
      "R2_train 0.21658929800225735\n",
      "R2_val 0.2320664441679816\n"
     ]
    },
    {
     "name": "stderr",
     "output_type": "stream",
     "text": [
      "Epoch 64:   0%|          | 0/136 [00:00<?, ?it/s]Using a target size (torch.Size([128])) that is different to the input size (torch.Size([128, 1])). This will likely lead to incorrect results due to broadcasting. Please ensure they have the same size.\n",
      "Epoch 64: 100%|██████████| 136/136 [00:00<00:00, 302.90it/s]\n"
     ]
    },
    {
     "name": "stdout",
     "output_type": "stream",
     "text": [
      "Epoch    64: reducing learning rate of group 0 to 2.7000e-04.\n",
      "[064|01/10] -/-> 3746.77294921875\n",
      "=======================================\n",
      "mse_train 4146.918\n",
      "mse_val 3747.2483\n",
      "R2_train 0.16941477886221812\n",
      "R2_val 0.1821503583105376\n"
     ]
    },
    {
     "name": "stderr",
     "output_type": "stream",
     "text": [
      "Epoch 65:   0%|          | 0/136 [00:00<?, ?it/s]Using a target size (torch.Size([128])) that is different to the input size (torch.Size([128, 1])). This will likely lead to incorrect results due to broadcasting. Please ensure they have the same size.\n",
      "Epoch 65: 100%|██████████| 136/136 [00:00<00:00, 303.90it/s]\n"
     ]
    },
    {
     "name": "stdout",
     "output_type": "stream",
     "text": [
      "[065|02/10] -/-> 3739.171142578125\n",
      "=======================================\n",
      "mse_train 4139.3296\n",
      "mse_val 3741.9072\n",
      "R2_train 0.22707492681146801\n",
      "R2_val 0.2431701740179345\n"
     ]
    },
    {
     "name": "stderr",
     "output_type": "stream",
     "text": [
      "Epoch 66:   0%|          | 0/136 [00:00<?, ?it/s]Using a target size (torch.Size([128])) that is different to the input size (torch.Size([128, 1])). This will likely lead to incorrect results due to broadcasting. Please ensure they have the same size.\n",
      "Epoch 66: 100%|██████████| 136/136 [00:00<00:00, 310.14it/s]\n"
     ]
    },
    {
     "name": "stdout",
     "output_type": "stream",
     "text": [
      "[066|03/10] -/-> 3743.822021484375\n",
      "=======================================\n",
      "mse_train 4140.603\n",
      "mse_val 3747.5051\n",
      "R2_train 0.19746142016495438\n",
      "R2_val 0.21188859112682745\n"
     ]
    },
    {
     "name": "stderr",
     "output_type": "stream",
     "text": [
      "Epoch 67:   0%|          | 0/136 [00:00<?, ?it/s]Using a target size (torch.Size([128])) that is different to the input size (torch.Size([128, 1])). This will likely lead to incorrect results due to broadcasting. Please ensure they have the same size.\n",
      "Epoch 67: 100%|██████████| 136/136 [00:00<00:00, 307.49it/s]\n"
     ]
    },
    {
     "name": "stdout",
     "output_type": "stream",
     "text": [
      "[067|04/10] -/-> 3740.743896484375\n",
      "=======================================\n",
      "mse_train 4138.6665\n",
      "mse_val 3741.5918\n",
      "R2_train 0.22539675623333677\n",
      "R2_val 0.24046809851943884\n"
     ]
    },
    {
     "name": "stderr",
     "output_type": "stream",
     "text": [
      "Epoch 68:   0%|          | 0/136 [00:00<?, ?it/s]Using a target size (torch.Size([128])) that is different to the input size (torch.Size([128, 1])). This will likely lead to incorrect results due to broadcasting. Please ensure they have the same size.\n",
      "Epoch 68: 100%|██████████| 136/136 [00:00<00:00, 308.71it/s]\n"
     ]
    },
    {
     "name": "stdout",
     "output_type": "stream",
     "text": [
      "[068|05/10] -/-> 3743.856201171875\n",
      "=======================================\n",
      "mse_train 4143.234\n",
      "mse_val 3744.8313\n",
      "R2_train 0.19555407830895477\n",
      "R2_val 0.20951770361878252\n"
     ]
    },
    {
     "name": "stderr",
     "output_type": "stream",
     "text": [
      "Epoch 69:   0%|          | 0/136 [00:00<?, ?it/s]Using a target size (torch.Size([128])) that is different to the input size (torch.Size([128, 1])). This will likely lead to incorrect results due to broadcasting. Please ensure they have the same size.\n",
      "Epoch 69: 100%|██████████| 136/136 [00:00<00:00, 306.38it/s]\n"
     ]
    },
    {
     "name": "stdout",
     "output_type": "stream",
     "text": [
      "[069|06/10] -/-> 3745.651123046875\n",
      "=======================================\n",
      "mse_train 4141.3564\n",
      "mse_val 3737.6064\n",
      "R2_train 0.2100307162728734\n",
      "R2_val 0.2251993703302192\n"
     ]
    },
    {
     "name": "stderr",
     "output_type": "stream",
     "text": [
      "Epoch 70:   0%|          | 0/136 [00:00<?, ?it/s]Using a target size (torch.Size([128])) that is different to the input size (torch.Size([128, 1])). This will likely lead to incorrect results due to broadcasting. Please ensure they have the same size.\n",
      "Epoch 70: 100%|██████████| 136/136 [00:00<00:00, 305.12it/s]\n"
     ]
    },
    {
     "name": "stdout",
     "output_type": "stream",
     "text": [
      "[070|07/10] -/-> 3747.3740234375\n",
      "=======================================\n",
      "mse_train 4143.482\n",
      "mse_val 3740.3826\n",
      "R2_train 0.22690553366465582\n",
      "R2_val 0.24332121594861966\n"
     ]
    },
    {
     "name": "stderr",
     "output_type": "stream",
     "text": [
      "Epoch 71:   0%|          | 0/136 [00:00<?, ?it/s]Using a target size (torch.Size([128])) that is different to the input size (torch.Size([128, 1])). This will likely lead to incorrect results due to broadcasting. Please ensure they have the same size.\n",
      "Epoch 71: 100%|██████████| 136/136 [00:00<00:00, 310.31it/s]\n"
     ]
    },
    {
     "name": "stdout",
     "output_type": "stream",
     "text": [
      "[071|08/10] -/-> 3739.562744140625\n",
      "=======================================\n",
      "mse_train 4140.188\n",
      "mse_val 3738.3472\n",
      "R2_train 0.2468205726066549\n",
      "R2_val 0.26344761766634006\n"
     ]
    },
    {
     "name": "stderr",
     "output_type": "stream",
     "text": [
      "Epoch 72:   0%|          | 0/136 [00:00<?, ?it/s]Using a target size (torch.Size([128])) that is different to the input size (torch.Size([128, 1])). This will likely lead to incorrect results due to broadcasting. Please ensure they have the same size.\n",
      "Epoch 72: 100%|██████████| 136/136 [00:00<00:00, 310.93it/s]\n"
     ]
    },
    {
     "name": "stdout",
     "output_type": "stream",
     "text": [
      "[072|09/10] -/-> 3740.3134765625\n",
      "=======================================\n",
      "mse_train 4139.0977\n",
      "mse_val 3744.002\n",
      "R2_train 0.2399541570973971\n",
      "R2_val 0.2565656569047725\n"
     ]
    },
    {
     "name": "stderr",
     "output_type": "stream",
     "text": [
      "Epoch 73:   0%|          | 0/136 [00:00<?, ?it/s]Using a target size (torch.Size([128])) that is different to the input size (torch.Size([128, 1])). This will likely lead to incorrect results due to broadcasting. Please ensure they have the same size.\n",
      "Epoch 73: 100%|██████████| 136/136 [00:00<00:00, 304.86it/s]\n"
     ]
    },
    {
     "name": "stdout",
     "output_type": "stream",
     "text": [
      "[073|10/10] -/-> 3749.5244140625\n",
      "Restoring best model after lr decay! 3741.602783 ---> 3744.572266\n",
      "=======================================\n",
      "mse_train 4139.4536\n",
      "mse_val 3743.6\n",
      "R2_train 0.2164989655196341\n",
      "R2_val 0.23221559871919983\n"
     ]
    },
    {
     "name": "stderr",
     "output_type": "stream",
     "text": [
      "Epoch 74:   0%|          | 0/136 [00:00<?, ?it/s]Using a target size (torch.Size([128])) that is different to the input size (torch.Size([128, 1])). This will likely lead to incorrect results due to broadcasting. Please ensure they have the same size.\n",
      "Epoch 74: 100%|██████████| 136/136 [00:00<00:00, 301.13it/s]\n"
     ]
    },
    {
     "name": "stdout",
     "output_type": "stream",
     "text": [
      "[074|01/10] -/-> 3739.6640625\n",
      "=======================================\n",
      "mse_train 4141.8745\n",
      "mse_val 3739.4285\n",
      "R2_train 0.2279882342544749\n",
      "R2_val 0.2442455269539222\n"
     ]
    },
    {
     "name": "stderr",
     "output_type": "stream",
     "text": [
      "Epoch 75:   0%|          | 0/136 [00:00<?, ?it/s]Using a target size (torch.Size([128])) that is different to the input size (torch.Size([128, 1])). This will likely lead to incorrect results due to broadcasting. Please ensure they have the same size.\n",
      "Epoch 75: 100%|██████████| 136/136 [00:00<00:00, 300.09it/s]\n"
     ]
    },
    {
     "name": "stdout",
     "output_type": "stream",
     "text": [
      "Epoch    75: reducing learning rate of group 0 to 8.1000e-05.\n",
      "[075|02/10] -/-> 3736.423828125\n",
      "=======================================\n",
      "mse_train 4134.0454\n",
      "mse_val 3739.7598\n",
      "R2_train 0.22597171428358798\n",
      "R2_val 0.24147435900706116\n"
     ]
    },
    {
     "name": "stderr",
     "output_type": "stream",
     "text": [
      "Epoch 76:   0%|          | 0/136 [00:00<?, ?it/s]Using a target size (torch.Size([128])) that is different to the input size (torch.Size([128, 1])). This will likely lead to incorrect results due to broadcasting. Please ensure they have the same size.\n",
      "Epoch 76: 100%|██████████| 136/136 [00:00<00:00, 300.26it/s]\n"
     ]
    },
    {
     "name": "stdout",
     "output_type": "stream",
     "text": [
      "[076|03/10] -/-> 3741.47998046875\n",
      "=======================================\n",
      "mse_train 4140.7715\n",
      "mse_val 3740.1575\n",
      "R2_train 0.21349741379916898\n",
      "R2_val 0.22867514379076936\n"
     ]
    },
    {
     "name": "stderr",
     "output_type": "stream",
     "text": [
      "Epoch 77:   0%|          | 0/136 [00:00<?, ?it/s]Using a target size (torch.Size([128])) that is different to the input size (torch.Size([128, 1])). This will likely lead to incorrect results due to broadcasting. Please ensure they have the same size.\n",
      "Epoch 77: 100%|██████████| 136/136 [00:00<00:00, 304.85it/s]\n"
     ]
    },
    {
     "name": "stdout",
     "output_type": "stream",
     "text": [
      "[077|04/10] -/-> 3734.5712890625\n",
      "=======================================\n",
      "mse_train 4137.7686\n",
      "mse_val 3740.0789\n",
      "R2_train 0.22781514181086204\n",
      "R2_val 0.24347116469630103\n"
     ]
    },
    {
     "name": "stderr",
     "output_type": "stream",
     "text": [
      "Epoch 78:   0%|          | 0/136 [00:00<?, ?it/s]Using a target size (torch.Size([128])) that is different to the input size (torch.Size([128, 1])). This will likely lead to incorrect results due to broadcasting. Please ensure they have the same size.\n",
      "Epoch 78: 100%|██████████| 136/136 [00:00<00:00, 302.73it/s]\n"
     ]
    },
    {
     "name": "stdout",
     "output_type": "stream",
     "text": [
      "[078|05/10] -/-> 3744.80810546875\n",
      "=======================================\n",
      "mse_train 4126.5576\n",
      "mse_val 3736.8174\n",
      "R2_train 0.2351269636176303\n",
      "R2_val 0.2515504810013979\n"
     ]
    },
    {
     "name": "stderr",
     "output_type": "stream",
     "text": [
      "Epoch 79:   0%|          | 0/136 [00:00<?, ?it/s]Using a target size (torch.Size([128])) that is different to the input size (torch.Size([128, 1])). This will likely lead to incorrect results due to broadcasting. Please ensure they have the same size.\n",
      "Epoch 79: 100%|██████████| 136/136 [00:00<00:00, 311.23it/s]\n"
     ]
    },
    {
     "name": "stdout",
     "output_type": "stream",
     "text": [
      "[079|06/10] -/-> 3746.178466796875\n",
      "=======================================\n",
      "mse_train 4141.967\n",
      "mse_val 3744.9993\n",
      "R2_train 0.23619959917719635\n",
      "R2_val 0.2514487546598312\n"
     ]
    },
    {
     "name": "stderr",
     "output_type": "stream",
     "text": [
      "Epoch 80:   0%|          | 0/136 [00:00<?, ?it/s]Using a target size (torch.Size([128])) that is different to the input size (torch.Size([128, 1])). This will likely lead to incorrect results due to broadcasting. Please ensure they have the same size.\n",
      "Epoch 80: 100%|██████████| 136/136 [00:00<00:00, 309.12it/s]\n"
     ]
    },
    {
     "name": "stdout",
     "output_type": "stream",
     "text": [
      "[080|07/10] -/-> 3740.877685546875\n",
      "=======================================\n",
      "mse_train 4138.523\n",
      "mse_val 3746.155\n",
      "R2_train 0.23456439179371957\n",
      "R2_val 0.250559465599135\n"
     ]
    },
    {
     "name": "stderr",
     "output_type": "stream",
     "text": [
      "Epoch 81:   0%|          | 0/136 [00:00<?, ?it/s]Using a target size (torch.Size([128])) that is different to the input size (torch.Size([128, 1])). This will likely lead to incorrect results due to broadcasting. Please ensure they have the same size.\n",
      "Epoch 81: 100%|██████████| 136/136 [00:00<00:00, 303.92it/s]\n"
     ]
    },
    {
     "name": "stdout",
     "output_type": "stream",
     "text": [
      "[081|08/10] -/-> 3740.28271484375\n",
      "=======================================\n",
      "mse_train 4143.087\n",
      "mse_val 3746.6243\n",
      "R2_train 0.24119035073270367\n",
      "R2_val 0.25820113282702284\n"
     ]
    },
    {
     "name": "stderr",
     "output_type": "stream",
     "text": [
      "Epoch 82:   0%|          | 0/136 [00:00<?, ?it/s]Using a target size (torch.Size([128])) that is different to the input size (torch.Size([128, 1])). This will likely lead to incorrect results due to broadcasting. Please ensure they have the same size.\n",
      "Epoch 82: 100%|██████████| 136/136 [00:00<00:00, 301.06it/s]\n"
     ]
    },
    {
     "name": "stdout",
     "output_type": "stream",
     "text": [
      "[082|09/10] -/-> 3744.3662109375\n",
      "=======================================\n",
      "mse_train 4138.582\n",
      "mse_val 3744.9375\n",
      "R2_train 0.2402154910769847\n",
      "R2_val 0.2560342567997488\n"
     ]
    },
    {
     "name": "stderr",
     "output_type": "stream",
     "text": [
      "Epoch 83:   0%|          | 0/136 [00:00<?, ?it/s]Using a target size (torch.Size([128])) that is different to the input size (torch.Size([128, 1])). This will likely lead to incorrect results due to broadcasting. Please ensure they have the same size.\n",
      "Epoch 83: 100%|██████████| 136/136 [00:00<00:00, 300.49it/s]\n"
     ]
    },
    {
     "name": "stdout",
     "output_type": "stream",
     "text": [
      "[083|10/10] -/-> 3743.6357421875\n",
      "Restoring best model after lr decay! 3738.726074 ---> 3741.998779\n",
      "=======================================\n",
      "mse_train 4144.3687\n",
      "mse_val 3742.9988\n",
      "R2_train 0.21641385008076797\n",
      "R2_val 0.2324931795171845\n"
     ]
    },
    {
     "name": "stderr",
     "output_type": "stream",
     "text": [
      "Epoch 84:   0%|          | 0/136 [00:00<?, ?it/s]Using a target size (torch.Size([128])) that is different to the input size (torch.Size([128, 1])). This will likely lead to incorrect results due to broadcasting. Please ensure they have the same size.\n",
      "Epoch 84: 100%|██████████| 136/136 [00:00<00:00, 300.82it/s]\n"
     ]
    },
    {
     "name": "stdout",
     "output_type": "stream",
     "text": [
      "[084|01/10] -/-> 3743.762939453125\n",
      "=======================================\n",
      "mse_train 4135.7466\n",
      "mse_val 3746.5208\n",
      "R2_train 0.23457909461549775\n",
      "R2_val 0.24993037765535742\n"
     ]
    },
    {
     "name": "stderr",
     "output_type": "stream",
     "text": [
      "Epoch 85:   0%|          | 0/136 [00:00<?, ?it/s]Using a target size (torch.Size([128])) that is different to the input size (torch.Size([128, 1])). This will likely lead to incorrect results due to broadcasting. Please ensure they have the same size.\n",
      "Epoch 85: 100%|██████████| 136/136 [00:00<00:00, 298.23it/s]\n"
     ]
    },
    {
     "name": "stdout",
     "output_type": "stream",
     "text": [
      "[085|02/10] -/-> 3741.376708984375\n",
      "=======================================\n",
      "mse_train 4138.839\n",
      "mse_val 3734.5566\n",
      "R2_train 0.2426343015986523\n",
      "R2_val 0.25856387647047796\n"
     ]
    },
    {
     "name": "stderr",
     "output_type": "stream",
     "text": [
      "Epoch 86:   0%|          | 0/136 [00:00<?, ?it/s]Using a target size (torch.Size([128])) that is different to the input size (torch.Size([128, 1])). This will likely lead to incorrect results due to broadcasting. Please ensure they have the same size.\n",
      "Epoch 86: 100%|██████████| 136/136 [00:00<00:00, 302.64it/s]\n"
     ]
    },
    {
     "name": "stdout",
     "output_type": "stream",
     "text": [
      "Epoch    86: reducing learning rate of group 0 to 2.4300e-05.\n",
      "[086|03/10] -/-> 3736.98681640625\n",
      "=======================================\n",
      "mse_train 4131.6963\n",
      "mse_val 3736.9346\n",
      "R2_train 0.22801070649826083\n",
      "R2_val 0.24325419715503538\n"
     ]
    },
    {
     "name": "stderr",
     "output_type": "stream",
     "text": [
      "Epoch 87:   0%|          | 0/136 [00:00<?, ?it/s]Using a target size (torch.Size([128])) that is different to the input size (torch.Size([128, 1])). This will likely lead to incorrect results due to broadcasting. Please ensure they have the same size.\n",
      "Epoch 87: 100%|██████████| 136/136 [00:00<00:00, 300.31it/s]\n"
     ]
    },
    {
     "name": "stdout",
     "output_type": "stream",
     "text": [
      "[087|04/10] -/-> 3742.375\n",
      "=======================================\n",
      "mse_train 4141.7837\n",
      "mse_val 3735.0505\n",
      "R2_train 0.22465533488135303\n",
      "R2_val 0.23939866141226818\n"
     ]
    },
    {
     "name": "stderr",
     "output_type": "stream",
     "text": [
      "Epoch 88:   0%|          | 0/136 [00:00<?, ?it/s]Using a target size (torch.Size([128])) that is different to the input size (torch.Size([128, 1])). This will likely lead to incorrect results due to broadcasting. Please ensure they have the same size.\n",
      "Epoch 88: 100%|██████████| 136/136 [00:00<00:00, 300.57it/s]\n"
     ]
    },
    {
     "name": "stdout",
     "output_type": "stream",
     "text": [
      "[088|05/10] -/-> 3741.3291015625\n",
      "=======================================\n",
      "mse_train 4141.6445\n",
      "mse_val 3746.5188\n",
      "R2_train 0.23076531350778873\n",
      "R2_val 0.24581668997966877\n"
     ]
    },
    {
     "name": "stderr",
     "output_type": "stream",
     "text": [
      "Epoch 89:   0%|          | 0/136 [00:00<?, ?it/s]Using a target size (torch.Size([128])) that is different to the input size (torch.Size([128, 1])). This will likely lead to incorrect results due to broadcasting. Please ensure they have the same size.\n",
      "Epoch 89: 100%|██████████| 136/136 [00:00<00:00, 310.77it/s]\n"
     ]
    },
    {
     "name": "stdout",
     "output_type": "stream",
     "text": [
      "[089|06/10] -/-> 3742.651123046875\n",
      "=======================================\n",
      "mse_train 4140.8877\n",
      "mse_val 3750.0142\n",
      "R2_train 0.23379411360012836\n",
      "R2_val 0.24894414350971317\n"
     ]
    },
    {
     "name": "stderr",
     "output_type": "stream",
     "text": [
      "Epoch 90:   0%|          | 0/136 [00:00<?, ?it/s]Using a target size (torch.Size([128])) that is different to the input size (torch.Size([128, 1])). This will likely lead to incorrect results due to broadcasting. Please ensure they have the same size.\n",
      "Epoch 90: 100%|██████████| 136/136 [00:00<00:00, 298.30it/s]\n"
     ]
    },
    {
     "name": "stdout",
     "output_type": "stream",
     "text": [
      "[090|07/10] -/-> 3744.570068359375\n",
      "=======================================\n",
      "mse_train 4140.151\n",
      "mse_val 3737.7896\n",
      "R2_train 0.22536214090623885\n",
      "R2_val 0.2400223782489388\n"
     ]
    },
    {
     "name": "stderr",
     "output_type": "stream",
     "text": [
      "Epoch 91:   0%|          | 0/136 [00:00<?, ?it/s]Using a target size (torch.Size([128])) that is different to the input size (torch.Size([128, 1])). This will likely lead to incorrect results due to broadcasting. Please ensure they have the same size.\n",
      "Epoch 91: 100%|██████████| 136/136 [00:00<00:00, 299.72it/s]\n"
     ]
    },
    {
     "name": "stdout",
     "output_type": "stream",
     "text": [
      "[091|08/10] -/-> 3743.73828125\n",
      "=======================================\n",
      "mse_train 4139.161\n",
      "mse_val 3741.5361\n",
      "R2_train 0.22682032693189502\n",
      "R2_val 0.2417356957721174\n"
     ]
    },
    {
     "name": "stderr",
     "output_type": "stream",
     "text": [
      "Epoch 92:   0%|          | 0/136 [00:00<?, ?it/s]Using a target size (torch.Size([128])) that is different to the input size (torch.Size([128, 1])). This will likely lead to incorrect results due to broadcasting. Please ensure they have the same size.\n",
      "Epoch 92: 100%|██████████| 136/136 [00:00<00:00, 304.07it/s]\n"
     ]
    },
    {
     "name": "stdout",
     "output_type": "stream",
     "text": [
      "[092|09/10] -/-> 3744.11962890625\n",
      "=======================================\n",
      "mse_train 4141.416\n",
      "mse_val 3742.9949\n",
      "R2_train 0.21949107129489753\n",
      "R2_val 0.2342790132016933\n"
     ]
    },
    {
     "name": "stderr",
     "output_type": "stream",
     "text": [
      "Epoch 93:   0%|          | 0/136 [00:00<?, ?it/s]Using a target size (torch.Size([128])) that is different to the input size (torch.Size([128, 1])). This will likely lead to incorrect results due to broadcasting. Please ensure they have the same size.\n",
      "Epoch 93: 100%|██████████| 136/136 [00:00<00:00, 300.74it/s]\n"
     ]
    },
    {
     "name": "stdout",
     "output_type": "stream",
     "text": [
      "[093|10/10] -/-> 3740.931396484375\n",
      "Restoring best model after lr decay! 3746.341797 ---> 3738.497803\n",
      "=======================================\n",
      "mse_train 4140.105\n",
      "mse_val 3745.4973\n",
      "R2_train 0.21643448362244233\n",
      "R2_val 0.2320269754565728\n"
     ]
    },
    {
     "name": "stderr",
     "output_type": "stream",
     "text": [
      "Epoch 94:   0%|          | 0/136 [00:00<?, ?it/s]Using a target size (torch.Size([128])) that is different to the input size (torch.Size([128, 1])). This will likely lead to incorrect results due to broadcasting. Please ensure they have the same size.\n",
      "Epoch 94: 100%|██████████| 136/136 [00:00<00:00, 310.11it/s]\n"
     ]
    },
    {
     "name": "stdout",
     "output_type": "stream",
     "text": [
      "[094|01/10] -/-> 3741.274658203125\n",
      "=======================================\n",
      "mse_train 4140.473\n",
      "mse_val 3737.2954\n",
      "R2_train 0.23081713335312426\n",
      "R2_val 0.24639275821665718\n"
     ]
    },
    {
     "name": "stderr",
     "output_type": "stream",
     "text": [
      "Epoch 95:   0%|          | 0/136 [00:00<?, ?it/s]Using a target size (torch.Size([128])) that is different to the input size (torch.Size([128, 1])). This will likely lead to incorrect results due to broadcasting. Please ensure they have the same size.\n",
      "Epoch 95: 100%|██████████| 136/136 [00:00<00:00, 298.31it/s]\n"
     ]
    },
    {
     "name": "stdout",
     "output_type": "stream",
     "text": [
      "[095|02/10] -/-> 3747.663330078125\n",
      "=======================================\n",
      "mse_train 4146.9307\n",
      "mse_val 3745.5574\n",
      "R2_train 0.21517940416429626\n",
      "R2_val 0.22988693144184202\n"
     ]
    },
    {
     "name": "stderr",
     "output_type": "stream",
     "text": [
      "Epoch 96:   0%|          | 0/136 [00:00<?, ?it/s]Using a target size (torch.Size([128])) that is different to the input size (torch.Size([128, 1])). This will likely lead to incorrect results due to broadcasting. Please ensure they have the same size.\n",
      "Epoch 96: 100%|██████████| 136/136 [00:00<00:00, 305.15it/s]\n"
     ]
    },
    {
     "name": "stdout",
     "output_type": "stream",
     "text": [
      "[096|03/10] -/-> 3740.223388671875\n",
      "=======================================\n",
      "mse_train 4137.6\n",
      "mse_val 3743.2668\n",
      "R2_train 0.2260590461232962\n",
      "R2_val 0.24120649420412688\n"
     ]
    },
    {
     "name": "stderr",
     "output_type": "stream",
     "text": [
      "Epoch 97:   0%|          | 0/136 [00:00<?, ?it/s]Using a target size (torch.Size([128])) that is different to the input size (torch.Size([128, 1])). This will likely lead to incorrect results due to broadcasting. Please ensure they have the same size.\n",
      "Epoch 97: 100%|██████████| 136/136 [00:00<00:00, 305.26it/s]\n"
     ]
    },
    {
     "name": "stdout",
     "output_type": "stream",
     "text": [
      "Epoch    97: reducing learning rate of group 0 to 7.2900e-06.\n",
      "[097|04/10] -/-> 3741.036376953125\n",
      "=======================================\n",
      "mse_train 4132.638\n",
      "mse_val 3741.6104\n",
      "R2_train 0.22635638860707752\n",
      "R2_val 0.2414909735257177\n"
     ]
    },
    {
     "name": "stderr",
     "output_type": "stream",
     "text": [
      "Epoch 98:   0%|          | 0/136 [00:00<?, ?it/s]Using a target size (torch.Size([128])) that is different to the input size (torch.Size([128, 1])). This will likely lead to incorrect results due to broadcasting. Please ensure they have the same size.\n",
      "Epoch 98: 100%|██████████| 136/136 [00:00<00:00, 302.59it/s]\n"
     ]
    },
    {
     "name": "stdout",
     "output_type": "stream",
     "text": [
      "[098|05/10] -/-> 3743.060546875\n",
      "=======================================\n",
      "mse_train 4138.959\n",
      "mse_val 3746.3823\n",
      "R2_train 0.22574177517676364\n",
      "R2_val 0.24044291976051635\n"
     ]
    },
    {
     "name": "stderr",
     "output_type": "stream",
     "text": [
      "Epoch 99:   0%|          | 0/136 [00:00<?, ?it/s]Using a target size (torch.Size([128])) that is different to the input size (torch.Size([128, 1])). This will likely lead to incorrect results due to broadcasting. Please ensure they have the same size.\n",
      "Epoch 99: 100%|██████████| 136/136 [00:00<00:00, 302.07it/s]\n"
     ]
    },
    {
     "name": "stdout",
     "output_type": "stream",
     "text": [
      "[099|06/10] -/-> 3743.532470703125\n",
      "=======================================\n",
      "mse_train 4145.6826\n",
      "mse_val 3742.1494\n",
      "R2_train 0.2243709992649613\n",
      "R2_val 0.24012112607062974\n"
     ]
    },
    {
     "name": "stderr",
     "output_type": "stream",
     "text": [
      "Epoch 100:   0%|          | 0/136 [00:00<?, ?it/s]Using a target size (torch.Size([128])) that is different to the input size (torch.Size([128, 1])). This will likely lead to incorrect results due to broadcasting. Please ensure they have the same size.\n",
      "Epoch 100: 100%|██████████| 136/136 [00:00<00:00, 301.25it/s]\n"
     ]
    },
    {
     "name": "stdout",
     "output_type": "stream",
     "text": [
      "[100|07/10] -/-> 3744.5390625\n",
      "Restoring best model! 3735.965820 ---> 3735.944092\n"
     ]
    }
   ],
   "source": [
    "trainer = trainer_basic(flxnn, dataloaders)"
   ]
  },
  {
   "cell_type": "code",
   "execution_count": 225,
   "metadata": {},
   "outputs": [
    {
     "data": {
      "text/plain": [
       "({'mse_loss': array(3749.1528, dtype=float32)},\n",
       " FLX_NN(\n",
       "   (RECO): Sequential(\n",
       "     (0): Linear(in_features=3, out_features=12, bias=True)\n",
       "     (1): AdaptiveELU()\n",
       "     (2): Linear(in_features=12, out_features=1, bias=True)\n",
       "     (3): AdaptiveELU()\n",
       "   )\n",
       "   (LUE): Sequential(\n",
       "     (0): Linear(in_features=2, out_features=12, bias=True)\n",
       "     (1): AdaptiveELU()\n",
       "     (2): Linear(in_features=12, out_features=1, bias=True)\n",
       "     (3): AdaptiveELU()\n",
       "   )\n",
       " ))"
      ]
     },
     "execution_count": 225,
     "metadata": {},
     "output_type": "execute_result"
    }
   ],
   "source": [
    "trainer"
   ]
  },
  {
   "cell_type": "code",
   "execution_count": null,
   "metadata": {},
   "outputs": [],
   "source": [
    "class FLX_NN_regressor(BaseEstimator):\n",
    "    def __init__(self, model_fit_config, trainer_config, dataloader_config):\n",
    "        self.model_fit_config = model_fit_config\n",
    "        self.trainer_config = trainer_config\n",
    "        self.dataloader_config = dataloader_config\n",
    "        \n",
    "    def fit(self, x, w, t, y):\n",
    "        self.dataset = Dataset(X,y)\n",
    "        self.model_fit_config['input_dim'] = len(self.dataset[0][0])\n",
    "        \n",
    "        self.dataloader_config['data'] = self.dataset\n",
    "        self.dataloaders= build_dataloaders(self.dataloader_config, samples = None)\n",
    "        self.trainer_config['dataloaders'] = self.dataloaders\n",
    "        \n",
    "    \n",
    "        self.model_fit = FLX_NN()\n",
    "        self.model_fit.apply(weights_init)\n",
    "        self.trainer_config['model'] = self.model_fit\n",
    "        \n",
    "        self.output, self.model = trainer_basic(**self.trainer_config)\n",
    "\n",
    "\n",
    "        self.output['mse_train'] = self.output['mse_train'].tolist()\n",
    "        self.output['mse_val'] = self.output['mse_val'].tolist()\n",
    "        self.output['mse_loss'] = self.output['mse_loss'].tolist()\n",
    "\n",
    "        return None"
   ]
  },
  {
   "cell_type": "code",
   "execution_count": 135,
   "metadata": {},
   "outputs": [],
   "source": [
    "flxnn = FLX_NN()"
   ]
  },
  {
   "cell_type": "code",
   "execution_count": 136,
   "metadata": {},
   "outputs": [
    {
     "data": {
      "text/plain": [
       "tensor([[0.2070, 0.2355, 0.2551,  ..., 0.3548, 0.3548, 0.3548],\n",
       "        [0.2076, 0.2360, 0.2555,  ..., 0.3548, 0.3548, 0.3548],\n",
       "        [0.2084, 0.2367, 0.2561,  ..., 0.3549, 0.3549, 0.3549],\n",
       "        ...,\n",
       "        [0.1926, 0.2238, 0.2451,  ..., 0.3539, 0.3539, 0.3539],\n",
       "        [0.1924, 0.2236, 0.2449,  ..., 0.3539, 0.3539, 0.3539],\n",
       "        [0.1919, 0.2232, 0.2446,  ..., 0.3537, 0.3537, 0.3537]],\n",
       "       grad_fn=<AddBackward0>)"
      ]
     },
     "execution_count": 136,
     "metadata": {},
     "output_type": "execute_result"
    }
   ],
   "source": [
    "flxnn(X,W,T)"
   ]
  },
  {
   "cell_type": "code",
   "execution_count": 89,
   "metadata": {},
   "outputs": [],
   "source": [
    "a = torch.tensor([[1],[2],[3]])\n",
    "b = torch.tensor([[4],[5],[6]])\n",
    "new = torch.hstack((a,b))"
   ]
  },
  {
   "cell_type": "code",
   "execution_count": 90,
   "metadata": {},
   "outputs": [
    {
     "data": {
      "text/plain": [
       "torch.Size([3, 2])"
      ]
     },
     "execution_count": 90,
     "metadata": {},
     "output_type": "execute_result"
    }
   ],
   "source": [
    "new.shape"
   ]
  },
  {
   "cell_type": "code",
   "execution_count": 92,
   "metadata": {},
   "outputs": [
    {
     "data": {
      "text/plain": [
       "tensor([[1, 4, 1],\n",
       "        [2, 5, 2],\n",
       "        [3, 6, 3]])"
      ]
     },
     "execution_count": 92,
     "metadata": {},
     "output_type": "execute_result"
    }
   ],
   "source": [
    "torch.hstack((new, a))"
   ]
  },
  {
   "cell_type": "code",
   "execution_count": 657,
   "metadata": {},
   "outputs": [],
   "source": [
    "results_R23, results_MSE3, condensed3 = evaluate(exp3.data,False)"
   ]
  },
  {
   "cell_type": "code",
   "execution_count": 82,
   "metadata": {},
   "outputs": [],
   "source": [
    "experiment_config = dict(\n",
    "                seed = 1,\n",
    "                site = 'FI-Hyy',\n",
    "                syn_data = False,\n",
    "                relnoise = 0,\n",
    "                training_type = False,\n",
    "                transform=True,\n",
    "                delta='heuristic3',\n",
    "                train_period = (2008, 2009),\n",
    "                test_period = (2009, 2010),\n",
    "                ood_test_site = '',\n",
    "                ood_test_period = (2008, 2010),\n",
    "                n_estimators=100, \n",
    "                min_samples_split=2, \n",
    "                min_samples_leaf=5,\n",
    "                max_depth = 3,\n",
    "                Y = 'NEE',\n",
    "                method = 'CUT',\n",
    "                Y_normed = False,\n",
    "                T = 'SW_IN_F', #'SW_IN_F'\n",
    "                T_normed = False,         \n",
    "                X = ['VPD_F', 'TA_F'], #['VPD_F', 'TA_F']\n",
    "                X_normed = True,\n",
    "                W = ['wdefCum'],  #['wdefCum'] ['SW_POT_sm', 'SW_POT_sm_diff']\n",
    "                W_normed = True,\n",
    "                clean_output = True,\n",
    "                model_y = 'GradientBoostingRegressor',\n",
    "                model_t = 'GradientBoostingRegressor',\n",
    "                model_final = 'GradientBoostingRegressor',\n",
    "                cv = 10,\n",
    "                q_10 = True,\n",
    "                model_m = 'GradientBoostingRegressor',\n",
    "                model_g = 'GradientBoostingRegressor',\n",
    "                w = ['wdefCum'], #['VPD_F', 'SW_POT_sm', 'SW_POT_sm_diff'] 'VPD_F'\n",
    "                w_normed = True,\n",
    "                n_folds = 10,\n",
    "                dml_procedure='dml1',\n",
    "                comment = '',\n",
    ")"
   ]
  },
  {
   "cell_type": "code",
   "execution_count": 83,
   "metadata": {},
   "outputs": [
    {
     "name": "stdout",
     "output_type": "stream",
     "text": [
      "Create new experiment folder : /usr/users/kcohrs/bayesian-q10/exp/FPDML_FI-Hyy_2022-06-22_4\n"
     ]
    },
    {
     "ename": "TypeError",
     "evalue": "configs() missing 2 required positional arguments: 'dataset_config' and 'model_configs'",
     "output_type": "error",
     "traceback": [
      "\u001b[0;31m---------------------------------------------------------------------------\u001b[0m",
      "\u001b[0;31mTypeError\u001b[0m                                 Traceback (most recent call last)",
      "\u001b[0;32m<ipython-input-83-53406ed0e942>\u001b[0m in \u001b[0;36m<module>\u001b[0;34m\u001b[0m\n\u001b[1;32m      5\u001b[0m \u001b[0mexp\u001b[0m \u001b[0;34m=\u001b[0m \u001b[0mexperiment\u001b[0m\u001b[0;34m.\u001b[0m\u001b[0mFluxPartDML2\u001b[0m\u001b[0;34m(\u001b[0m\u001b[0;34m)\u001b[0m\u001b[0;34m\u001b[0m\u001b[0;34m\u001b[0m\u001b[0m\n\u001b[1;32m      6\u001b[0m \u001b[0mexp\u001b[0m\u001b[0;34m.\u001b[0m\u001b[0mnew\u001b[0m\u001b[0;34m(\u001b[0m\u001b[0;34m'FI-Hyy'\u001b[0m\u001b[0;34m)\u001b[0m\u001b[0;34m\u001b[0m\u001b[0;34m\u001b[0m\u001b[0m\n\u001b[0;32m----> 7\u001b[0;31m \u001b[0mexp\u001b[0m\u001b[0;34m.\u001b[0m\u001b[0mconfigs\u001b[0m\u001b[0;34m(\u001b[0m\u001b[0mexperiment_config\u001b[0m\u001b[0;34m)\u001b[0m\u001b[0;34m\u001b[0m\u001b[0;34m\u001b[0m\u001b[0m\n\u001b[0m\u001b[1;32m      8\u001b[0m \u001b[0mexp\u001b[0m\u001b[0;34m.\u001b[0m\u001b[0mrun\u001b[0m\u001b[0;34m(\u001b[0m\u001b[0;34m)\u001b[0m\u001b[0;34m\u001b[0m\u001b[0;34m\u001b[0m\u001b[0m\n",
      "\u001b[0;31mTypeError\u001b[0m: configs() missing 2 required positional arguments: 'dataset_config' and 'model_configs'"
     ]
    }
   ],
   "source": [
    "#experiment_config['site'] = 'DE-Gri'\n",
    "#experiment_config['X'] = ['VPD_F', 'P_F', 'LE_F', 'TA_F']\n",
    "#experiment_config['Y'] = 'NEE'\n",
    "#experiment_config['T'] = 'SW_IN_F'\n",
    "exp = experiment.FluxPartDML()\n",
    "exp.new('FI-Hyy')\n",
    "exp.configs(experiment_config)\n",
    "exp.run()"
   ]
  },
  {
   "cell_type": "code",
   "execution_count": 76,
   "metadata": {},
   "outputs": [
    {
     "data": {
      "text/plain": [
       "Index(['index', 'TIMESTAMP_START', 'VPD_F', 'TA_F', 'wdefCum', 'SW_IN_F',\n",
       "       'NEE_CUT_REF', 'CO2_F_MDS', 'NEE_VUT_REF', 'RECO_NT_VUT_REF',\n",
       "       'RECO_NT_CUT_REF', 'RECO_DT_VUT_REF', 'RECO_DT_CUT_REF',\n",
       "       'GPP_NT_VUT_REF', 'GPP_NT_CUT_REF', 'GPP_DT_VUT_REF', 'GPP_DT_CUT_REF',\n",
       "       'DateTime', 'Date', 'Time', 'Month', 'Year', 'doy', 'VPD_F_normed',\n",
       "       'TA_F_normed', 'wdefCum_normed', 'GPP_orth', 'RECO_orth',\n",
       "       'RECO_orth_rest', 'NEE_orth', 'T_estimate', 'NEE_DT_CUT_REF',\n",
       "       'NEE_NT_CUT_REF'],\n",
       "      dtype='object')"
      ]
     },
     "execution_count": 76,
     "metadata": {},
     "output_type": "execute_result"
    }
   ],
   "source": [
    "exp.data_train.columns"
   ]
  },
  {
   "cell_type": "code",
   "execution_count": 82,
   "metadata": {},
   "outputs": [],
   "source": [
    "from sklearn.metrics import r2_score"
   ]
  },
  {
   "cell_type": "code",
   "execution_count": 88,
   "metadata": {},
   "outputs": [
    {
     "data": {
      "image/png": "[encoded data removed]",
      "text/latex": [
       "$\\displaystyle 0.835433723956945$"
      ],
      "text/plain": [
       "0.8354337239569452"
      ]
     },
     "execution_count": 88,
     "metadata": {},
     "output_type": "execute_result"
    }
   ],
   "source": [
    "r2_score(exp.data_train['GPP_NT_CUT_REF'], exp.data_train['GPP_orth'])"
   ]
  },
  {
   "cell_type": "code",
   "execution_count": 95,
   "metadata": {},
   "outputs": [],
   "source": [
    "NEE_NT = -exp.data_train['GPP_NT_CUT_REF'] + exp.data_train['RECO_NT_CUT_REF']"
   ]
  },
  {
   "cell_type": "code",
   "execution_count": 96,
   "metadata": {},
   "outputs": [
    {
     "data": {
      "image/png": "[encoded data removed]",
      "text/latex": [
       "$\\displaystyle 0.997994241111616$"
      ],
      "text/plain": [
       "0.997994241111616"
      ]
     },
     "execution_count": 96,
     "metadata": {},
     "output_type": "execute_result"
    }
   ],
   "source": [
    "r2_score(exp.data_train['NEE_CUT_REF'], NEE_NT)"
   ]
  },
  {
   "cell_type": "code",
   "execution_count": 92,
   "metadata": {},
   "outputs": [
    {
     "data": {
      "image/png": "[encoded data removed]",
      "text/latex": [
       "$\\displaystyle -0.535873540357262$"
      ],
      "text/plain": [
       "-0.5358735403572616"
      ]
     },
     "execution_count": 92,
     "metadata": {},
     "output_type": "execute_result"
    }
   ],
   "source": [
    "r2_score(exp.data_train['RECO_DT_CUT_REF'], reco)"
   ]
  },
  {
   "cell_type": "code",
   "execution_count": 89,
   "metadata": {},
   "outputs": [],
   "source": [
    "reco = (exp.data_train['NEE_CUT_REF'] + exp.data_train['GPP_orth'])"
   ]
  },
  {
   "cell_type": "code",
   "execution_count": 607,
   "metadata": {},
   "outputs": [
    {
     "name": "stdout",
     "output_type": "stream",
     "text": [
      "Create new experiment folder : /usr/users/kcohrs/bayesian-q10/exp/FPDML_DE-Gri_2022-03-31_15\n"
     ]
    },
    {
     "ename": "KeyboardInterrupt",
     "evalue": "",
     "output_type": "error",
     "traceback": [
      "\u001b[0;31m---------------------------------------------------------------------------\u001b[0m",
      "\u001b[0;31mKeyboardInterrupt\u001b[0m                         Traceback (most recent call last)",
      "\u001b[0;32m/opt/conda/lib/python3.8/site-packages/pandas/io/parsers.py\u001b[0m in \u001b[0;36mread\u001b[0;34m(self, nrows)\u001b[0m\n\u001b[1;32m   2055\u001b[0m         \u001b[0;32mtry\u001b[0m\u001b[0;34m:\u001b[0m\u001b[0;34m\u001b[0m\u001b[0;34m\u001b[0m\u001b[0m\n\u001b[0;32m-> 2056\u001b[0;31m             \u001b[0mdata\u001b[0m \u001b[0;34m=\u001b[0m \u001b[0mself\u001b[0m\u001b[0;34m.\u001b[0m\u001b[0m_reader\u001b[0m\u001b[0;34m.\u001b[0m\u001b[0mread\u001b[0m\u001b[0;34m(\u001b[0m\u001b[0mnrows\u001b[0m\u001b[0;34m)\u001b[0m\u001b[0;34m\u001b[0m\u001b[0;34m\u001b[0m\u001b[0m\n\u001b[0m\u001b[1;32m   2057\u001b[0m         \u001b[0;32mexcept\u001b[0m \u001b[0mStopIteration\u001b[0m\u001b[0;34m:\u001b[0m\u001b[0;34m\u001b[0m\u001b[0;34m\u001b[0m\u001b[0m\n",
      "\u001b[0;32mpandas/_libs/parsers.pyx\u001b[0m in \u001b[0;36mpandas._libs.parsers.TextReader.read\u001b[0;34m()\u001b[0m\n",
      "\u001b[0;32mpandas/_libs/parsers.pyx\u001b[0m in \u001b[0;36mpandas._libs.parsers.TextReader._read_low_memory\u001b[0;34m()\u001b[0m\n",
      "\u001b[0;32mpandas/_libs/parsers.pyx\u001b[0m in \u001b[0;36mpandas._libs.parsers.TextReader._read_rows\u001b[0;34m()\u001b[0m\n",
      "\u001b[0;32mpandas/_libs/parsers.pyx\u001b[0m in \u001b[0;36mpandas._libs.parsers.TextReader._convert_column_data\u001b[0;34m()\u001b[0m\n",
      "\u001b[0;32mpandas/_libs/parsers.pyx\u001b[0m in \u001b[0;36mpandas._libs.parsers.TextReader._convert_tokens\u001b[0;34m()\u001b[0m\n",
      "\u001b[0;32mpandas/_libs/parsers.pyx\u001b[0m in \u001b[0;36mpandas._libs.parsers.TextReader._convert_with_dtype\u001b[0;34m()\u001b[0m\n",
      "\u001b[0;32m/opt/conda/lib/python3.8/site-packages/pandas/core/dtypes/common.py\u001b[0m in \u001b[0;36mis_categorical_dtype\u001b[0;34m(arr_or_dtype)\u001b[0m\n\u001b[1;32m    536\u001b[0m \u001b[0;34m\u001b[0m\u001b[0m\n\u001b[0;32m--> 537\u001b[0;31m \u001b[0;32mdef\u001b[0m \u001b[0mis_categorical_dtype\u001b[0m\u001b[0;34m(\u001b[0m\u001b[0marr_or_dtype\u001b[0m\u001b[0;34m)\u001b[0m \u001b[0;34m->\u001b[0m \u001b[0mbool\u001b[0m\u001b[0;34m:\u001b[0m\u001b[0;34m\u001b[0m\u001b[0;34m\u001b[0m\u001b[0m\n\u001b[0m\u001b[1;32m    538\u001b[0m     \"\"\"\n",
      "\u001b[0;31mKeyboardInterrupt\u001b[0m: ",
      "\nDuring handling of the above exception, another exception occurred:\n",
      "\u001b[0;31mKeyboardInterrupt\u001b[0m                         Traceback (most recent call last)",
      "\u001b[0;32m<ipython-input-607-17952f1ee450>\u001b[0m in \u001b[0;36m<module>\u001b[0;34m\u001b[0m\n\u001b[1;32m      6\u001b[0m \u001b[0mexp\u001b[0m\u001b[0;34m.\u001b[0m\u001b[0mnew\u001b[0m\u001b[0;34m(\u001b[0m\u001b[0;34m'DE-Gri'\u001b[0m\u001b[0;34m)\u001b[0m\u001b[0;34m\u001b[0m\u001b[0;34m\u001b[0m\u001b[0m\n\u001b[1;32m      7\u001b[0m \u001b[0mexp\u001b[0m\u001b[0;34m.\u001b[0m\u001b[0mconfigs\u001b[0m\u001b[0;34m(\u001b[0m\u001b[0mexperiment_config\u001b[0m\u001b[0;34m)\u001b[0m\u001b[0;34m\u001b[0m\u001b[0;34m\u001b[0m\u001b[0m\n\u001b[0;32m----> 8\u001b[0;31m \u001b[0mexp\u001b[0m\u001b[0;34m.\u001b[0m\u001b[0mrun\u001b[0m\u001b[0;34m(\u001b[0m\u001b[0;34m)\u001b[0m\u001b[0;34m\u001b[0m\u001b[0;34m\u001b[0m\u001b[0m\n\u001b[0m\u001b[1;32m      9\u001b[0m \u001b[0;34m\u001b[0m\u001b[0m\n\u001b[1;32m     10\u001b[0m \u001b[0mexperiment_config\u001b[0m\u001b[0;34m[\u001b[0m\u001b[0;34m'site'\u001b[0m\u001b[0;34m]\u001b[0m \u001b[0;34m=\u001b[0m \u001b[0;34m'FR-FBn'\u001b[0m\u001b[0;34m\u001b[0m\u001b[0;34m\u001b[0m\u001b[0m\n",
      "\u001b[0;32m/usr/users/kcohrs/bayesian-q10/bayesian_q10/experiments/experiment.py\u001b[0m in \u001b[0;36mrun\u001b[0;34m(self)\u001b[0m\n\u001b[1;32m    143\u001b[0m             \u001b[0;32mfor\u001b[0m \u001b[0mfile_names\u001b[0m \u001b[0;32min\u001b[0m \u001b[0mos\u001b[0m\u001b[0;34m.\u001b[0m\u001b[0mlistdir\u001b[0m\u001b[0;34m(\u001b[0m\u001b[0mfolder_path\u001b[0m\u001b[0;34m)\u001b[0m\u001b[0;34m:\u001b[0m\u001b[0;34m\u001b[0m\u001b[0;34m\u001b[0m\u001b[0m\n\u001b[1;32m    144\u001b[0m                 \u001b[0;32mif\u001b[0m \u001b[0mfile\u001b[0m \u001b[0;32min\u001b[0m \u001b[0mfile_names\u001b[0m\u001b[0;34m:\u001b[0m\u001b[0;34m\u001b[0m\u001b[0;34m\u001b[0m\u001b[0m\n\u001b[0;32m--> 145\u001b[0;31m                     \u001b[0mself\u001b[0m\u001b[0;34m.\u001b[0m\u001b[0mdata_all\u001b[0m \u001b[0;34m=\u001b[0m \u001b[0mpd\u001b[0m\u001b[0;34m.\u001b[0m\u001b[0mread_csv\u001b[0m\u001b[0;34m(\u001b[0m\u001b[0mfolder_path\u001b[0m \u001b[0;34m+\u001b[0m \u001b[0mfile_names\u001b[0m\u001b[0;34m)\u001b[0m\u001b[0;34m\u001b[0m\u001b[0;34m\u001b[0m\u001b[0m\n\u001b[0m\u001b[1;32m    146\u001b[0m         \u001b[0;32mexcept\u001b[0m \u001b[0mFileNotFoundError\u001b[0m \u001b[0;32mas\u001b[0m \u001b[0mfnf_error\u001b[0m\u001b[0;34m:\u001b[0m\u001b[0;34m\u001b[0m\u001b[0;34m\u001b[0m\u001b[0m\n\u001b[1;32m    147\u001b[0m             \u001b[0mprint\u001b[0m\u001b[0;34m(\u001b[0m\u001b[0mfnf_error\u001b[0m\u001b[0;34m)\u001b[0m\u001b[0;34m\u001b[0m\u001b[0;34m\u001b[0m\u001b[0m\n",
      "\u001b[0;32m/opt/conda/lib/python3.8/site-packages/pandas/io/parsers.py\u001b[0m in \u001b[0;36mread_csv\u001b[0;34m(filepath_or_buffer, sep, delimiter, header, names, index_col, usecols, squeeze, prefix, mangle_dupe_cols, dtype, engine, converters, true_values, false_values, skipinitialspace, skiprows, skipfooter, nrows, na_values, keep_default_na, na_filter, verbose, skip_blank_lines, parse_dates, infer_datetime_format, keep_date_col, date_parser, dayfirst, cache_dates, iterator, chunksize, compression, thousands, decimal, lineterminator, quotechar, quoting, doublequote, escapechar, comment, encoding, dialect, error_bad_lines, warn_bad_lines, delim_whitespace, low_memory, memory_map, float_precision, storage_options)\u001b[0m\n\u001b[1;32m    603\u001b[0m     \u001b[0mkwds\u001b[0m\u001b[0;34m.\u001b[0m\u001b[0mupdate\u001b[0m\u001b[0;34m(\u001b[0m\u001b[0mkwds_defaults\u001b[0m\u001b[0;34m)\u001b[0m\u001b[0;34m\u001b[0m\u001b[0;34m\u001b[0m\u001b[0m\n\u001b[1;32m    604\u001b[0m \u001b[0;34m\u001b[0m\u001b[0m\n\u001b[0;32m--> 605\u001b[0;31m     \u001b[0;32mreturn\u001b[0m \u001b[0m_read\u001b[0m\u001b[0;34m(\u001b[0m\u001b[0mfilepath_or_buffer\u001b[0m\u001b[0;34m,\u001b[0m \u001b[0mkwds\u001b[0m\u001b[0;34m)\u001b[0m\u001b[0;34m\u001b[0m\u001b[0;34m\u001b[0m\u001b[0m\n\u001b[0m\u001b[1;32m    606\u001b[0m \u001b[0;34m\u001b[0m\u001b[0m\n\u001b[1;32m    607\u001b[0m \u001b[0;34m\u001b[0m\u001b[0m\n",
      "\u001b[0;32m/opt/conda/lib/python3.8/site-packages/pandas/io/parsers.py\u001b[0m in \u001b[0;36m_read\u001b[0;34m(filepath_or_buffer, kwds)\u001b[0m\n\u001b[1;32m    461\u001b[0m \u001b[0;34m\u001b[0m\u001b[0m\n\u001b[1;32m    462\u001b[0m     \u001b[0;32mwith\u001b[0m \u001b[0mparser\u001b[0m\u001b[0;34m:\u001b[0m\u001b[0;34m\u001b[0m\u001b[0;34m\u001b[0m\u001b[0m\n\u001b[0;32m--> 463\u001b[0;31m         \u001b[0;32mreturn\u001b[0m \u001b[0mparser\u001b[0m\u001b[0;34m.\u001b[0m\u001b[0mread\u001b[0m\u001b[0;34m(\u001b[0m\u001b[0mnrows\u001b[0m\u001b[0;34m)\u001b[0m\u001b[0;34m\u001b[0m\u001b[0;34m\u001b[0m\u001b[0m\n\u001b[0m\u001b[1;32m    464\u001b[0m \u001b[0;34m\u001b[0m\u001b[0m\n\u001b[1;32m    465\u001b[0m \u001b[0;34m\u001b[0m\u001b[0m\n",
      "\u001b[0;32m/opt/conda/lib/python3.8/site-packages/pandas/io/parsers.py\u001b[0m in \u001b[0;36mread\u001b[0;34m(self, nrows)\u001b[0m\n\u001b[1;32m   1050\u001b[0m     \u001b[0;32mdef\u001b[0m \u001b[0mread\u001b[0m\u001b[0;34m(\u001b[0m\u001b[0mself\u001b[0m\u001b[0;34m,\u001b[0m \u001b[0mnrows\u001b[0m\u001b[0;34m=\u001b[0m\u001b[0;32mNone\u001b[0m\u001b[0;34m)\u001b[0m\u001b[0;34m:\u001b[0m\u001b[0;34m\u001b[0m\u001b[0;34m\u001b[0m\u001b[0m\n\u001b[1;32m   1051\u001b[0m         \u001b[0mnrows\u001b[0m \u001b[0;34m=\u001b[0m \u001b[0mvalidate_integer\u001b[0m\u001b[0;34m(\u001b[0m\u001b[0;34m\"nrows\"\u001b[0m\u001b[0;34m,\u001b[0m \u001b[0mnrows\u001b[0m\u001b[0;34m)\u001b[0m\u001b[0;34m\u001b[0m\u001b[0;34m\u001b[0m\u001b[0m\n\u001b[0;32m-> 1052\u001b[0;31m         \u001b[0mindex\u001b[0m\u001b[0;34m,\u001b[0m \u001b[0mcolumns\u001b[0m\u001b[0;34m,\u001b[0m \u001b[0mcol_dict\u001b[0m \u001b[0;34m=\u001b[0m \u001b[0mself\u001b[0m\u001b[0;34m.\u001b[0m\u001b[0m_engine\u001b[0m\u001b[0;34m.\u001b[0m\u001b[0mread\u001b[0m\u001b[0;34m(\u001b[0m\u001b[0mnrows\u001b[0m\u001b[0;34m)\u001b[0m\u001b[0;34m\u001b[0m\u001b[0;34m\u001b[0m\u001b[0m\n\u001b[0m\u001b[1;32m   1053\u001b[0m \u001b[0;34m\u001b[0m\u001b[0m\n\u001b[1;32m   1054\u001b[0m         \u001b[0;32mif\u001b[0m \u001b[0mindex\u001b[0m \u001b[0;32mis\u001b[0m \u001b[0;32mNone\u001b[0m\u001b[0;34m:\u001b[0m\u001b[0;34m\u001b[0m\u001b[0;34m\u001b[0m\u001b[0m\n",
      "\u001b[0;32m/opt/conda/lib/python3.8/site-packages/pandas/io/parsers.py\u001b[0m in \u001b[0;36mread\u001b[0;34m(self, nrows)\u001b[0m\n\u001b[1;32m   2054\u001b[0m     \u001b[0;32mdef\u001b[0m \u001b[0mread\u001b[0m\u001b[0;34m(\u001b[0m\u001b[0mself\u001b[0m\u001b[0;34m,\u001b[0m \u001b[0mnrows\u001b[0m\u001b[0;34m=\u001b[0m\u001b[0;32mNone\u001b[0m\u001b[0;34m)\u001b[0m\u001b[0;34m:\u001b[0m\u001b[0;34m\u001b[0m\u001b[0;34m\u001b[0m\u001b[0m\n\u001b[1;32m   2055\u001b[0m         \u001b[0;32mtry\u001b[0m\u001b[0;34m:\u001b[0m\u001b[0;34m\u001b[0m\u001b[0;34m\u001b[0m\u001b[0m\n\u001b[0;32m-> 2056\u001b[0;31m             \u001b[0mdata\u001b[0m \u001b[0;34m=\u001b[0m \u001b[0mself\u001b[0m\u001b[0;34m.\u001b[0m\u001b[0m_reader\u001b[0m\u001b[0;34m.\u001b[0m\u001b[0mread\u001b[0m\u001b[0;34m(\u001b[0m\u001b[0mnrows\u001b[0m\u001b[0;34m)\u001b[0m\u001b[0;34m\u001b[0m\u001b[0;34m\u001b[0m\u001b[0m\n\u001b[0m\u001b[1;32m   2057\u001b[0m         \u001b[0;32mexcept\u001b[0m \u001b[0mStopIteration\u001b[0m\u001b[0;34m:\u001b[0m\u001b[0;34m\u001b[0m\u001b[0;34m\u001b[0m\u001b[0m\n\u001b[1;32m   2058\u001b[0m             \u001b[0;32mif\u001b[0m \u001b[0mself\u001b[0m\u001b[0;34m.\u001b[0m\u001b[0m_first_chunk\u001b[0m\u001b[0;34m:\u001b[0m\u001b[0;34m\u001b[0m\u001b[0;34m\u001b[0m\u001b[0m\n",
      "\u001b[0;31mKeyboardInterrupt\u001b[0m: "
     ]
    }
   ],
   "source": [
    "experiment_config['site'] = 'DE-Gri'\n",
    "experiment_config['X'] = ['VPD_F', 'PA_F', 'P_F', 'WS_F', 'SWC_F_MDS_1', 'TA_F']\n",
    "experiment_config['Y'] = 'NEE'\n",
    "experiment_config['T'] = 'SW_IN_F'\n",
    "exp = experiment.FluxPartDML()\n",
    "exp.new('DE-Gri')\n",
    "exp.configs(experiment_config)\n",
    "exp.run()\n",
    "\n",
    "experiment_config['site'] = 'FR-FBn'\n",
    "experiment_config['X'] = ['VPD_F', 'PA_F', 'P_F', 'WS_F', 'SWC_F_MDS_1', 'TA_F']\n",
    "experiment_config['Y'] = 'NEE'\n",
    "experiment_config['T'] = 'SW_IN_F'\n",
    "exp = experiment.FluxPartDML()\n",
    "exp.new('Fr-FBn')\n",
    "exp.configs(experiment_config)\n",
    "exp.run()\n",
    "\n",
    "experiment_config['site'] = 'FI-Hyy'\n",
    "experiment_config['X'] =['VPD_F', 'PA_F', 'P_F', 'WS_F', 'SWC_F_MDS_1', 'TA_F']\n",
    "experiment_config['Y'] = 'NEE'\n",
    "experiment_config['T'] = 'SW_IN_F'\n",
    "exp = experiment.FluxPartDML()\n",
    "exp.new('FI-Hyy')\n",
    "exp.configs(experiment_config)\n",
    "exp.run()\n",
    "\n",
    "\n",
    "experiment_config['site'] = 'CH-Cha'\n",
    "experiment_config['X'] = ['VPD_F', 'PA_F', 'P_F', 'WS_F', 'SWC_F_MDS_1', 'TA_F']\n",
    "experiment_config['Y'] = 'NEE'\n",
    "experiment_config['T'] = 'SW_IN_F'\n",
    "exp = experiment.FluxPartDML()\n",
    "exp.new('CH-Cha')\n",
    "exp.configs(experiment_config)\n",
    "exp.run()\n",
    "\n"
   ]
  },
  {
   "cell_type": "code",
   "execution_count": null,
   "metadata": {},
   "outputs": [
    {
     "name": "stdout",
     "output_type": "stream",
     "text": [
      "Create new experiment folder : /usr/users/kcohrs/bayesian-q10/exp/FPDML_DE-Gri_2022-03-31_16\n",
      "Create new experiment folder : /usr/users/kcohrs/bayesian-q10/exp/FPDML_DE-Gri_2022-03-31_17\n"
     ]
    }
   ],
   "source": [
    "experiment_config['X'] = ['VPD_F', 'PA_F', 'P_F', 'SWC_F_MDS_1', 'TA_F']\n",
    "experiment_config['Y'] = 'NEE'\n",
    "experiment_config['T'] = 'SW_IN_F'\n",
    "experiment_config['train_period'] = (2008, 2009)\n",
    "experiment_config['test_period'] = (2009, 2010)\n",
    "exp = experiment.FluxPartDML()\n",
    "exp.new('DE-Gri')\n",
    "exp.configs(experiment_config)\n",
    "exp.run()\n",
    "\n",
    "experiment_config['X'] = ['VPD_F', 'PA_F', 'P_F', 'SWC_F_MDS_1', 'TA_F']\n",
    "experiment_config['Y'] = 'NEE'\n",
    "experiment_config['T'] = 'SW_IN_F'\n",
    "experiment_config['train_period'] = (2008, 2010)\n",
    "experiment_config['test_period'] = (2010, 2012)\n",
    "exp = experiment.FluxPartDML()\n",
    "exp.new('DE-Gri')\n",
    "exp.configs(experiment_config)\n",
    "exp.run()\n",
    "\n",
    "experiment_config['X'] = ['VPD_F', 'PA_F', 'P_F', 'SWC_F_MDS_1', 'TA_F']\n",
    "experiment_config['Y'] = 'NEE'\n",
    "experiment_config['T'] = 'SW_IN_F'\n",
    "experiment_config['train_period'] = (2008, 2012)\n",
    "experiment_config['test_period'] = (2012, 2014)\n",
    "exp = experiment.FluxPartDML()\n",
    "exp.new('DE-Gri')\n",
    "exp.configs(experiment_config)\n",
    "exp.run()\n",
    "\n",
    "experiment_config['X'] = ['VPD_F', 'PA_F', 'P_F', 'SWC_F_MDS_1', 'TA_F']\n",
    "experiment_config['Y'] = 'NEE'\n",
    "experiment_config['T'] = 'SW_IN_F'\n",
    "experiment_config['train_period'] = (2008, 2014)\n",
    "experiment_config['test_period'] = (2014, 2016)\n",
    "exp = experiment.FluxPartDML()\n",
    "exp.new('DE-Gri')\n",
    "exp.configs(experiment_config)\n",
    "exp.run()\n",
    "\n"
   ]
  },
  {
   "cell_type": "code",
   "execution_count": 619,
   "metadata": {},
   "outputs": [
    {
     "data": {
      "text/plain": [
       "<AxesSubplot:>"
      ]
     },
     "execution_count": 619,
     "metadata": {},
     "output_type": "execute_result"
    },
    {
     "data": {
      "image/png": "[encoded data removed]",
      "text/plain": [
       "<Figure size 432x288 with 1 Axes>"
      ]
     },
     "metadata": {
      "needs_background": "light"
     },
     "output_type": "display_data"
    }
   ],
   "source": [
    "exp.data_train['TA_F'].plot()"
   ]
  },
  {
   "cell_type": "code",
   "execution_count": null,
   "metadata": {},
   "outputs": [],
   "source": []
  },
  {
   "cell_type": "code",
   "execution_count": 555,
   "metadata": {},
   "outputs": [],
   "source": [
    "def clean_outliers(x):\n",
    "    median = np.median(x)\n",
    "    y = (np.roll(x,-1,0) + np.roll(x, 1, 0))/2\n",
    "    conditions = [np.abs(x) < np.abs(y) + 2*median, np.abs(x) >= np.abs(y) + 2*median]\n",
    "    choicelist = [x, y]\n",
    "    x_new = np.select(conditions, choicelist)\n",
    "\n",
    "    return x_new    "
   ]
  },
  {
   "cell_type": "code",
   "execution_count": 556,
   "metadata": {},
   "outputs": [
    {
     "ename": "AttributeError",
     "evalue": "'FluxPartDML' object has no attribute 'data_train'",
     "output_type": "error",
     "traceback": [
      "\u001b[0;31m---------------------------------------------------------------------------\u001b[0m",
      "\u001b[0;31mAttributeError\u001b[0m                            Traceback (most recent call last)",
      "\u001b[0;32m<ipython-input-556-9228117ba214>\u001b[0m in \u001b[0;36m<module>\u001b[0;34m\u001b[0m\n\u001b[0;32m----> 1\u001b[0;31m \u001b[0mexp\u001b[0m\u001b[0;34m.\u001b[0m\u001b[0mdata_train\u001b[0m\u001b[0;34m[\u001b[0m\u001b[0;34m'GPP_orth'\u001b[0m\u001b[0;34m]\u001b[0m \u001b[0;34m=\u001b[0m \u001b[0my\u001b[0m\u001b[0;34m\u001b[0m\u001b[0;34m\u001b[0m\u001b[0m\n\u001b[0m",
      "\u001b[0;31mAttributeError\u001b[0m: 'FluxPartDML' object has no attribute 'data_train'"
     ]
    }
   ],
   "source": [
    "exp.data_train['GPP_orth'] = y"
   ]
  },
  {
   "cell_type": "code",
   "execution_count": 554,
   "metadata": {},
   "outputs": [
    {
     "ename": "AttributeError",
     "evalue": "'FluxPartDML' object has no attribute 'data_train'",
     "output_type": "error",
     "traceback": [
      "\u001b[0;31m---------------------------------------------------------------------------\u001b[0m",
      "\u001b[0;31mAttributeError\u001b[0m                            Traceback (most recent call last)",
      "\u001b[0;32m<ipython-input-554-b6fd5ce9ce59>\u001b[0m in \u001b[0;36m<module>\u001b[0;34m\u001b[0m\n\u001b[0;32m----> 1\u001b[0;31m \u001b[0mexp\u001b[0m\u001b[0;34m.\u001b[0m\u001b[0mdata_train\u001b[0m\u001b[0;34m[\u001b[0m\u001b[0;34m'GPP_orth'\u001b[0m\u001b[0;34m]\u001b[0m\u001b[0;34m.\u001b[0m\u001b[0mplot\u001b[0m\u001b[0;34m(\u001b[0m\u001b[0;34m)\u001b[0m\u001b[0;34m\u001b[0m\u001b[0;34m\u001b[0m\u001b[0m\n\u001b[0m",
      "\u001b[0;31mAttributeError\u001b[0m: 'FluxPartDML' object has no attribute 'data_train'"
     ]
    }
   ],
   "source": [
    "exp.data_train['GPP_orth'].plot()"
   ]
  },
  {
   "cell_type": "code",
   "execution_count": 549,
   "metadata": {},
   "outputs": [],
   "source": [
    "exp.data_train['GPP_orth'] = clean_outliers(exp.data_train['GPP_orth'])"
   ]
  },
  {
   "cell_type": "code",
   "execution_count": 550,
   "metadata": {},
   "outputs": [
    {
     "data": {
      "text/plain": [
       "<AxesSubplot:>"
      ]
     },
     "execution_count": 550,
     "metadata": {},
     "output_type": "execute_result"
    },
    {
     "data": {
      "image/png": "[encoded data removed]",
      "text/plain": [
       "<Figure size 432x288 with 1 Axes>"
      ]
     },
     "metadata": {
      "needs_background": "light"
     },
     "output_type": "display_data"
    }
   ],
   "source": [
    "exp.data_train['GPP_orth'].plot()"
   ]
  },
  {
   "cell_type": "code",
   "execution_count": null,
   "metadata": {},
   "outputs": [],
   "source": [
    "exp = experiment.FluxPartDML()\n",
    "exp.new('DE-Gri')\n",
    "exp.configs(experiment_config)\n",
    "exp.run()"
   ]
  },
  {
   "cell_type": "code",
   "execution_count": 585,
   "metadata": {},
   "outputs": [],
   "source": [
    "def clean_outliers(x, mean=False, times=2):\n",
    "    if mean:\n",
    "        crit = np.mean(x)\n",
    "    else:\n",
    "        crit = np.median(x)\n",
    "    y = (np.roll(x,-1,0) + np.roll(x, 1, 0))/2\n",
    "    conditions = [np.abs(x) < np.abs(y) + times*crit, np.abs(x) >= np.abs(y) + times*crit]\n",
    "    choicelist = [x, y]\n",
    "    x_new = np.select(conditions, choicelist)\n",
    "\n",
    "    return x_new    "
   ]
  },
  {
   "cell_type": "code",
   "execution_count": 586,
   "metadata": {},
   "outputs": [],
   "source": [
    "var = 'NEE_orth'"
   ]
  },
  {
   "cell_type": "code",
   "execution_count": 587,
   "metadata": {},
   "outputs": [],
   "source": [
    "y = exp.data_train[var].copy()"
   ]
  },
  {
   "cell_type": "code",
   "execution_count": 588,
   "metadata": {},
   "outputs": [],
   "source": [
    "exp.data_train[var] = y"
   ]
  },
  {
   "cell_type": "code",
   "execution_count": 589,
   "metadata": {},
   "outputs": [
    {
     "data": {
      "text/plain": [
       "<AxesSubplot:>"
      ]
     },
     "execution_count": 589,
     "metadata": {},
     "output_type": "execute_result"
    },
    {
     "data": {
      "image/png": "[encoded data removed]",
      "text/plain": [
       "<Figure size 432x288 with 1 Axes>"
      ]
     },
     "metadata": {
      "needs_background": "light"
     },
     "output_type": "display_data"
    }
   ],
   "source": [
    "exp.data_train[var].plot()"
   ]
  },
  {
   "cell_type": "code",
   "execution_count": 590,
   "metadata": {},
   "outputs": [],
   "source": [
    "exp.data_train[var] = clean_outliers(exp.data_train[var], mean=False, times=2)"
   ]
  },
  {
   "cell_type": "code",
   "execution_count": 591,
   "metadata": {},
   "outputs": [
    {
     "data": {
      "text/plain": [
       "<AxesSubplot:>"
      ]
     },
     "execution_count": 591,
     "metadata": {},
     "output_type": "execute_result"
    },
    {
     "data": {
      "image/png": "[encoded data removed]",
      "text/plain": [
       "<Figure size 432x288 with 1 Axes>"
      ]
     },
     "metadata": {
      "needs_background": "light"
     },
     "output_type": "display_data"
    }
   ],
   "source": [
    "exp.data_train[var].plot()"
   ]
  },
  {
   "cell_type": "code",
   "execution_count": null,
   "metadata": {},
   "outputs": [],
   "source": [
    "exp.data"
   ]
  },
  {
   "cell_type": "code",
   "execution_count": 291,
   "metadata": {},
   "outputs": [
    {
     "data": {
      "text/plain": [
       "<AxesSubplot:>"
      ]
     },
     "execution_count": 291,
     "metadata": {},
     "output_type": "execute_result"
    },
    {
     "data": {
      "image/png": "[encoded data removed]",
      "text/plain": [
       "<Figure size 432x288 with 1 Axes>"
      ]
     },
     "metadata": {
      "needs_background": "light"
     },
     "output_type": "display_data"
    }
   ],
   "source": [
    "exp.data_train['SW_IN_F'].plot()"
   ]
  },
  {
   "cell_type": "code",
   "execution_count": 292,
   "metadata": {},
   "outputs": [
    {
     "data": {
      "text/plain": [
       "<AxesSubplot:>"
      ]
     },
     "execution_count": 292,
     "metadata": {},
     "output_type": "execute_result"
    },
    {
     "data": {
      "image/png": "[encoded data removed]",
      "text/plain": [
       "<Figure size 432x288 with 1 Axes>"
      ]
     },
     "metadata": {
      "needs_background": "light"
     },
     "output_type": "display_data"
    }
   ],
   "source": [
    "exp.data_train['GPP_orth'].plot()"
   ]
  },
  {
   "cell_type": "code",
   "execution_count": null,
   "metadata": {},
   "outputs": [],
   "source": [
    "\"VPD_F\", \"PA_F\", \"P_F\", \"WS_F\", \"SWC_F_MDS_1\", \"TA_F\""
   ]
  },
  {
   "cell_type": "code",
   "execution_count": 298,
   "metadata": {},
   "outputs": [
    {
     "data": {
      "text/plain": [
       "<AxesSubplot:>"
      ]
     },
     "execution_count": 298,
     "metadata": {},
     "output_type": "execute_result"
    },
    {
     "data": {
      "image/png": "[encoded data removed]",
      "text/plain": [
       "<Figure size 432x288 with 1 Axes>"
      ]
     },
     "metadata": {
      "needs_background": "light"
     },
     "output_type": "display_data"
    }
   ],
   "source": [
    "exp.data_train['TA_F'].plot()"
   ]
  },
  {
   "cell_type": "code",
   "execution_count": 209,
   "metadata": {},
   "outputs": [
    {
     "data": {
      "image/png": "[encoded data removed]",
      "text/latex": [
       "$\\displaystyle \\left( 1, \\  5\\right)$"
      ],
      "text/plain": [
       "(1, 5)"
      ]
     },
     "execution_count": 209,
     "metadata": {},
     "output_type": "execute_result"
    }
   ],
   "source": [
    "np.expand_dims(exp.X_train[0], axis=0).shape"
   ]
  },
  {
   "cell_type": "code",
   "execution_count": 213,
   "metadata": {},
   "outputs": [],
   "source": [
    "w = [None]\n",
    "w = w*10"
   ]
  },
  {
   "cell_type": "code",
   "execution_count": 190,
   "metadata": {},
   "outputs": [
    {
     "data": {
      "image/png": "[encoded data removed]",
      "text/latex": [
       "$\\displaystyle \\left( 5, \\  35018\\right)$"
      ],
      "text/plain": [
       "(5, 35018)"
      ]
     },
     "execution_count": 190,
     "metadata": {},
     "output_type": "execute_result"
    }
   ],
   "source": [
    "exp.X_train.transpose().shape"
   ]
  },
  {
   "cell_type": "code",
   "execution_count": 129,
   "metadata": {},
   "outputs": [
    {
     "name": "stdout",
     "output_type": "stream",
     "text": [
      "1\n",
      "0\n"
     ]
    },
    {
     "ename": "KeyError",
     "evalue": "0",
     "output_type": "error",
     "traceback": [
      "\u001b[0;31m---------------------------------------------------------------------------\u001b[0m",
      "\u001b[0;31mKeyError\u001b[0m                                  Traceback (most recent call last)",
      "\u001b[0;32m<ipython-input-129-e442628ac536>\u001b[0m in \u001b[0;36m<module>\u001b[0;34m\u001b[0m\n\u001b[1;32m      5\u001b[0m     \u001b[0mprint\u001b[0m\u001b[0;34m(\u001b[0m\u001b[0mmonth\u001b[0m\u001b[0;34m)\u001b[0m\u001b[0;34m\u001b[0m\u001b[0;34m\u001b[0m\u001b[0m\n\u001b[1;32m      6\u001b[0m     \u001b[0mprint\u001b[0m\u001b[0;34m(\u001b[0m\u001b[0mi\u001b[0m\u001b[0;34m)\u001b[0m\u001b[0;34m\u001b[0m\u001b[0;34m\u001b[0m\u001b[0m\n\u001b[0;32m----> 7\u001b[0;31m     \u001b[0mout\u001b[0m\u001b[0;34m.\u001b[0m\u001b[0mappend\u001b[0m\u001b[0;34m(\u001b[0m\u001b[0;34m-\u001b[0m\u001b[0mexp\u001b[0m\u001b[0;34m.\u001b[0m\u001b[0mest_dict\u001b[0m\u001b[0;34m[\u001b[0m\u001b[0mmonth\u001b[0m\u001b[0;34m]\u001b[0m\u001b[0;34m.\u001b[0m\u001b[0mest\u001b[0m\u001b[0;34m.\u001b[0m\u001b[0mconst_marginal_effect\u001b[0m\u001b[0;34m(\u001b[0m\u001b[0mx\u001b[0m\u001b[0;34m[\u001b[0m\u001b[0mi\u001b[0m\u001b[0;34m]\u001b[0m\u001b[0;34m)\u001b[0m\u001b[0;34m*\u001b[0m\u001b[0mt\u001b[0m\u001b[0;34m[\u001b[0m\u001b[0mi\u001b[0m\u001b[0;34m]\u001b[0m\u001b[0;34m)\u001b[0m\u001b[0;34m\u001b[0m\u001b[0;34m\u001b[0m\u001b[0m\n\u001b[0m",
      "\u001b[0;31mKeyError\u001b[0m: 0"
     ]
    }
   ],
   "source": [
    "x = exp.X_train\n",
    "t = exp.T_train\n",
    "out = list()\n",
    "for i, month in enumerate(exp.data_train['Month'].values):\n",
    "    print(month)\n",
    "    print(i)\n",
    "    out.append(-exp.est_dict[month].est.const_marginal_effect(x[i])*t[i])"
   ]
  },
  {
   "cell_type": "code",
   "execution_count": 74,
   "metadata": {},
   "outputs": [
    {
     "data": {
      "text/plain": [
       "array([ 1,  1,  1, ..., 12, 12, 12])"
      ]
     },
     "execution_count": 74,
     "metadata": {},
     "output_type": "execute_result"
    }
   ],
   "source": [
    "exp.data_test['Month'].values"
   ]
  },
  {
   "cell_type": "code",
   "execution_count": null,
   "metadata": {},
   "outputs": [],
   "source": [
    "for param in list(exp.data_all.columns):\n",
    "    print(param)"
   ]
  },
  {
   "cell_type": "code",
   "execution_count": null,
   "metadata": {},
   "outputs": [],
   "source": [
    "!pip install doubleml\n",
    "!pip install econml\n",
    "!pip install astropy\n",
    "!pip install python-picard\n",
    "!pip install sklearn-extensions"
   ]
  },
  {
   "cell_type": "code",
   "execution_count": 92,
   "metadata": {},
   "outputs": [],
   "source": [
    "import requests\n",
    "import pandas as pd\n",
    "import os\n",
    "from datetime import datetime\n",
    "import itertools"
   ]
  },
  {
   "cell_type": "code",
   "execution_count": 172,
   "metadata": {},
   "outputs": [],
   "source": [
    "dataset = 'FR-FBn'\n",
    "folder_path = '../data/FLX_' + dataset + '/'\n",
    "file = 'FLX_' + dataset + '_FLUXNET2015_FULLSET_HH'"
   ]
  },
  {
   "cell_type": "code",
   "execution_count": 173,
   "metadata": {},
   "outputs": [],
   "source": [
    "try:\n",
    "    for file_names in os.listdir(folder_path):\n",
    "        if file in file_names:\n",
    "            df = pd.read_csv(folder_path + file_names)\n",
    "except FileNotFoundError as fnf_error:\n",
    "    print(fnf_error)"
   ]
  },
  {
   "cell_type": "code",
   "execution_count": null,
   "metadata": {},
   "outputs": [],
   "source": [
    "for column in df.columns:\n",
    "    print(column)"
   ]
  },
  {
   "cell_type": "markdown",
   "metadata": {},
   "source": [
    "### Meaning of certain flags\n",
    "\n",
    "* F: gapfilled data\n",
    "* MDS: gapfilling method - marginal distribution sampling\n",
    "* ref\n",
    "* CUT/VUT: UT method\n",
    "* CUT: Net Ecosystem Exchange, using Constant Ustar Threshold (CUT) across years, reference selected on the basis of the model efficiency (MEF). The MEF analysis is repeated for each time aggregation\n",
    "* VUT: Net Ecosystem Exchange, using Variable Ustar Threshold (VUT) for each year, reference selected on the basis of the model efficiency (MEF). The MEF analysis is repeated for each time aggregation\n",
    "* TA_F_MDS:  Air temperature, gapfilled using MDS method\n",
    "* TA_ERA: Air temperature, downscaled from ERA, linearly regressed using measured only site data\n",
    "* TA_F: Air temperature consolidated from TA_F_MDS and TA_ERA\n",
    "\n",
    "I think it is best to use the F data (the one without has weird behaviour)"
   ]
  },
  {
   "cell_type": "code",
   "execution_count": 207,
   "metadata": {},
   "outputs": [
    {
     "data": {
      "text/plain": [
       "<AxesSubplot:>"
      ]
     },
     "execution_count": 207,
     "metadata": {},
     "output_type": "execute_result"
    },
    {
     "data": {
      "image/png": "[encoded data removed]",
      "text/plain": [
       "<Figure size 432x288 with 1 Axes>"
      ]
     },
     "metadata": {
      "needs_background": "light"
     },
     "output_type": "display_data"
    }
   ],
   "source": [
    "df['NEE_CUT_REF'].plot()\n",
    "df['NEE_VUT_REF'].plot()\n"
   ]
  },
  {
   "cell_type": "code",
   "execution_count": 180,
   "metadata": {},
   "outputs": [],
   "source": [
    "columns = ['TIMESTAMP_START',\n",
    "           'TA_F',\n",
    "           'SW_IN_POT',\n",
    "           'SW_IN_F',\n",
    "           'LW_IN_F',\n",
    "           'VPD_F',\n",
    "           'PA_F',\n",
    "           'P_F',\n",
    "           'WS_F',\n",
    "           #'SWC_F_MDS_1',\n",
    "            #'WD',\n",
    "           'CO2_F_MDS',\n",
    "           'NEE_CUT_REF',\n",
    "           'NEE_VUT_REF',\n",
    "           'RECO_NT_VUT_REF',\n",
    "           'RECO_NT_CUT_REF',\n",
    "           'RECO_DT_VUT_REF',\n",
    "           'RECO_DT_CUT_REF',\n",
    "           'GPP_NT_VUT_REF',\n",
    "           'GPP_NT_CUT_REF',\n",
    "           'GPP_DT_VUT_REF',\n",
    "           'GPP_DT_CUT_REF',]           "
   ]
  },
  {
   "cell_type": "code",
   "execution_count": 181,
   "metadata": {},
   "outputs": [],
   "source": [
    "df = df[columns]\n",
    "\n",
    "for column in df.columns:\n",
    "    df = df[df[column] != -9999.000]\n",
    "    \n",
    "df['DateTime'] = pd.to_datetime(df['TIMESTAMP_START']+15, format=\"%Y%m%d%H%M\")\n",
    "df[\"Date\"] = pd.to_datetime(df['DateTime']).dt.date\n",
    "df[\"Time\"] = pd.to_datetime(df['DateTime']).dt.time\n",
    "df[\"Month\"] = pd.to_datetime(df['Date']).dt.month\n",
    "df[\"Year\"] = pd.to_datetime(df['Date']).dt.year\n",
    "df[\"doy\"] = pd.to_datetime(df['DateTime']).dt.dayofyear\n",
    "\n",
    "years = list(range(2008, 2009))\n",
    "df = df[df['Year'].isin(years)]"
   ]
  },
  {
   "cell_type": "code",
   "execution_count": 182,
   "metadata": {},
   "outputs": [],
   "source": [
    "#for columns in ['PA_F', 'P_F', 'WS_F', 'TA_F', 'VPD_F', 'CO2_F_MDS', 'SWC_F_MDS_1']:\n",
    "for columns in ['PA_F', 'P_F', 'WS_F', 'TA_F', 'VPD_F', 'CO2_F_MDS']:\n",
    "    df[columns + '_normed'] = (df[columns].loc[:]-df[columns].mean())/df[columns].std()\n",
    "    X"
   ]
  },
  {
   "cell_type": "code",
   "execution_count": 183,
   "metadata": {
    "collapsed": true,
    "jupyter": {
     "outputs_hidden": true
    }
   },
   "outputs": [],
   "source": [
    "T = df['SW_IN_F']\n",
    "#X = df[['TA_F_normed','VPD_F_normed', 'SWC_F_MDS_1_normed']]\n",
    "X = df[['TA_F_normed','VPD_F_normed']]\n",
    "\n",
    "Y = df['NEE_CUT_REF']"
   ]
  },
  {
   "cell_type": "code",
   "execution_count": null,
   "metadata": {
    "collapsed": true,
    "jupyter": {
     "outputs_hidden": true
    }
   },
   "outputs": [],
   "source": []
  },
  {
   "cell_type": "code",
   "execution_count": null,
   "metadata": {
    "collapsed": true,
    "jupyter": {
     "outputs_hidden": true
    }
   },
   "outputs": [],
   "source": []
  }
 ],
 "metadata": {
  "kernelspec": {
   "display_name": "Python 3",
   "language": "python",
   "name": "python3"
  },
  "language_info": {
   "codemirror_mode": {
    "name": "ipython",
    "version": 3
   },
   "file_extension": ".py",
   "mimetype": "text/x-python",
   "name": "python",
   "nbconvert_exporter": "python",
   "pygments_lexer": "ipython3",
   "version": "3.8.0"
  }
 },
 "nbformat": 4,
 "nbformat_minor": 5
}
