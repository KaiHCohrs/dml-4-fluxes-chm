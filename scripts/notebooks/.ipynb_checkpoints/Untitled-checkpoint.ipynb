{
 "cells": [
  {
   "cell_type": "code",
   "execution_count": 1,
   "metadata": {},
   "outputs": [],
   "source": [
    "import numpy as np"
   ]
  },
  {
   "cell_type": "code",
   "execution_count": 3,
   "metadata": {},
   "outputs": [
    {
     "data": {
      "text/plain": [
       "[1, 2, 3, 4, 5, 6, 7, 8, 9, 10, 11, 12]"
      ]
     },
     "execution_count": 3,
     "metadata": {},
     "output_type": "execute_result"
    }
   ],
   "source": [
    "list(range(1,13))"
   ]
  },
  {
   "cell_type": "code",
   "execution_count": 12,
   "metadata": {},
   "outputs": [],
   "source": [
    "x = list()\n",
    "x.append(np.zeros(3))\n",
    "x.append(np.ones(3))\n"
   ]
  },
  {
   "cell_type": "code",
   "execution_count": 15,
   "metadata": {},
   "outputs": [
    {
     "data": {
      "text/plain": [
       "array([0., 0., 0., 1., 1., 1.])"
      ]
     },
     "execution_count": 15,
     "metadata": {},
     "output_type": "execute_result"
    }
   ],
   "source": [
    "np.concatenate(x)"
   ]
  },
  {
   "cell_type": "code",
   "execution_count": 16,
   "metadata": {},
   "outputs": [
    {
     "data": {
      "text/plain": [
       "0.001"
      ]
     },
     "execution_count": 16,
     "metadata": {},
     "output_type": "execute_result"
    }
   ],
   "source": []
  },
  {
   "cell_type": "code",
   "execution_count": 22,
   "metadata": {},
   "outputs": [
    {
     "name": "stdout",
     "output_type": "stream",
     "text": [
      "The autoreload extension is already loaded. To reload it, use:\n",
      "  %reload_ext autoreload\n"
     ]
    }
   ],
   "source": [
    "# Imports\n",
    "%load_ext autoreload\n",
    "%autoreload 2\n",
    "#%matplotlib ipympl\n",
    "#%matplotlib widget\n",
    "import pathlib\n",
    "import sys\n",
    "import random\n",
    "sys.path.append('../')\n",
    "sys.path.append('/usr/users/kcohrs/bayesian-q10/ONEFlux/')\n",
    "\n",
    "import torch\n",
    "import torch.utils.data\n",
    "import torchvision.utils\n",
    "from torch import nn, optim\n",
    "from torch.nn import functional as F\n",
    "from torchvision import datasets, transforms\n",
    "from torch.utils.data import Dataset\n",
    "\n",
    "import numpy as np\n",
    "import math\n",
    "\n",
    "import fastprogress\n",
    "import matplotlib.pyplot as plt\n",
    "import scipy.stats as stats\n",
    "\n",
    "import pandas as pd\n",
    "import shutil\n",
    "from sklearn.metrics import r2_score\n",
    "\n",
    "from bayesian_q10.experiments import experiment\n",
    "from bayesian_q10.experiments import experiment\n",
    "from bayesian_q10.analysis.visualization import density_scatter\n",
    "from bayesian_q10.experiments import experiment_utils\n",
    "from bayesian_q10.analysis.postprocessing import * "
   ]
  },
  {
   "cell_type": "code",
   "execution_count": 24,
   "metadata": {},
   "outputs": [],
   "source": [
    "dataset_config = dict(\n",
    "                site_name = 'all',\n",
    "                syn = False,\n",
    "                Q10=1.5,\n",
    "                relnoise=0.05,\n",
    "                transform_T = True,\n",
    "                month_wise= False,\n",
    "                delta = 'heuristic3', #fixed value, max_heuristic, slope_heuristic \n",
    "                X = ['VPD', 'TA','wdefcum', \"SW_POT_sm\", \"SW_POT_sm_diff\"],\n",
    "                W = [], #['SW_POT_sm', 'SW_POT_sm_diff'], #['wdefcum'],\n",
    "                years = 'all', #'all'\n",
    "                norm_type = 'standardize'\n",
    "                )\n",
    "\n",
    "\n",
    "model_y_config = dict(model = 'GradientBoostingRegressor',\n",
    "                      min_samples_split = 2,\n",
    "                      min_samples_leaf = 5)\n",
    "model_t_config = dict(model = 'GradientBoostingRegressor',\n",
    "                      min_samples_split = 2,\n",
    "                      min_samples_leaf = 5)\n",
    "model_final_config = dict(model = 'GradientBoostingRegressor',\n",
    "                      min_samples_split = 2,\n",
    "                      min_samples_leaf = 5)\n",
    "dml_config = dict(cv=10)\n",
    "\n",
    "model_configs = dict(y = model_y_config,\n",
    "                    t = model_t_config,\n",
    "                    final= model_final_config,\n",
    "                    dml =dml_config)\n",
    "\n",
    "experiment_config = dict(experiment_type = \"flux_partitioning\",\n",
    "                         comment=\"test\",\n",
    "                         seed=1000)"
   ]
  },
  {
   "cell_type": "code",
   "execution_count": 66,
   "metadata": {},
   "outputs": [],
   "source": [
    "analysis_data= pd.read_csv('/usr/users/kcohrs/bayesian-q10/exp/FPDML_all_2022-07-04_46/analysis_data.csv')"
   ]
  },
  {
   "cell_type": "code",
   "execution_count": 85,
   "metadata": {},
   "outputs": [
    {
     "ename": "TypeError",
     "evalue": "the JSON object must be str, bytes or bytearray, not dict",
     "output_type": "error",
     "traceback": [
      "\u001b[0;31m---------------------------------------------------------------------------\u001b[0m",
      "\u001b[0;31mTypeError\u001b[0m                                 Traceback (most recent call last)",
      "\u001b[0;32m<ipython-input-85-71de3c25f335>\u001b[0m in \u001b[0;36m<module>\u001b[0;34m\u001b[0m\n\u001b[0;32m----> 1\u001b[0;31m \u001b[0mresults\u001b[0m \u001b[0;34m=\u001b[0m \u001b[0mjson\u001b[0m\u001b[0;34m.\u001b[0m\u001b[0mloads\u001b[0m\u001b[0;34m(\u001b[0m\u001b[0mjson\u001b[0m\u001b[0;34m.\u001b[0m\u001b[0mload\u001b[0m\u001b[0;34m(\u001b[0m\u001b[0mopen\u001b[0m\u001b[0;34m(\u001b[0m\u001b[0;34m'/usr/users/kcohrs/bayesian-q10/exp/FPDML_all_2022-07-04_46/results_all.json'\u001b[0m\u001b[0;34m)\u001b[0m\u001b[0;34m)\u001b[0m\u001b[0;34m)\u001b[0m\u001b[0;34m\u001b[0m\u001b[0;34m\u001b[0m\u001b[0m\n\u001b[0m",
      "\u001b[0;32m/usr/lib/python3.8/json/__init__.py\u001b[0m in \u001b[0;36mloads\u001b[0;34m(s, cls, object_hook, parse_float, parse_int, parse_constant, object_pairs_hook, **kw)\u001b[0m\n\u001b[1;32m    339\u001b[0m     \u001b[0;32melse\u001b[0m\u001b[0;34m:\u001b[0m\u001b[0;34m\u001b[0m\u001b[0;34m\u001b[0m\u001b[0m\n\u001b[1;32m    340\u001b[0m         \u001b[0;32mif\u001b[0m \u001b[0;32mnot\u001b[0m \u001b[0misinstance\u001b[0m\u001b[0;34m(\u001b[0m\u001b[0ms\u001b[0m\u001b[0;34m,\u001b[0m \u001b[0;34m(\u001b[0m\u001b[0mbytes\u001b[0m\u001b[0;34m,\u001b[0m \u001b[0mbytearray\u001b[0m\u001b[0;34m)\u001b[0m\u001b[0;34m)\u001b[0m\u001b[0;34m:\u001b[0m\u001b[0;34m\u001b[0m\u001b[0;34m\u001b[0m\u001b[0m\n\u001b[0;32m--> 341\u001b[0;31m             raise TypeError(f'the JSON object must be str, bytes or bytearray, '\n\u001b[0m\u001b[1;32m    342\u001b[0m                             f'not {s.__class__.__name__}')\n\u001b[1;32m    343\u001b[0m         \u001b[0ms\u001b[0m \u001b[0;34m=\u001b[0m \u001b[0ms\u001b[0m\u001b[0;34m.\u001b[0m\u001b[0mdecode\u001b[0m\u001b[0;34m(\u001b[0m\u001b[0mdetect_encoding\u001b[0m\u001b[0;34m(\u001b[0m\u001b[0ms\u001b[0m\u001b[0;34m)\u001b[0m\u001b[0;34m,\u001b[0m \u001b[0;34m'surrogatepass'\u001b[0m\u001b[0;34m)\u001b[0m\u001b[0;34m\u001b[0m\u001b[0;34m\u001b[0m\u001b[0m\n",
      "\u001b[0;31mTypeError\u001b[0m: the JSON object must be str, bytes or bytearray, not dict"
     ]
    }
   ],
   "source": [
    "results = json.loads(json.load(open('/usr/users/kcohrs/bayesian-q10/exp/FPDML_all_2022-07-04_46/results_all.json')))"
   ]
  },
  {
   "cell_type": "code",
   "execution_count": 93,
   "metadata": {},
   "outputs": [],
   "source": [
    "R2_all = pd.read_json(json.load(open('/usr/users/kcohrs/bayesian-q10/exp/FPDML_all_2022-07-04_46/results_all.json'))['R2_all'])"
   ]
  },
  {
   "cell_type": "code",
   "execution_count": 101,
   "metadata": {},
   "outputs": [
    {
     "data": {
      "text/html": [
       "<div>\n",
       "<style scoped>\n",
       "    .dataframe tbody tr th:only-of-type {\n",
       "        vertical-align: middle;\n",
       "    }\n",
       "\n",
       "    .dataframe tbody tr th {\n",
       "        vertical-align: top;\n",
       "    }\n",
       "\n",
       "    .dataframe thead th {\n",
       "        text-align: right;\n",
       "    }\n",
       "</style>\n",
       "<table border=\"1\" class=\"dataframe\">\n",
       "  <thead>\n",
       "    <tr style=\"text-align: right;\">\n",
       "      <th></th>\n",
       "      <th>Year</th>\n",
       "      <th>RECO</th>\n",
       "      <th>RECO_res</th>\n",
       "      <th>GPP</th>\n",
       "      <th>NEE</th>\n",
       "      <th>QC</th>\n",
       "      <th>method</th>\n",
       "      <th>site</th>\n",
       "    </tr>\n",
       "  </thead>\n",
       "  <tbody>\n",
       "    <tr>\n",
       "      <th>0</th>\n",
       "      <td>2015</td>\n",
       "      <td>-0.272723</td>\n",
       "      <td>-1.322487</td>\n",
       "      <td>0.681839</td>\n",
       "      <td>0.787372</td>\n",
       "      <td>0</td>\n",
       "      <td>DT</td>\n",
       "      <td>CH-Cha</td>\n",
       "    </tr>\n",
       "    <tr>\n",
       "      <th>1</th>\n",
       "      <td>2015</td>\n",
       "      <td>-0.411580</td>\n",
       "      <td>-1.398199</td>\n",
       "      <td>0.674340</td>\n",
       "      <td>0.792586</td>\n",
       "      <td>0</td>\n",
       "      <td>NT</td>\n",
       "      <td>CH-Cha</td>\n",
       "    </tr>\n",
       "    <tr>\n",
       "      <th>2</th>\n",
       "      <td>2015</td>\n",
       "      <td>0.418739</td>\n",
       "      <td>0.418739</td>\n",
       "      <td>0.723063</td>\n",
       "      <td>0.653417</td>\n",
       "      <td>0</td>\n",
       "      <td>DTNT</td>\n",
       "      <td>CH-Cha</td>\n",
       "    </tr>\n",
       "    <tr>\n",
       "      <th>3</th>\n",
       "      <td>2016</td>\n",
       "      <td>-0.412623</td>\n",
       "      <td>-1.669857</td>\n",
       "      <td>0.753215</td>\n",
       "      <td>0.810170</td>\n",
       "      <td>1</td>\n",
       "      <td>DT</td>\n",
       "      <td>CH-Cha</td>\n",
       "    </tr>\n",
       "    <tr>\n",
       "      <th>4</th>\n",
       "      <td>2016</td>\n",
       "      <td>-0.059873</td>\n",
       "      <td>-1.207118</td>\n",
       "      <td>0.665728</td>\n",
       "      <td>0.740712</td>\n",
       "      <td>1</td>\n",
       "      <td>NT</td>\n",
       "      <td>CH-Cha</td>\n",
       "    </tr>\n",
       "    <tr>\n",
       "      <th>...</th>\n",
       "      <td>...</td>\n",
       "      <td>...</td>\n",
       "      <td>...</td>\n",
       "      <td>...</td>\n",
       "      <td>...</td>\n",
       "      <td>...</td>\n",
       "      <td>...</td>\n",
       "      <td>...</td>\n",
       "    </tr>\n",
       "    <tr>\n",
       "      <th>115</th>\n",
       "      <td>2017</td>\n",
       "      <td>-5.124628</td>\n",
       "      <td>-6.042490</td>\n",
       "      <td>0.339401</td>\n",
       "      <td>0.849837</td>\n",
       "      <td>0</td>\n",
       "      <td>NT</td>\n",
       "      <td>ES-Abr</td>\n",
       "    </tr>\n",
       "    <tr>\n",
       "      <th>116</th>\n",
       "      <td>2017</td>\n",
       "      <td>0.625811</td>\n",
       "      <td>0.625811</td>\n",
       "      <td>0.818137</td>\n",
       "      <td>0.771955</td>\n",
       "      <td>0</td>\n",
       "      <td>DTNT</td>\n",
       "      <td>ES-Abr</td>\n",
       "    </tr>\n",
       "    <tr>\n",
       "      <th>117</th>\n",
       "      <td>2018</td>\n",
       "      <td>0.199287</td>\n",
       "      <td>-0.342258</td>\n",
       "      <td>0.868079</td>\n",
       "      <td>0.883048</td>\n",
       "      <td>0</td>\n",
       "      <td>DT</td>\n",
       "      <td>ES-Abr</td>\n",
       "    </tr>\n",
       "    <tr>\n",
       "      <th>118</th>\n",
       "      <td>2018</td>\n",
       "      <td>0.073087</td>\n",
       "      <td>-0.561690</td>\n",
       "      <td>0.844644</td>\n",
       "      <td>0.882531</td>\n",
       "      <td>0</td>\n",
       "      <td>NT</td>\n",
       "      <td>ES-Abr</td>\n",
       "    </tr>\n",
       "    <tr>\n",
       "      <th>119</th>\n",
       "      <td>2018</td>\n",
       "      <td>0.755660</td>\n",
       "      <td>0.755660</td>\n",
       "      <td>0.898591</td>\n",
       "      <td>0.855386</td>\n",
       "      <td>0</td>\n",
       "      <td>DTNT</td>\n",
       "      <td>ES-Abr</td>\n",
       "    </tr>\n",
       "  </tbody>\n",
       "</table>\n",
       "<p>120 rows × 8 columns</p>\n",
       "</div>"
      ],
      "text/plain": [
       "     Year      RECO  RECO_res       GPP       NEE  QC method    site\n",
       "0    2015 -0.272723 -1.322487  0.681839  0.787372   0     DT  CH-Cha\n",
       "1    2015 -0.411580 -1.398199  0.674340  0.792586   0     NT  CH-Cha\n",
       "2    2015  0.418739  0.418739  0.723063  0.653417   0   DTNT  CH-Cha\n",
       "3    2016 -0.412623 -1.669857  0.753215  0.810170   1     DT  CH-Cha\n",
       "4    2016 -0.059873 -1.207118  0.665728  0.740712   1     NT  CH-Cha\n",
       "..    ...       ...       ...       ...       ...  ..    ...     ...\n",
       "115  2017 -5.124628 -6.042490  0.339401  0.849837   0     NT  ES-Abr\n",
       "116  2017  0.625811  0.625811  0.818137  0.771955   0   DTNT  ES-Abr\n",
       "117  2018  0.199287 -0.342258  0.868079  0.883048   0     DT  ES-Abr\n",
       "118  2018  0.073087 -0.561690  0.844644  0.882531   0     NT  ES-Abr\n",
       "119  2018  0.755660  0.755660  0.898591  0.855386   0   DTNT  ES-Abr\n",
       "\n",
       "[120 rows x 8 columns]"
      ]
     },
     "execution_count": 101,
     "metadata": {},
     "output_type": "execute_result"
    }
   ],
   "source": [
    "R2_all[R2_all[\"GPP\"] < ]"
   ]
  },
  {
   "cell_type": "code",
   "execution_count": 77,
   "metadata": {},
   "outputs": [
    {
     "data": {
      "image/png": "[encoded data removed]",
      "text/latex": [
       "$\\displaystyle 17520$"
      ],
      "text/plain": [
       "17520"
      ]
     },
     "execution_count": 77,
     "metadata": {},
     "output_type": "execute_result"
    }
   ],
   "source": [
    "sum(analysis_data['GPP_NT']==-9999)"
   ]
  },
  {
   "cell_type": "code",
   "execution_count": 25,
   "metadata": {},
   "outputs": [
    {
     "name": "stdout",
     "output_type": "stream",
     "text": [
      "Congratulations! Experiment54 is ready!\n"
     ]
    }
   ],
   "source": [
    "experiment_utils.build_single_experiment(experiment_config, model_configs, dataset_config)"
   ]
  },
  {
   "cell_type": "code",
   "execution_count": 26,
   "metadata": {},
   "outputs": [],
   "source": [
    "def rectangular_hyp(x, t):\n",
    "    return x[0] * t / (1 + x[1]*t) + x[2]"
   ]
  },
  {
   "cell_type": "code",
   "execution_count": 43,
   "metadata": {},
   "outputs": [],
   "source": [
    "def gen_rectangular_hyp(x, t):\n",
    "    return 2 * x[0] * t / (t + x[1] + ((t + x[1])**2 - 4*x[1]*x[2]*t)**(1/2)) + x[3]"
   ]
  },
  {
   "cell_type": "code",
   "execution_count": 61,
   "metadata": {},
   "outputs": [],
   "source": [
    "def simple(x):\n",
    "    b = 855\n",
    "    return x / (200/b * x + 1)"
   ]
  },
  {
   "cell_type": "code",
   "execution_count": 60,
   "metadata": {},
   "outputs": [
    {
     "data": {
      "text/plain": [
       "[<matplotlib.lines.Line2D at 0x7fa7e7bb3e80>]"
      ]
     },
     "execution_count": 60,
     "metadata": {},
     "output_type": "execute_result"
    },
    {
     "data": {
      "image/png": "[encoded data removed]",
      "text/plain": [
       "<Figure size 432x288 with 1 Axes>"
      ]
     },
     "metadata": {
      "needs_background": "light"
     },
     "output_type": "display_data"
    }
   ],
   "source": [
    "t = np.linspace(0, 1000, 855)\n",
    "#x = [ 12.58269938, 351.34458354,   0.92545013,  -1.83027036]\n",
    "x = [4.25228281e-02,  1.56286896e-03,  -1.87986564e+00]\n",
    "#plt.plot(t, gen_rectangular_hyp(x, t))\n",
    "\n",
    "#x = [0.1, 0.001, -2]\n",
    "plt.plot(t, rectangular_hyp(x,t))"
   ]
  },
  {
   "cell_type": "code",
   "execution_count": 62,
   "metadata": {},
   "outputs": [
    {
     "data": {
      "text/plain": [
       "[<matplotlib.lines.Line2D at 0x7fa7e7ca33a0>]"
      ]
     },
     "execution_count": 62,
     "metadata": {},
     "output_type": "execute_result"
    },
    {
     "data": {
      "image/png": "[encoded data removed]",
      "text/plain": [
       "<Figure size 432x288 with 1 Axes>"
      ]
     },
     "metadata": {
      "needs_background": "light"
     },
     "output_type": "display_data"
    }
   ],
   "source": [
    "plt.plot(t, simple(t))"
   ]
  },
  {
   "cell_type": "code",
   "execution_count": null,
   "metadata": {},
   "outputs": [],
   "source": []
  }
 ],
 "metadata": {
  "kernelspec": {
   "display_name": "Python 3",
   "language": "python",
   "name": "python3"
  },
  "language_info": {
   "codemirror_mode": {
    "name": "ipython",
    "version": 3
   },
   "file_extension": ".py",
   "mimetype": "text/x-python",
   "name": "python",
   "nbconvert_exporter": "python",
   "pygments_lexer": "ipython3",
   "version": "3.8.0"
  }
 },
 "nbformat": 4,
 "nbformat_minor": 4
}
