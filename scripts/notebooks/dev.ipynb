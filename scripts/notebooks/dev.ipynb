{
 "cells": [
  {
   "cell_type": "markdown",
   "id": "7b91000c",
   "metadata": {},
   "source": [
    "# This notebook serves the only purpose of development"
   ]
  },
  {
   "cell_type": "code",
   "execution_count": 3,
   "id": "7d97114f",
   "metadata": {},
   "outputs": [
    {
     "name": "stderr",
     "output_type": "stream",
     "text": [
      "/home/kaicohrs/miniconda3/envs/dml-4-fluxes/lib/python3.8/site-packages/tqdm/auto.py:22: TqdmWarning: IProgress not found. Please update jupyter and ipywidgets. See https://ipywidgets.readthedocs.io/en/stable/user_install.html\n",
      "  from .autonotebook import tqdm as notebook_tqdm\n"
     ]
    }
   ],
   "source": [
    "# Imports\n",
    "%load_ext autoreload\n",
    "%autoreload 2\n",
    "\n",
    "import sys\n",
    "\n",
    "from dml4fluxes.experiments import experiment, experiment_utils\n",
    "from dml4fluxes.analysis.visualization import *\n",
    "from dml4fluxes.datasets.preprocessing import *\n",
    "from dml4fluxes.datasets.generate_data import *\n",
    "from dml4fluxes.analysis.postprocessing import *"
   ]
  },
  {
   "cell_type": "code",
   "execution_count": 9,
   "id": "ebb60ba1",
   "metadata": {},
   "outputs": [
    {
     "name": "stdout",
     "output_type": "stream",
     "text": [
      "Filter out according to relevant_variables.\n",
      "Filter out according to relevant_variables.\n",
      "Filter out according to relevant_variables.\n",
      "Filter out according to relevant_variables.\n",
      "Filter out according to relevant_variables.\n",
      "Filter out according to relevant_variables.\n",
      "Filter out according to relevant_variables.\n"
     ]
    },
    {
     "ename": "",
     "evalue": "",
     "output_type": "error",
     "traceback": [
      "\u001b[1;31mCanceled future for execute_request message before replies were done"
     ]
    },
    {
     "ename": "",
     "evalue": "",
     "output_type": "error",
     "traceback": [
      "The Kernel crashed while executing code in the the current cell or a previous cell. Please review the code in the cell(s) to identify a possible cause of the failure. Click <a href='https://aka.ms/vscodeJupyterKernelCrash'>here</a> for more info. View Jupyter <a href='command:jupyter.viewOutput'>log</a> for further details."
     ]
    }
   ],
   "source": [
    "tables, dictionary = numerical_cross_consistency(\"FPDML_all_2023-02-02_15\", syn=False)"
   ]
  },
  {
   "cell_type": "code",
   "execution_count": null,
   "id": "a003a76b",
   "metadata": {},
   "outputs": [
    {
     "data": {
      "text/html": [
       "<div>\n",
       "<style scoped>\n",
       "    .dataframe tbody tr th:only-of-type {\n",
       "        vertical-align: middle;\n",
       "    }\n",
       "\n",
       "    .dataframe tbody tr th {\n",
       "        vertical-align: top;\n",
       "    }\n",
       "\n",
       "    .dataframe thead th {\n",
       "        text-align: right;\n",
       "    }\n",
       "</style>\n",
       "<table border=\"1\" class=\"dataframe\">\n",
       "  <thead>\n",
       "    <tr style=\"text-align: right;\">\n",
       "      <th></th>\n",
       "      <th>method 1</th>\n",
       "      <th>method 2</th>\n",
       "      <th>R2</th>\n",
       "      <th>RMSE</th>\n",
       "      <th>bias</th>\n",
       "      <th>R2_rm_daily</th>\n",
       "      <th>RMSE_rm_daily</th>\n",
       "    </tr>\n",
       "  </thead>\n",
       "  <tbody>\n",
       "    <tr>\n",
       "      <th>0</th>\n",
       "      <td>DT</td>\n",
       "      <td>orth</td>\n",
       "      <td>0.95 (0.93/0.96)</td>\n",
       "      <td>1.27 (0.82/1.6)</td>\n",
       "      <td>0.14 (0.05/0.28)</td>\n",
       "      <td>0.96 (0.94/0.97)</td>\n",
       "      <td>0.91 (0.6/1.13)</td>\n",
       "    </tr>\n",
       "    <tr>\n",
       "      <th>1</th>\n",
       "      <td>DT</td>\n",
       "      <td>ann</td>\n",
       "      <td>0.96 (0.93/0.97)</td>\n",
       "      <td>1.22 (0.76/1.52)</td>\n",
       "      <td>0.04 (-0.04/0.17)</td>\n",
       "      <td>0.95 (0.93/0.96)</td>\n",
       "      <td>0.98 (0.61/1.16)</td>\n",
       "    </tr>\n",
       "    <tr>\n",
       "      <th>2</th>\n",
       "      <td>NT</td>\n",
       "      <td>orth</td>\n",
       "      <td>0.89 (0.83/0.91)</td>\n",
       "      <td>2.09 (1.25/2.56)</td>\n",
       "      <td>0.13 (0.03/0.27)</td>\n",
       "      <td>0.84 (0.8/0.88)</td>\n",
       "      <td>1.81 (1.12/2.36)</td>\n",
       "    </tr>\n",
       "    <tr>\n",
       "      <th>3</th>\n",
       "      <td>NT</td>\n",
       "      <td>ann</td>\n",
       "      <td>0.93 (0.89/0.95)</td>\n",
       "      <td>1.53 (0.9/2.02)</td>\n",
       "      <td>0.07 (-0.02/0.18)</td>\n",
       "      <td>0.9 (0.86/0.92)</td>\n",
       "      <td>1.4 (0.83/1.88)</td>\n",
       "    </tr>\n",
       "    <tr>\n",
       "      <th>4</th>\n",
       "      <td>DT</td>\n",
       "      <td>NT</td>\n",
       "      <td>0.89 (0.82/0.92)</td>\n",
       "      <td>1.85 (1.2/2.42)</td>\n",
       "      <td>0.02 (-0.16/0.13)</td>\n",
       "      <td>0.85 (0.79/0.89)</td>\n",
       "      <td>1.6 (1.04/2.16)</td>\n",
       "    </tr>\n",
       "    <tr>\n",
       "      <th>5</th>\n",
       "      <td>ann</td>\n",
       "      <td>orth</td>\n",
       "      <td>0.94 (0.91/0.96)</td>\n",
       "      <td>1.38 (0.87/1.74)</td>\n",
       "      <td>0.07 (-0.02/0.16)</td>\n",
       "      <td>0.93 (0.91/0.95)</td>\n",
       "      <td>1.13 (0.72/1.39)</td>\n",
       "    </tr>\n",
       "  </tbody>\n",
       "</table>\n",
       "</div>"
      ],
      "text/plain": [
       "  method 1 method 2                R2              RMSE               bias  \\\n",
       "0       DT     orth  0.95 (0.93/0.96)   1.27 (0.82/1.6)   0.14 (0.05/0.28)   \n",
       "1       DT      ann  0.96 (0.93/0.97)  1.22 (0.76/1.52)  0.04 (-0.04/0.17)   \n",
       "2       NT     orth  0.89 (0.83/0.91)  2.09 (1.25/2.56)   0.13 (0.03/0.27)   \n",
       "3       NT      ann  0.93 (0.89/0.95)   1.53 (0.9/2.02)  0.07 (-0.02/0.18)   \n",
       "4       DT       NT  0.89 (0.82/0.92)   1.85 (1.2/2.42)  0.02 (-0.16/0.13)   \n",
       "5      ann     orth  0.94 (0.91/0.96)  1.38 (0.87/1.74)  0.07 (-0.02/0.16)   \n",
       "\n",
       "        R2_rm_daily     RMSE_rm_daily  \n",
       "0  0.96 (0.94/0.97)   0.91 (0.6/1.13)  \n",
       "1  0.95 (0.93/0.96)  0.98 (0.61/1.16)  \n",
       "2   0.84 (0.8/0.88)  1.81 (1.12/2.36)  \n",
       "3   0.9 (0.86/0.92)   1.4 (0.83/1.88)  \n",
       "4  0.85 (0.79/0.89)   1.6 (1.04/2.16)  \n",
       "5  0.93 (0.91/0.95)  1.13 (0.72/1.39)  "
      ]
     },
     "execution_count": 5,
     "metadata": {},
     "output_type": "execute_result"
    }
   ],
   "source": [
    "tables['GPP_T']"
   ]
  },
  {
   "cell_type": "code",
   "execution_count": null,
   "id": "a003a76b",
   "metadata": {},
   "outputs": [
    {
     "data": {
      "text/html": [
       "<div>\n",
       "<style scoped>\n",
       "    .dataframe tbody tr th:only-of-type {\n",
       "        vertical-align: middle;\n",
       "    }\n",
       "\n",
       "    .dataframe tbody tr th {\n",
       "        vertical-align: top;\n",
       "    }\n",
       "\n",
       "    .dataframe thead th {\n",
       "        text-align: right;\n",
       "    }\n",
       "</style>\n",
       "<table border=\"1\" class=\"dataframe\">\n",
       "  <thead>\n",
       "    <tr style=\"text-align: right;\">\n",
       "      <th></th>\n",
       "      <th>method 1</th>\n",
       "      <th>method 2</th>\n",
       "      <th>R2</th>\n",
       "      <th>RMSE</th>\n",
       "      <th>bias</th>\n",
       "      <th>R2_rm_daily</th>\n",
       "      <th>RMSE_rm_daily</th>\n",
       "    </tr>\n",
       "  </thead>\n",
       "  <tbody>\n",
       "    <tr>\n",
       "      <th>0</th>\n",
       "      <td>DT</td>\n",
       "      <td>orth</td>\n",
       "      <td>0.95 (0.93/0.96)</td>\n",
       "      <td>1.27 (0.82/1.6)</td>\n",
       "      <td>0.14 (0.05/0.28)</td>\n",
       "      <td>0.96 (0.94/0.97)</td>\n",
       "      <td>0.91 (0.6/1.13)</td>\n",
       "    </tr>\n",
       "    <tr>\n",
       "      <th>1</th>\n",
       "      <td>DT</td>\n",
       "      <td>ann</td>\n",
       "      <td>0.96 (0.93/0.97)</td>\n",
       "      <td>1.22 (0.76/1.52)</td>\n",
       "      <td>0.04 (-0.04/0.17)</td>\n",
       "      <td>0.95 (0.93/0.96)</td>\n",
       "      <td>0.98 (0.61/1.16)</td>\n",
       "    </tr>\n",
       "    <tr>\n",
       "      <th>2</th>\n",
       "      <td>NT</td>\n",
       "      <td>orth</td>\n",
       "      <td>0.89 (0.83/0.91)</td>\n",
       "      <td>2.09 (1.25/2.56)</td>\n",
       "      <td>0.13 (0.03/0.27)</td>\n",
       "      <td>0.84 (0.8/0.88)</td>\n",
       "      <td>1.81 (1.12/2.36)</td>\n",
       "    </tr>\n",
       "    <tr>\n",
       "      <th>3</th>\n",
       "      <td>NT</td>\n",
       "      <td>ann</td>\n",
       "      <td>0.93 (0.89/0.95)</td>\n",
       "      <td>1.53 (0.9/2.02)</td>\n",
       "      <td>0.07 (-0.02/0.18)</td>\n",
       "      <td>0.9 (0.86/0.92)</td>\n",
       "      <td>1.4 (0.83/1.88)</td>\n",
       "    </tr>\n",
       "    <tr>\n",
       "      <th>4</th>\n",
       "      <td>DT</td>\n",
       "      <td>NT</td>\n",
       "      <td>0.89 (0.82/0.92)</td>\n",
       "      <td>1.85 (1.2/2.42)</td>\n",
       "      <td>0.02 (-0.16/0.13)</td>\n",
       "      <td>0.85 (0.79/0.89)</td>\n",
       "      <td>1.6 (1.04/2.16)</td>\n",
       "    </tr>\n",
       "    <tr>\n",
       "      <th>5</th>\n",
       "      <td>ann</td>\n",
       "      <td>orth</td>\n",
       "      <td>0.94 (0.91/0.96)</td>\n",
       "      <td>1.38 (0.87/1.74)</td>\n",
       "      <td>0.07 (-0.02/0.16)</td>\n",
       "      <td>0.93 (0.91/0.95)</td>\n",
       "      <td>1.13 (0.72/1.39)</td>\n",
       "    </tr>\n",
       "  </tbody>\n",
       "</table>\n",
       "</div>"
      ],
      "text/plain": [
       "  method 1 method 2                R2              RMSE               bias  \\\n",
       "0       DT     orth  0.95 (0.93/0.96)   1.27 (0.82/1.6)   0.14 (0.05/0.28)   \n",
       "1       DT      ann  0.96 (0.93/0.97)  1.22 (0.76/1.52)  0.04 (-0.04/0.17)   \n",
       "2       NT     orth  0.89 (0.83/0.91)  2.09 (1.25/2.56)   0.13 (0.03/0.27)   \n",
       "3       NT      ann  0.93 (0.89/0.95)   1.53 (0.9/2.02)  0.07 (-0.02/0.18)   \n",
       "4       DT       NT  0.89 (0.82/0.92)   1.85 (1.2/2.42)  0.02 (-0.16/0.13)   \n",
       "5      ann     orth  0.94 (0.91/0.96)  1.38 (0.87/1.74)  0.07 (-0.02/0.16)   \n",
       "\n",
       "        R2_rm_daily     RMSE_rm_daily  \n",
       "0  0.96 (0.94/0.97)   0.91 (0.6/1.13)  \n",
       "1  0.95 (0.93/0.96)  0.98 (0.61/1.16)  \n",
       "2   0.84 (0.8/0.88)  1.81 (1.12/2.36)  \n",
       "3   0.9 (0.86/0.92)   1.4 (0.83/1.88)  \n",
       "4  0.85 (0.79/0.89)   1.6 (1.04/2.16)  \n",
       "5  0.93 (0.91/0.95)  1.13 (0.72/1.39)  "
      ]
     },
     "execution_count": 6,
     "metadata": {},
     "output_type": "execute_result"
    }
   ],
   "source": [
    "tables['GPP']"
   ]
  },
  {
   "cell_type": "code",
   "execution_count": null,
   "id": "cfba204d",
   "metadata": {},
   "outputs": [
    {
     "data": {
      "text/html": [
       "<div>\n",
       "<style scoped>\n",
       "    .dataframe tbody tr th:only-of-type {\n",
       "        vertical-align: middle;\n",
       "    }\n",
       "\n",
       "    .dataframe tbody tr th {\n",
       "        vertical-align: top;\n",
       "    }\n",
       "\n",
       "    .dataframe thead th {\n",
       "        text-align: right;\n",
       "    }\n",
       "</style>\n",
       "<table border=\"1\" class=\"dataframe\">\n",
       "  <thead>\n",
       "    <tr style=\"text-align: right;\">\n",
       "      <th></th>\n",
       "      <th>method 1</th>\n",
       "      <th>method 2</th>\n",
       "      <th>R2</th>\n",
       "      <th>RMSE</th>\n",
       "      <th>bias</th>\n",
       "      <th>R2_rm_daily</th>\n",
       "      <th>RMSE_rm_daily</th>\n",
       "    </tr>\n",
       "  </thead>\n",
       "  <tbody>\n",
       "    <tr>\n",
       "      <th>0</th>\n",
       "      <td>DT</td>\n",
       "      <td>orth</td>\n",
       "      <td>0.55 (0.23/0.68)</td>\n",
       "      <td>1.23 (0.57/1.55)</td>\n",
       "      <td>-0.01 (-0.4/0.15)</td>\n",
       "      <td>-1.01 (-2.49/-0.42)</td>\n",
       "      <td>0.59 (0.28/0.78)</td>\n",
       "    </tr>\n",
       "    <tr>\n",
       "      <th>1</th>\n",
       "      <td>DT</td>\n",
       "      <td>ann</td>\n",
       "      <td>0.52 (0.27/0.8)</td>\n",
       "      <td>0.95 (0.59/1.31)</td>\n",
       "      <td>0.02 (-0.16/0.2)</td>\n",
       "      <td>-0.65 (-1.85/-0.18)</td>\n",
       "      <td>0.46 (0.3/0.61)</td>\n",
       "    </tr>\n",
       "    <tr>\n",
       "      <th>2</th>\n",
       "      <td>NT</td>\n",
       "      <td>orth</td>\n",
       "      <td>0.62 (0.37/0.78)</td>\n",
       "      <td>0.96 (0.42/1.16)</td>\n",
       "      <td>-0.08 (-0.18/0.07)</td>\n",
       "      <td>-1.87 (-6.8/-0.56)</td>\n",
       "      <td>0.59 (0.27/0.75)</td>\n",
       "    </tr>\n",
       "    <tr>\n",
       "      <th>3</th>\n",
       "      <td>NT</td>\n",
       "      <td>ann</td>\n",
       "      <td>0.71 (0.41/0.87)</td>\n",
       "      <td>0.68 (0.46/0.92)</td>\n",
       "      <td>0.04 (-0.06/0.22)</td>\n",
       "      <td>-1.22 (-4.37/-0.21)</td>\n",
       "      <td>0.42 (0.3/0.58)</td>\n",
       "    </tr>\n",
       "    <tr>\n",
       "      <th>4</th>\n",
       "      <td>DT</td>\n",
       "      <td>NT</td>\n",
       "      <td>0.65 (0.48/0.82)</td>\n",
       "      <td>0.95 (0.52/1.27)</td>\n",
       "      <td>0.03 (-0.41/0.17)</td>\n",
       "      <td>0.59 (0.45/0.7)</td>\n",
       "      <td>0.23 (0.14/0.31)</td>\n",
       "    </tr>\n",
       "    <tr>\n",
       "      <th>5</th>\n",
       "      <td>ann</td>\n",
       "      <td>orth</td>\n",
       "      <td>0.47 (0.27/0.71)</td>\n",
       "      <td>1.09 (0.54/1.29)</td>\n",
       "      <td>-0.0 (-0.32/0.14)</td>\n",
       "      <td>-0.82 (-3.51/-0.1)</td>\n",
       "      <td>0.75 (0.36/0.91)</td>\n",
       "    </tr>\n",
       "  </tbody>\n",
       "</table>\n",
       "</div>"
      ],
      "text/plain": [
       "  method 1 method 2                R2              RMSE                bias  \\\n",
       "0       DT     orth  0.55 (0.23/0.68)  1.23 (0.57/1.55)   -0.01 (-0.4/0.15)   \n",
       "1       DT      ann   0.52 (0.27/0.8)  0.95 (0.59/1.31)    0.02 (-0.16/0.2)   \n",
       "2       NT     orth  0.62 (0.37/0.78)  0.96 (0.42/1.16)  -0.08 (-0.18/0.07)   \n",
       "3       NT      ann  0.71 (0.41/0.87)  0.68 (0.46/0.92)   0.04 (-0.06/0.22)   \n",
       "4       DT       NT  0.65 (0.48/0.82)  0.95 (0.52/1.27)   0.03 (-0.41/0.17)   \n",
       "5      ann     orth  0.47 (0.27/0.71)  1.09 (0.54/1.29)   -0.0 (-0.32/0.14)   \n",
       "\n",
       "           R2_rm_daily     RMSE_rm_daily  \n",
       "0  -1.01 (-2.49/-0.42)  0.59 (0.28/0.78)  \n",
       "1  -0.65 (-1.85/-0.18)   0.46 (0.3/0.61)  \n",
       "2   -1.87 (-6.8/-0.56)  0.59 (0.27/0.75)  \n",
       "3  -1.22 (-4.37/-0.21)   0.42 (0.3/0.58)  \n",
       "4      0.59 (0.45/0.7)  0.23 (0.14/0.31)  \n",
       "5   -0.82 (-3.51/-0.1)  0.75 (0.36/0.91)  "
      ]
     },
     "execution_count": 41,
     "metadata": {},
     "output_type": "execute_result"
    }
   ],
   "source": [
    "tables['RECO']"
   ]
  },
  {
   "cell_type": "code",
   "execution_count": null,
   "id": "39c044e2",
   "metadata": {},
   "outputs": [
    {
     "data": {
      "text/html": [
       "<div>\n",
       "<style scoped>\n",
       "    .dataframe tbody tr th:only-of-type {\n",
       "        vertical-align: middle;\n",
       "    }\n",
       "\n",
       "    .dataframe tbody tr th {\n",
       "        vertical-align: top;\n",
       "    }\n",
       "\n",
       "    .dataframe thead th {\n",
       "        text-align: right;\n",
       "    }\n",
       "</style>\n",
       "<table border=\"1\" class=\"dataframe\">\n",
       "  <thead>\n",
       "    <tr style=\"text-align: right;\">\n",
       "      <th></th>\n",
       "      <th>method 1</th>\n",
       "      <th>method 2</th>\n",
       "      <th>R2</th>\n",
       "      <th>RMSE</th>\n",
       "      <th>bias</th>\n",
       "      <th>R2_rm_daily</th>\n",
       "      <th>RMSE_rm_daily</th>\n",
       "    </tr>\n",
       "  </thead>\n",
       "  <tbody>\n",
       "    <tr>\n",
       "      <th>0</th>\n",
       "      <td>DT</td>\n",
       "      <td>orth</td>\n",
       "      <td>0.96 (0.94/0.97)</td>\n",
       "      <td>1.09 (0.84/1.27)</td>\n",
       "      <td>-0.03 (-0.11/0.06)</td>\n",
       "      <td>0.97 (0.95/0.98)</td>\n",
       "      <td>0.87 (0.64/1.02)</td>\n",
       "    </tr>\n",
       "    <tr>\n",
       "      <th>1</th>\n",
       "      <td>DT</td>\n",
       "      <td>ann</td>\n",
       "      <td>0.66 (-0.06/0.94)</td>\n",
       "      <td>1.93 (1.12/6.2)</td>\n",
       "      <td>-0.18 (-1.29/-0.02)</td>\n",
       "      <td>0.67 (-0.03/0.94)</td>\n",
       "      <td>1.67 (0.96/5.45)</td>\n",
       "    </tr>\n",
       "    <tr>\n",
       "      <th>2</th>\n",
       "      <td>NT</td>\n",
       "      <td>orth</td>\n",
       "      <td>0.88 (0.83/0.91)</td>\n",
       "      <td>2.0 (1.3/2.4)</td>\n",
       "      <td>0.01 (-0.02/0.05)</td>\n",
       "      <td>0.87 (0.82/0.9)</td>\n",
       "      <td>1.82 (1.18/2.25)</td>\n",
       "    </tr>\n",
       "    <tr>\n",
       "      <th>3</th>\n",
       "      <td>NT</td>\n",
       "      <td>ann</td>\n",
       "      <td>0.76 (-0.05/0.93)</td>\n",
       "      <td>2.47 (1.17/6.58)</td>\n",
       "      <td>-0.03 (-1.22/0.01)</td>\n",
       "      <td>0.73 (-0.03/0.91)</td>\n",
       "      <td>2.38 (1.17/5.94)</td>\n",
       "    </tr>\n",
       "    <tr>\n",
       "      <th>4</th>\n",
       "      <td>DT</td>\n",
       "      <td>NT</td>\n",
       "      <td>0.86 (0.8/0.9)</td>\n",
       "      <td>1.93 (1.29/2.42)</td>\n",
       "      <td>-0.04 (-0.13/0.03)</td>\n",
       "      <td>0.85 (0.78/0.89)</td>\n",
       "      <td>1.76 (1.17/2.26)</td>\n",
       "    </tr>\n",
       "    <tr>\n",
       "      <th>5</th>\n",
       "      <td>ann</td>\n",
       "      <td>orth</td>\n",
       "      <td>0.77 (0.0/0.94)</td>\n",
       "      <td>1.88 (1.14/6.09)</td>\n",
       "      <td>0.08 (-0.01/1.24)</td>\n",
       "      <td>0.78 (0.0/0.95)</td>\n",
       "      <td>1.67 (0.97/5.32)</td>\n",
       "    </tr>\n",
       "  </tbody>\n",
       "</table>\n",
       "</div>"
      ],
      "text/plain": [
       "  method 1 method 2                 R2              RMSE                 bias  \\\n",
       "0       DT     orth   0.96 (0.94/0.97)  1.09 (0.84/1.27)   -0.03 (-0.11/0.06)   \n",
       "1       DT      ann  0.66 (-0.06/0.94)   1.93 (1.12/6.2)  -0.18 (-1.29/-0.02)   \n",
       "2       NT     orth   0.88 (0.83/0.91)     2.0 (1.3/2.4)    0.01 (-0.02/0.05)   \n",
       "3       NT      ann  0.76 (-0.05/0.93)  2.47 (1.17/6.58)   -0.03 (-1.22/0.01)   \n",
       "4       DT       NT     0.86 (0.8/0.9)  1.93 (1.29/2.42)   -0.04 (-0.13/0.03)   \n",
       "5      ann     orth    0.77 (0.0/0.94)  1.88 (1.14/6.09)    0.08 (-0.01/1.24)   \n",
       "\n",
       "         R2_rm_daily     RMSE_rm_daily  \n",
       "0   0.97 (0.95/0.98)  0.87 (0.64/1.02)  \n",
       "1  0.67 (-0.03/0.94)  1.67 (0.96/5.45)  \n",
       "2    0.87 (0.82/0.9)  1.82 (1.18/2.25)  \n",
       "3  0.73 (-0.03/0.91)  2.38 (1.17/5.94)  \n",
       "4   0.85 (0.78/0.89)  1.76 (1.17/2.26)  \n",
       "5    0.78 (0.0/0.95)  1.67 (0.97/5.32)  "
      ]
     },
     "execution_count": 8,
     "metadata": {},
     "output_type": "execute_result"
    }
   ],
   "source": [
    "tables['NEE']"
   ]
  },
  {
   "cell_type": "code",
   "execution_count": 2,
   "id": "eb8773b7",
   "metadata": {},
   "outputs": [],
   "source": [
    "pre_computed=True\n",
    "syn=True\n",
    "relnoise=0.4\n",
    "site = 'FI-Hyy'\n",
    "dataset_config = dict(\n",
    "            site_name = site,\n",
    "            syn = syn,\n",
    "            version = 'simple',\n",
    "            Q10=1.5,\n",
    "            relnoise=relnoise,\n",
    "            pre_computed=pre_computed,\n",
    "            transform_T = True,\n",
    "            month_wise= False,\n",
    "            moving_window=[3, 3],\n",
    "            delta = 'heuristic8', #fixed value, max_heuristic, slope_heuristic \n",
    "            X = ['TA', 'CWD','VPD'],\n",
    "            #X = ['VPD', 'TA','wdefcum', 'SW_POT_sm', 'SW_POT_sm_diff', 'PA', 'WS', 'GPP_prox', 'P', 'WD_sin', 'WD_cos', 'NEE_nt_avg', 'TS_1', 'TS_2', 'SWC_1', 'SWC_2', 'SW_DIF'], #['VPD', 'TA'],#\n",
    "            #X = ['VPD', 'TA', 'TS_1', 'TS_2', 'SWC_1', 'SWC_2'],\n",
    "            W = ['SW_POT_sm','SW_POT_sm_diff'], #['SW_POT_sm', 'SW_POT_sm_diff'], #['wdefcum'],\n",
    "            years = 'all', # 'all',\n",
    "            test_scenario=True,\n",
    "            RMSE=True,\n",
    "            alternative_fluxes=None,\n",
    "            alternative_treatment=None, #\"SW_IN_POT\",\n",
    "            good_years_only=True,\n",
    "            store_parameter=True,\n",
    "            )\n",
    "    \n",
    "#model_y_config = dict(model = 'GradientBoostingRegressor',\n",
    "#                    min_samples_split = 5,\n",
    "#                    min_samples_leaf = 40,\n",
    "#                    max_depth=1,\n",
    "#                    n_estimators=300,\n",
    "#                    #learning_rate=0.1,\n",
    "#                    #max_depth=3\n",
    "#                    )\n",
    "\n",
    "model_y_config = dict(model = 'GradientBoostingRegressor',\n",
    "                    min_samples_split = 5,\n",
    "                    min_samples_leaf = 40,\n",
    "                    max_depth=1,\n",
    "                    n_estimators=300,\n",
    "                    #learning_rate=0.1,\n",
    "                    #max_depth=3\n",
    "                    )\n",
    "\n",
    "model_t_config = dict(model = 'GradientBoostingRegressor',\n",
    "                    min_samples_split = 5,\n",
    "                    min_samples_leaf = 40,\n",
    "                    max_depth=1,\n",
    "                    n_estimators=300,\n",
    "                    # max_depth=3\n",
    "                    )\n",
    "model_final_config = dict(model = 'GradientBoostingRegressor',\n",
    "                    min_samples_split = 5,\n",
    "                    min_samples_leaf = 40,\n",
    "                    max_depth=1,\n",
    "                    n_estimators=300)\n",
    "                    #learning_rate=0.1,\n",
    "                    #max_depth=3\n",
    "dml_config = dict(cv=5)\n",
    "\n",
    "model_configs = dict(y = model_y_config,\n",
    "                    t = model_t_config,\n",
    "                    final= model_final_config,\n",
    "                    dml =dml_config)\n",
    "\n",
    "experiment_config = dict(experiment_type = 'flux_partitioning',\n",
    "                        comment='Flux partitioning',\n",
    "                        extrapolate=False,\n",
    "                        seed=1000)\n",
    "\n",
    "\n"
   ]
  },
  {
   "cell_type": "code",
   "execution_count": 4,
   "id": "401a6100",
   "metadata": {},
   "outputs": [],
   "source": [
    "import matplotlib.pyplot as plt\n",
    "import numpy as np\n",
    "\n",
    "def simple_rectangular_hyp(x, t, y, b):\n",
    "    return t / (x/b * t + 1) + y\n",
    "    \n",
    "def rectangular_hyp(x, t, y):\n",
    "    return x[0] * t / (1 + x[1]*t) + x[2] + y\n",
    "\n",
    "def rectangular_hyp_original(x, t, y):\n",
    "    return y - x[0] * x[1] * t / (x[0] * t + x[1]) - x[2]\n",
    "\n",
    "def rectangular_hyp_neg(x, t, y):\n",
    "    return  y - x[0] * t / (1 + x[1]*t) + x[2]\n",
    "\n",
    "def gen_rectangular_hyp(x, t, y):\n",
    "    return 2 * x[0] * t / (t + x[1] + ((t + x[1])**2 - 4*x[1]*x[2]*t)**(1/2)) + x[3] + y"
   ]
  },
  {
   "cell_type": "code",
   "execution_count": 9,
   "id": "e2c138d8",
   "metadata": {},
   "outputs": [],
   "source": [
    "def rect_hyp(x, alpha, beta):\n",
    "    return alpha*beta*x/(alpha*x+beta)"
   ]
  },
  {
   "cell_type": "code",
   "execution_count": 10,
   "id": "baf3d5f8",
   "metadata": {},
   "outputs": [],
   "source": [
    "x = np.linspace(0,100,100)"
   ]
  },
  {
   "cell_type": "code",
   "execution_count": 19,
   "id": "8c1e206a",
   "metadata": {},
   "outputs": [
    {
     "data": {
      "text/plain": [
       "[<matplotlib.lines.Line2D at 0x7fc4844a64c0>]"
      ]
     },
     "execution_count": 19,
     "metadata": {},
     "output_type": "execute_result"
    },
    {
     "data": {
      "image/png": "[encoded data removed]",
      "text/plain": [
       "<Figure size 432x288 with 1 Axes>"
      ]
     },
     "metadata": {
      "needs_background": "light"
     },
     "output_type": "display_data"
    }
   ],
   "source": [
    "alpha = -0.05\n",
    "beta = -33\n",
    "plt.plot(x, -rect_hyp(x, alpha, beta))"
   ]
  },
  {
   "cell_type": "code",
   "execution_count": 19,
   "id": "92fa5496",
   "metadata": {},
   "outputs": [],
   "source": [
    "import matplotlib.pyplot as plt\n"
   ]
  },
  {
   "cell_type": "code",
   "execution_count": 13,
   "id": "c2c52d26",
   "metadata": {},
   "outputs": [],
   "source": [
    "y = np.zeros(x.size)"
   ]
  },
  {
   "cell_type": "code",
   "execution_count": 16,
   "id": "9c740112",
   "metadata": {},
   "outputs": [],
   "source": [
    "a = [0.1, 0.001, 0]"
   ]
  },
  {
   "cell_type": "code",
   "execution_count": 17,
   "id": "2f630b91",
   "metadata": {},
   "outputs": [
    {
     "data": {
      "text/plain": [
       "[<matplotlib.lines.Line2D at 0x7f367e444280>]"
      ]
     },
     "execution_count": 17,
     "metadata": {},
     "output_type": "execute_result"
    },
    {
     "data": {
      "image/png": "[encoded data removed]",
      "text/plain": [
       "<Figure size 432x288 with 1 Axes>"
      ]
     },
     "metadata": {
      "needs_background": "light"
     },
     "output_type": "display_data"
    }
   ],
   "source": [
    "plt.plot(x, rectangular_hyp(a, x, y))"
   ]
  },
  {
   "cell_type": "code",
   "execution_count": 7,
   "id": "93cf6580",
   "metadata": {},
   "outputs": [
    {
     "name": "stdout",
     "output_type": "stream",
     "text": [
      "Create new experiment folder : /home/kaicohrs/Repositories/dml-4-fluxes/results/FPDML_FI-Hyy_2023-02-01_5\n",
      "Value(True)\n"
     ]
    }
   ],
   "source": [
    "exp = experiment.FluxPartDML()\n",
    "exp.new(site)\n",
    "exp.configs(experiment_config, dataset_config, model_configs)\n",
    "exp.prepare_data()"
   ]
  },
  {
   "cell_type": "code",
   "execution_count": 9,
   "id": "09c063e6",
   "metadata": {},
   "outputs": [
    {
     "name": "stdout",
     "output_type": "stream",
     "text": [
      "1996\n"
     ]
    },
    {
     "name": "stderr",
     "output_type": "stream",
     "text": [
      "\n",
      "A value is trying to be set on a copy of a slice from a DataFrame.\n",
      "Try using .loc[row_indexer,col_indexer] = value instead\n",
      "\n",
      "See the caveats in the documentation: https://pandas.pydata.org/pandas-docs/stable/user_guide/indexing.html#returning-a-view-versus-a-copy\n",
      "\n",
      "A value is trying to be set on a copy of a slice from a DataFrame.\n",
      "Try using .loc[row_indexer,col_indexer] = value instead\n",
      "\n",
      "See the caveats in the documentation: https://pandas.pydata.org/pandas-docs/stable/user_guide/indexing.html#returning-a-view-versus-a-copy\n",
      "\n",
      "A value is trying to be set on a copy of a slice from a DataFrame.\n",
      "Try using .loc[row_indexer,col_indexer] = value instead\n",
      "\n",
      "See the caveats in the documentation: https://pandas.pydata.org/pandas-docs/stable/user_guide/indexing.html#returning-a-view-versus-a-copy\n"
     ]
    },
    {
     "name": "stdout",
     "output_type": "stream",
     "text": [
      "1997\n"
     ]
    },
    {
     "name": "stderr",
     "output_type": "stream",
     "text": [
      "\n",
      "A value is trying to be set on a copy of a slice from a DataFrame.\n",
      "Try using .loc[row_indexer,col_indexer] = value instead\n",
      "\n",
      "See the caveats in the documentation: https://pandas.pydata.org/pandas-docs/stable/user_guide/indexing.html#returning-a-view-versus-a-copy\n",
      "\n",
      "A value is trying to be set on a copy of a slice from a DataFrame.\n",
      "Try using .loc[row_indexer,col_indexer] = value instead\n",
      "\n",
      "See the caveats in the documentation: https://pandas.pydata.org/pandas-docs/stable/user_guide/indexing.html#returning-a-view-versus-a-copy\n",
      "\n",
      "A value is trying to be set on a copy of a slice from a DataFrame.\n",
      "Try using .loc[row_indexer,col_indexer] = value instead\n",
      "\n",
      "See the caveats in the documentation: https://pandas.pydata.org/pandas-docs/stable/user_guide/indexing.html#returning-a-view-versus-a-copy\n"
     ]
    },
    {
     "name": "stdout",
     "output_type": "stream",
     "text": [
      "1998\n"
     ]
    },
    {
     "name": "stderr",
     "output_type": "stream",
     "text": [
      "\n",
      "A value is trying to be set on a copy of a slice from a DataFrame.\n",
      "Try using .loc[row_indexer,col_indexer] = value instead\n",
      "\n",
      "See the caveats in the documentation: https://pandas.pydata.org/pandas-docs/stable/user_guide/indexing.html#returning-a-view-versus-a-copy\n",
      "\n",
      "A value is trying to be set on a copy of a slice from a DataFrame.\n",
      "Try using .loc[row_indexer,col_indexer] = value instead\n",
      "\n",
      "See the caveats in the documentation: https://pandas.pydata.org/pandas-docs/stable/user_guide/indexing.html#returning-a-view-versus-a-copy\n",
      "\n",
      "A value is trying to be set on a copy of a slice from a DataFrame.\n",
      "Try using .loc[row_indexer,col_indexer] = value instead\n",
      "\n",
      "See the caveats in the documentation: https://pandas.pydata.org/pandas-docs/stable/user_guide/indexing.html#returning-a-view-versus-a-copy\n"
     ]
    },
    {
     "name": "stdout",
     "output_type": "stream",
     "text": [
      "1999\n"
     ]
    },
    {
     "name": "stderr",
     "output_type": "stream",
     "text": [
      "\n",
      "A value is trying to be set on a copy of a slice from a DataFrame.\n",
      "Try using .loc[row_indexer,col_indexer] = value instead\n",
      "\n",
      "See the caveats in the documentation: https://pandas.pydata.org/pandas-docs/stable/user_guide/indexing.html#returning-a-view-versus-a-copy\n",
      "\n",
      "A value is trying to be set on a copy of a slice from a DataFrame.\n",
      "Try using .loc[row_indexer,col_indexer] = value instead\n",
      "\n",
      "See the caveats in the documentation: https://pandas.pydata.org/pandas-docs/stable/user_guide/indexing.html#returning-a-view-versus-a-copy\n",
      "\n",
      "A value is trying to be set on a copy of a slice from a DataFrame.\n",
      "Try using .loc[row_indexer,col_indexer] = value instead\n",
      "\n",
      "See the caveats in the documentation: https://pandas.pydata.org/pandas-docs/stable/user_guide/indexing.html#returning-a-view-versus-a-copy\n"
     ]
    },
    {
     "name": "stdout",
     "output_type": "stream",
     "text": [
      "2000\n"
     ]
    },
    {
     "name": "stderr",
     "output_type": "stream",
     "text": [
      "\n",
      "A value is trying to be set on a copy of a slice from a DataFrame.\n",
      "Try using .loc[row_indexer,col_indexer] = value instead\n",
      "\n",
      "See the caveats in the documentation: https://pandas.pydata.org/pandas-docs/stable/user_guide/indexing.html#returning-a-view-versus-a-copy\n",
      "\n",
      "A value is trying to be set on a copy of a slice from a DataFrame.\n",
      "Try using .loc[row_indexer,col_indexer] = value instead\n",
      "\n",
      "See the caveats in the documentation: https://pandas.pydata.org/pandas-docs/stable/user_guide/indexing.html#returning-a-view-versus-a-copy\n",
      "\n",
      "A value is trying to be set on a copy of a slice from a DataFrame.\n",
      "Try using .loc[row_indexer,col_indexer] = value instead\n",
      "\n",
      "See the caveats in the documentation: https://pandas.pydata.org/pandas-docs/stable/user_guide/indexing.html#returning-a-view-versus-a-copy\n"
     ]
    },
    {
     "name": "stdout",
     "output_type": "stream",
     "text": [
      "2001\n"
     ]
    },
    {
     "name": "stderr",
     "output_type": "stream",
     "text": [
      "\n",
      "A value is trying to be set on a copy of a slice from a DataFrame.\n",
      "Try using .loc[row_indexer,col_indexer] = value instead\n",
      "\n",
      "See the caveats in the documentation: https://pandas.pydata.org/pandas-docs/stable/user_guide/indexing.html#returning-a-view-versus-a-copy\n",
      "\n",
      "A value is trying to be set on a copy of a slice from a DataFrame.\n",
      "Try using .loc[row_indexer,col_indexer] = value instead\n",
      "\n",
      "See the caveats in the documentation: https://pandas.pydata.org/pandas-docs/stable/user_guide/indexing.html#returning-a-view-versus-a-copy\n",
      "\n",
      "A value is trying to be set on a copy of a slice from a DataFrame.\n",
      "Try using .loc[row_indexer,col_indexer] = value instead\n",
      "\n",
      "See the caveats in the documentation: https://pandas.pydata.org/pandas-docs/stable/user_guide/indexing.html#returning-a-view-versus-a-copy\n"
     ]
    },
    {
     "name": "stdout",
     "output_type": "stream",
     "text": [
      "2002\n"
     ]
    },
    {
     "name": "stderr",
     "output_type": "stream",
     "text": [
      "\n",
      "A value is trying to be set on a copy of a slice from a DataFrame.\n",
      "Try using .loc[row_indexer,col_indexer] = value instead\n",
      "\n",
      "See the caveats in the documentation: https://pandas.pydata.org/pandas-docs/stable/user_guide/indexing.html#returning-a-view-versus-a-copy\n",
      "\n",
      "A value is trying to be set on a copy of a slice from a DataFrame.\n",
      "Try using .loc[row_indexer,col_indexer] = value instead\n",
      "\n",
      "See the caveats in the documentation: https://pandas.pydata.org/pandas-docs/stable/user_guide/indexing.html#returning-a-view-versus-a-copy\n",
      "\n",
      "A value is trying to be set on a copy of a slice from a DataFrame.\n",
      "Try using .loc[row_indexer,col_indexer] = value instead\n",
      "\n",
      "See the caveats in the documentation: https://pandas.pydata.org/pandas-docs/stable/user_guide/indexing.html#returning-a-view-versus-a-copy\n"
     ]
    },
    {
     "name": "stdout",
     "output_type": "stream",
     "text": [
      "2003\n"
     ]
    },
    {
     "name": "stderr",
     "output_type": "stream",
     "text": [
      "\n",
      "A value is trying to be set on a copy of a slice from a DataFrame.\n",
      "Try using .loc[row_indexer,col_indexer] = value instead\n",
      "\n",
      "See the caveats in the documentation: https://pandas.pydata.org/pandas-docs/stable/user_guide/indexing.html#returning-a-view-versus-a-copy\n",
      "\n",
      "A value is trying to be set on a copy of a slice from a DataFrame.\n",
      "Try using .loc[row_indexer,col_indexer] = value instead\n",
      "\n",
      "See the caveats in the documentation: https://pandas.pydata.org/pandas-docs/stable/user_guide/indexing.html#returning-a-view-versus-a-copy\n",
      "\n",
      "A value is trying to be set on a copy of a slice from a DataFrame.\n",
      "Try using .loc[row_indexer,col_indexer] = value instead\n",
      "\n",
      "See the caveats in the documentation: https://pandas.pydata.org/pandas-docs/stable/user_guide/indexing.html#returning-a-view-versus-a-copy\n"
     ]
    },
    {
     "name": "stdout",
     "output_type": "stream",
     "text": [
      "2004\n"
     ]
    },
    {
     "name": "stderr",
     "output_type": "stream",
     "text": [
      "\n",
      "A value is trying to be set on a copy of a slice from a DataFrame.\n",
      "Try using .loc[row_indexer,col_indexer] = value instead\n",
      "\n",
      "See the caveats in the documentation: https://pandas.pydata.org/pandas-docs/stable/user_guide/indexing.html#returning-a-view-versus-a-copy\n",
      "\n",
      "A value is trying to be set on a copy of a slice from a DataFrame.\n",
      "Try using .loc[row_indexer,col_indexer] = value instead\n",
      "\n",
      "See the caveats in the documentation: https://pandas.pydata.org/pandas-docs/stable/user_guide/indexing.html#returning-a-view-versus-a-copy\n",
      "\n",
      "A value is trying to be set on a copy of a slice from a DataFrame.\n",
      "Try using .loc[row_indexer,col_indexer] = value instead\n",
      "\n",
      "See the caveats in the documentation: https://pandas.pydata.org/pandas-docs/stable/user_guide/indexing.html#returning-a-view-versus-a-copy\n"
     ]
    },
    {
     "name": "stdout",
     "output_type": "stream",
     "text": [
      "2005\n"
     ]
    },
    {
     "name": "stderr",
     "output_type": "stream",
     "text": [
      "\n",
      "A value is trying to be set on a copy of a slice from a DataFrame.\n",
      "Try using .loc[row_indexer,col_indexer] = value instead\n",
      "\n",
      "See the caveats in the documentation: https://pandas.pydata.org/pandas-docs/stable/user_guide/indexing.html#returning-a-view-versus-a-copy\n",
      "\n",
      "A value is trying to be set on a copy of a slice from a DataFrame.\n",
      "Try using .loc[row_indexer,col_indexer] = value instead\n",
      "\n",
      "See the caveats in the documentation: https://pandas.pydata.org/pandas-docs/stable/user_guide/indexing.html#returning-a-view-versus-a-copy\n",
      "\n",
      "A value is trying to be set on a copy of a slice from a DataFrame.\n",
      "Try using .loc[row_indexer,col_indexer] = value instead\n",
      "\n",
      "See the caveats in the documentation: https://pandas.pydata.org/pandas-docs/stable/user_guide/indexing.html#returning-a-view-versus-a-copy\n"
     ]
    },
    {
     "name": "stdout",
     "output_type": "stream",
     "text": [
      "2006\n"
     ]
    },
    {
     "name": "stderr",
     "output_type": "stream",
     "text": [
      "\n",
      "A value is trying to be set on a copy of a slice from a DataFrame.\n",
      "Try using .loc[row_indexer,col_indexer] = value instead\n",
      "\n",
      "See the caveats in the documentation: https://pandas.pydata.org/pandas-docs/stable/user_guide/indexing.html#returning-a-view-versus-a-copy\n",
      "\n",
      "A value is trying to be set on a copy of a slice from a DataFrame.\n",
      "Try using .loc[row_indexer,col_indexer] = value instead\n",
      "\n",
      "See the caveats in the documentation: https://pandas.pydata.org/pandas-docs/stable/user_guide/indexing.html#returning-a-view-versus-a-copy\n",
      "\n",
      "A value is trying to be set on a copy of a slice from a DataFrame.\n",
      "Try using .loc[row_indexer,col_indexer] = value instead\n",
      "\n",
      "See the caveats in the documentation: https://pandas.pydata.org/pandas-docs/stable/user_guide/indexing.html#returning-a-view-versus-a-copy\n"
     ]
    },
    {
     "name": "stdout",
     "output_type": "stream",
     "text": [
      "2007\n"
     ]
    },
    {
     "name": "stderr",
     "output_type": "stream",
     "text": [
      "\n",
      "A value is trying to be set on a copy of a slice from a DataFrame.\n",
      "Try using .loc[row_indexer,col_indexer] = value instead\n",
      "\n",
      "See the caveats in the documentation: https://pandas.pydata.org/pandas-docs/stable/user_guide/indexing.html#returning-a-view-versus-a-copy\n",
      "\n",
      "A value is trying to be set on a copy of a slice from a DataFrame.\n",
      "Try using .loc[row_indexer,col_indexer] = value instead\n",
      "\n",
      "See the caveats in the documentation: https://pandas.pydata.org/pandas-docs/stable/user_guide/indexing.html#returning-a-view-versus-a-copy\n",
      "\n",
      "A value is trying to be set on a copy of a slice from a DataFrame.\n",
      "Try using .loc[row_indexer,col_indexer] = value instead\n",
      "\n",
      "See the caveats in the documentation: https://pandas.pydata.org/pandas-docs/stable/user_guide/indexing.html#returning-a-view-versus-a-copy\n"
     ]
    },
    {
     "name": "stdout",
     "output_type": "stream",
     "text": [
      "2008\n"
     ]
    },
    {
     "name": "stderr",
     "output_type": "stream",
     "text": [
      "\n",
      "A value is trying to be set on a copy of a slice from a DataFrame.\n",
      "Try using .loc[row_indexer,col_indexer] = value instead\n",
      "\n",
      "See the caveats in the documentation: https://pandas.pydata.org/pandas-docs/stable/user_guide/indexing.html#returning-a-view-versus-a-copy\n",
      "\n",
      "A value is trying to be set on a copy of a slice from a DataFrame.\n",
      "Try using .loc[row_indexer,col_indexer] = value instead\n",
      "\n",
      "See the caveats in the documentation: https://pandas.pydata.org/pandas-docs/stable/user_guide/indexing.html#returning-a-view-versus-a-copy\n",
      "\n",
      "A value is trying to be set on a copy of a slice from a DataFrame.\n",
      "Try using .loc[row_indexer,col_indexer] = value instead\n",
      "\n",
      "See the caveats in the documentation: https://pandas.pydata.org/pandas-docs/stable/user_guide/indexing.html#returning-a-view-versus-a-copy\n"
     ]
    },
    {
     "name": "stdout",
     "output_type": "stream",
     "text": [
      "2009\n"
     ]
    },
    {
     "name": "stderr",
     "output_type": "stream",
     "text": [
      "\n",
      "A value is trying to be set on a copy of a slice from a DataFrame.\n",
      "Try using .loc[row_indexer,col_indexer] = value instead\n",
      "\n",
      "See the caveats in the documentation: https://pandas.pydata.org/pandas-docs/stable/user_guide/indexing.html#returning-a-view-versus-a-copy\n",
      "\n",
      "A value is trying to be set on a copy of a slice from a DataFrame.\n",
      "Try using .loc[row_indexer,col_indexer] = value instead\n",
      "\n",
      "See the caveats in the documentation: https://pandas.pydata.org/pandas-docs/stable/user_guide/indexing.html#returning-a-view-versus-a-copy\n",
      "\n",
      "A value is trying to be set on a copy of a slice from a DataFrame.\n",
      "Try using .loc[row_indexer,col_indexer] = value instead\n",
      "\n",
      "See the caveats in the documentation: https://pandas.pydata.org/pandas-docs/stable/user_guide/indexing.html#returning-a-view-versus-a-copy\n"
     ]
    },
    {
     "name": "stdout",
     "output_type": "stream",
     "text": [
      "2010\n"
     ]
    },
    {
     "name": "stderr",
     "output_type": "stream",
     "text": [
      "\n",
      "A value is trying to be set on a copy of a slice from a DataFrame.\n",
      "Try using .loc[row_indexer,col_indexer] = value instead\n",
      "\n",
      "See the caveats in the documentation: https://pandas.pydata.org/pandas-docs/stable/user_guide/indexing.html#returning-a-view-versus-a-copy\n",
      "\n",
      "A value is trying to be set on a copy of a slice from a DataFrame.\n",
      "Try using .loc[row_indexer,col_indexer] = value instead\n",
      "\n",
      "See the caveats in the documentation: https://pandas.pydata.org/pandas-docs/stable/user_guide/indexing.html#returning-a-view-versus-a-copy\n",
      "\n",
      "A value is trying to be set on a copy of a slice from a DataFrame.\n",
      "Try using .loc[row_indexer,col_indexer] = value instead\n",
      "\n",
      "See the caveats in the documentation: https://pandas.pydata.org/pandas-docs/stable/user_guide/indexing.html#returning-a-view-versus-a-copy\n"
     ]
    },
    {
     "name": "stdout",
     "output_type": "stream",
     "text": [
      "2011\n"
     ]
    },
    {
     "name": "stderr",
     "output_type": "stream",
     "text": [
      "\n",
      "A value is trying to be set on a copy of a slice from a DataFrame.\n",
      "Try using .loc[row_indexer,col_indexer] = value instead\n",
      "\n",
      "See the caveats in the documentation: https://pandas.pydata.org/pandas-docs/stable/user_guide/indexing.html#returning-a-view-versus-a-copy\n",
      "\n",
      "A value is trying to be set on a copy of a slice from a DataFrame.\n",
      "Try using .loc[row_indexer,col_indexer] = value instead\n",
      "\n",
      "See the caveats in the documentation: https://pandas.pydata.org/pandas-docs/stable/user_guide/indexing.html#returning-a-view-versus-a-copy\n",
      "\n",
      "A value is trying to be set on a copy of a slice from a DataFrame.\n",
      "Try using .loc[row_indexer,col_indexer] = value instead\n",
      "\n",
      "See the caveats in the documentation: https://pandas.pydata.org/pandas-docs/stable/user_guide/indexing.html#returning-a-view-versus-a-copy\n"
     ]
    },
    {
     "name": "stdout",
     "output_type": "stream",
     "text": [
      "2012\n"
     ]
    },
    {
     "name": "stderr",
     "output_type": "stream",
     "text": [
      "\n",
      "A value is trying to be set on a copy of a slice from a DataFrame.\n",
      "Try using .loc[row_indexer,col_indexer] = value instead\n",
      "\n",
      "See the caveats in the documentation: https://pandas.pydata.org/pandas-docs/stable/user_guide/indexing.html#returning-a-view-versus-a-copy\n",
      "\n",
      "A value is trying to be set on a copy of a slice from a DataFrame.\n",
      "Try using .loc[row_indexer,col_indexer] = value instead\n",
      "\n",
      "See the caveats in the documentation: https://pandas.pydata.org/pandas-docs/stable/user_guide/indexing.html#returning-a-view-versus-a-copy\n",
      "\n",
      "A value is trying to be set on a copy of a slice from a DataFrame.\n",
      "Try using .loc[row_indexer,col_indexer] = value instead\n",
      "\n",
      "See the caveats in the documentation: https://pandas.pydata.org/pandas-docs/stable/user_guide/indexing.html#returning-a-view-versus-a-copy\n"
     ]
    },
    {
     "name": "stdout",
     "output_type": "stream",
     "text": [
      "2013\n"
     ]
    },
    {
     "name": "stderr",
     "output_type": "stream",
     "text": [
      "\n",
      "A value is trying to be set on a copy of a slice from a DataFrame.\n",
      "Try using .loc[row_indexer,col_indexer] = value instead\n",
      "\n",
      "See the caveats in the documentation: https://pandas.pydata.org/pandas-docs/stable/user_guide/indexing.html#returning-a-view-versus-a-copy\n",
      "\n",
      "A value is trying to be set on a copy of a slice from a DataFrame.\n",
      "Try using .loc[row_indexer,col_indexer] = value instead\n",
      "\n",
      "See the caveats in the documentation: https://pandas.pydata.org/pandas-docs/stable/user_guide/indexing.html#returning-a-view-versus-a-copy\n",
      "\n",
      "A value is trying to be set on a copy of a slice from a DataFrame.\n",
      "Try using .loc[row_indexer,col_indexer] = value instead\n",
      "\n",
      "See the caveats in the documentation: https://pandas.pydata.org/pandas-docs/stable/user_guide/indexing.html#returning-a-view-versus-a-copy\n"
     ]
    },
    {
     "name": "stdout",
     "output_type": "stream",
     "text": [
      "2014\n"
     ]
    },
    {
     "name": "stderr",
     "output_type": "stream",
     "text": [
      "\n",
      "A value is trying to be set on a copy of a slice from a DataFrame.\n",
      "Try using .loc[row_indexer,col_indexer] = value instead\n",
      "\n",
      "See the caveats in the documentation: https://pandas.pydata.org/pandas-docs/stable/user_guide/indexing.html#returning-a-view-versus-a-copy\n",
      "\n",
      "A value is trying to be set on a copy of a slice from a DataFrame.\n",
      "Try using .loc[row_indexer,col_indexer] = value instead\n",
      "\n",
      "See the caveats in the documentation: https://pandas.pydata.org/pandas-docs/stable/user_guide/indexing.html#returning-a-view-versus-a-copy\n",
      "\n",
      "A value is trying to be set on a copy of a slice from a DataFrame.\n",
      "Try using .loc[row_indexer,col_indexer] = value instead\n",
      "\n",
      "See the caveats in the documentation: https://pandas.pydata.org/pandas-docs/stable/user_guide/indexing.html#returning-a-view-versus-a-copy\n"
     ]
    }
   ],
   "source": [
    "exp.fit_models()"
   ]
  },
  {
   "cell_type": "code",
   "execution_count": 31,
   "id": "104b0994",
   "metadata": {},
   "outputs": [],
   "source": [
    "data['SW_POT_sm'] = sw_pot_sm(data)\n",
    "data['SW_POT_sm_diff'] = sw_pot_sm_diff(data)\n",
    "data['CWD'] = wdefcum(data)\n",
    "data['SW_ratio'] = diffuse_to_direct_rad(data)\n",
    "data[\"doy\"] = pd.to_datetime(data['DateTime']).dt.dayofyear\n",
    "data[\"tod\"] = pd.to_datetime(data['DateTime']).dt.hour*60 + pd.to_datetime(data['DateTime']).dt.minute\n",
    "data[\"doy_sin\"], data[\"doy_cos\"] = make_cyclic(data[\"doy\"])\n",
    "data[\"tod_sin\"], data[\"tod_cos\"] = make_cyclic(data[\"tod\"])\n",
    "\n",
    "data['NEE_NT'] = -data['GPP_NT'] + data['RECO_NT']\n",
    "data['NEE_DT'] = -data['GPP_DT'] + data['RECO_DT']\n",
    "\n",
    "# Reduce variables to the ones also available\n",
    "W_var = check_available_variables(['TA', 'CWD','VPD'], data.columns)\n",
    "X_var = check_available_variables(['SW_POT_sm','SW_POT_sm_diff'], data.columns)\n",
    "\n",
    "# Generate mask for quality of all data to be used.\n",
    "data['QC'] = quality_check(data, X_var + W_var + ['SW_IN'])\n",
    "\n",
    "# Drop problematic rows\n",
    "data = data.replace(-9999, np.nan)\n",
    "data = data[~pd.isna(data[X_var + W_var + ['SW_IN'] + ['NEE']]).any(axis=1)]\n"
   ]
  },
  {
   "cell_type": "code",
   "execution_count": 46,
   "id": "60775895",
   "metadata": {},
   "outputs": [],
   "source": [
    "data = data[~pd.isna(data[X_var + W_var]).any(axis=1)]"
   ]
  },
  {
   "cell_type": "code",
   "execution_count": 81,
   "id": "3714c9d0",
   "metadata": {},
   "outputs": [],
   "source": [
    "liste = [2013, 2014, 2003]"
   ]
  },
  {
   "cell_type": "code",
   "execution_count": 86,
   "id": "4cada94d",
   "metadata": {},
   "outputs": [
    {
     "data": {
      "text/plain": [
       "<function list.sort(*, key=None, reverse=False)>"
      ]
     },
     "execution_count": 86,
     "metadata": {},
     "output_type": "execute_result"
    }
   ],
   "source": [
    "liste.sort"
   ]
  },
  {
   "cell_type": "code",
   "execution_count": 88,
   "id": "3e87e18c",
   "metadata": {},
   "outputs": [],
   "source": [
    "liste.append(liste[-1])"
   ]
  },
  {
   "cell_type": "code",
   "execution_count": 89,
   "id": "3761dbed",
   "metadata": {},
   "outputs": [
    {
     "data": {
      "image/png": "[encoded data removed]",
      "text/latex": [
       "$\\displaystyle \\left[ 2003, \\  2013, \\  2014, \\  2014\\right]$"
      ],
      "text/plain": [
       "[2003, 2013, 2014, 2014]"
      ]
     },
     "execution_count": 89,
     "metadata": {},
     "output_type": "execute_result"
    }
   ],
   "source": [
    "liste"
   ]
  },
  {
   "cell_type": "code",
   "execution_count": null,
   "id": "f1bece12",
   "metadata": {},
   "outputs": [],
   "source": []
  }
 ],
 "metadata": {
  "kernelspec": {
   "display_name": "Python 3.8.13 ('dml-4-fluxes')",
   "language": "python",
   "name": "python3"
  },
  "language_info": {
   "codemirror_mode": {
    "name": "ipython",
    "version": 3
   },
   "file_extension": ".py",
   "mimetype": "text/x-python",
   "name": "python",
   "nbconvert_exporter": "python",
   "pygments_lexer": "ipython3",
   "version": "3.8.13"
  },
  "vscode": {
   "interpreter": {
    "hash": "c7bea0136196040c7dea2238c2533c3e9e10a901fb17e10b9b26d24d42fb9e38"
   }
  }
 },
 "nbformat": 4,
 "nbformat_minor": 5
}
